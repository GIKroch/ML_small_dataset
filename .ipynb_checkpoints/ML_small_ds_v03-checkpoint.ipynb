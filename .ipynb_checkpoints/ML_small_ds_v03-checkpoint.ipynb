{
 "cells": [
  {
   "cell_type": "markdown",
   "metadata": {},
   "source": [
    "# Grzegorz Krochmal and Katarzyna Kryńska\n",
    "## *Predicting house prices*"
   ]
  },
  {
   "cell_type": "markdown",
   "metadata": {},
   "source": [
    "# Introduction"
   ]
  },
  {
   "cell_type": "markdown",
   "metadata": {},
   "source": [
    "In our research we will try to predict the final price of house based on numerous explanatory variables that are both numerical and categorical. We will use three regression methods (linear regression, ridge regression and lasso regression) and compare their accuracy."
   ]
  },
  {
   "cell_type": "code",
   "execution_count": 1,
   "metadata": {},
   "outputs": [],
   "source": [
    "import pandas as pd \n",
    "import numpy as np\n",
    "import matplotlib.pyplot as plt\n",
    "import seaborn as sns\n",
    "import scipy.stats as ss\n",
    "import statsmodels.api as sm\n",
    "import warnings\n",
    "warnings.filterwarnings(\"ignore\")\n",
    "from sklearn.feature_selection import VarianceThreshold, f_regression\n",
    "from sklearn.linear_model import LinearRegression, Lasso, Ridge\n",
    "from sklearn.model_selection import train_test_split, GridSearchCV\n",
    "from sklearn.model_selection import KFold\n",
    "import collections\n",
    "%matplotlib inline\n",
    "from yellowbrick.regressor import ResidualsPlot\n",
    "import sklearn.metrics as metrics"
   ]
  },
  {
   "cell_type": "markdown",
   "metadata": {},
   "source": [
    "# 1. Data Overview"
   ]
  },
  {
   "cell_type": "markdown",
   "metadata": {},
   "source": [
    "Our dataset comes from a popular kaggle competition (4,759 teams and counting)[<sup>1</sup>](#fn1). The dataset consists of 79 explanatory variables that describe aspects of residential homes in Ames, Iowa.\n",
    "<span id=\"fn1\"> https://www.kaggle.com/c/house-prices-advanced-regression-techniques/overview/description</span>"
   ]
  },
  {
   "cell_type": "code",
   "execution_count": 2,
   "metadata": {},
   "outputs": [],
   "source": [
    "# Import data\n",
    "data = pd.read_csv(\"train.csv\")"
   ]
  },
  {
   "cell_type": "markdown",
   "metadata": {},
   "source": [
    "At first we have a brief look at the initial form of our data, so to get sense how we should prepare our data to make it suitable for the modelling\n"
   ]
  },
  {
   "cell_type": "code",
   "execution_count": 3,
   "metadata": {
    "scrolled": true
   },
   "outputs": [
    {
     "data": {
      "text/html": [
       "<div>\n",
       "<style scoped>\n",
       "    .dataframe tbody tr th:only-of-type {\n",
       "        vertical-align: middle;\n",
       "    }\n",
       "\n",
       "    .dataframe tbody tr th {\n",
       "        vertical-align: top;\n",
       "    }\n",
       "\n",
       "    .dataframe thead th {\n",
       "        text-align: right;\n",
       "    }\n",
       "</style>\n",
       "<table border=\"1\" class=\"dataframe\">\n",
       "  <thead>\n",
       "    <tr style=\"text-align: right;\">\n",
       "      <th></th>\n",
       "      <th>Id</th>\n",
       "      <th>MSSubClass</th>\n",
       "      <th>MSZoning</th>\n",
       "      <th>LotFrontage</th>\n",
       "      <th>LotArea</th>\n",
       "      <th>Street</th>\n",
       "      <th>Alley</th>\n",
       "      <th>LotShape</th>\n",
       "      <th>LandContour</th>\n",
       "      <th>Utilities</th>\n",
       "      <th>...</th>\n",
       "      <th>PoolArea</th>\n",
       "      <th>PoolQC</th>\n",
       "      <th>Fence</th>\n",
       "      <th>MiscFeature</th>\n",
       "      <th>MiscVal</th>\n",
       "      <th>MoSold</th>\n",
       "      <th>YrSold</th>\n",
       "      <th>SaleType</th>\n",
       "      <th>SaleCondition</th>\n",
       "      <th>SalePrice</th>\n",
       "    </tr>\n",
       "  </thead>\n",
       "  <tbody>\n",
       "    <tr>\n",
       "      <th>0</th>\n",
       "      <td>1</td>\n",
       "      <td>60</td>\n",
       "      <td>RL</td>\n",
       "      <td>65.0</td>\n",
       "      <td>8450</td>\n",
       "      <td>Pave</td>\n",
       "      <td>NaN</td>\n",
       "      <td>Reg</td>\n",
       "      <td>Lvl</td>\n",
       "      <td>AllPub</td>\n",
       "      <td>...</td>\n",
       "      <td>0</td>\n",
       "      <td>NaN</td>\n",
       "      <td>NaN</td>\n",
       "      <td>NaN</td>\n",
       "      <td>0</td>\n",
       "      <td>2</td>\n",
       "      <td>2008</td>\n",
       "      <td>WD</td>\n",
       "      <td>Normal</td>\n",
       "      <td>208500</td>\n",
       "    </tr>\n",
       "    <tr>\n",
       "      <th>1</th>\n",
       "      <td>2</td>\n",
       "      <td>20</td>\n",
       "      <td>RL</td>\n",
       "      <td>80.0</td>\n",
       "      <td>9600</td>\n",
       "      <td>Pave</td>\n",
       "      <td>NaN</td>\n",
       "      <td>Reg</td>\n",
       "      <td>Lvl</td>\n",
       "      <td>AllPub</td>\n",
       "      <td>...</td>\n",
       "      <td>0</td>\n",
       "      <td>NaN</td>\n",
       "      <td>NaN</td>\n",
       "      <td>NaN</td>\n",
       "      <td>0</td>\n",
       "      <td>5</td>\n",
       "      <td>2007</td>\n",
       "      <td>WD</td>\n",
       "      <td>Normal</td>\n",
       "      <td>181500</td>\n",
       "    </tr>\n",
       "    <tr>\n",
       "      <th>2</th>\n",
       "      <td>3</td>\n",
       "      <td>60</td>\n",
       "      <td>RL</td>\n",
       "      <td>68.0</td>\n",
       "      <td>11250</td>\n",
       "      <td>Pave</td>\n",
       "      <td>NaN</td>\n",
       "      <td>IR1</td>\n",
       "      <td>Lvl</td>\n",
       "      <td>AllPub</td>\n",
       "      <td>...</td>\n",
       "      <td>0</td>\n",
       "      <td>NaN</td>\n",
       "      <td>NaN</td>\n",
       "      <td>NaN</td>\n",
       "      <td>0</td>\n",
       "      <td>9</td>\n",
       "      <td>2008</td>\n",
       "      <td>WD</td>\n",
       "      <td>Normal</td>\n",
       "      <td>223500</td>\n",
       "    </tr>\n",
       "    <tr>\n",
       "      <th>3</th>\n",
       "      <td>4</td>\n",
       "      <td>70</td>\n",
       "      <td>RL</td>\n",
       "      <td>60.0</td>\n",
       "      <td>9550</td>\n",
       "      <td>Pave</td>\n",
       "      <td>NaN</td>\n",
       "      <td>IR1</td>\n",
       "      <td>Lvl</td>\n",
       "      <td>AllPub</td>\n",
       "      <td>...</td>\n",
       "      <td>0</td>\n",
       "      <td>NaN</td>\n",
       "      <td>NaN</td>\n",
       "      <td>NaN</td>\n",
       "      <td>0</td>\n",
       "      <td>2</td>\n",
       "      <td>2006</td>\n",
       "      <td>WD</td>\n",
       "      <td>Abnorml</td>\n",
       "      <td>140000</td>\n",
       "    </tr>\n",
       "    <tr>\n",
       "      <th>4</th>\n",
       "      <td>5</td>\n",
       "      <td>60</td>\n",
       "      <td>RL</td>\n",
       "      <td>84.0</td>\n",
       "      <td>14260</td>\n",
       "      <td>Pave</td>\n",
       "      <td>NaN</td>\n",
       "      <td>IR1</td>\n",
       "      <td>Lvl</td>\n",
       "      <td>AllPub</td>\n",
       "      <td>...</td>\n",
       "      <td>0</td>\n",
       "      <td>NaN</td>\n",
       "      <td>NaN</td>\n",
       "      <td>NaN</td>\n",
       "      <td>0</td>\n",
       "      <td>12</td>\n",
       "      <td>2008</td>\n",
       "      <td>WD</td>\n",
       "      <td>Normal</td>\n",
       "      <td>250000</td>\n",
       "    </tr>\n",
       "    <tr>\n",
       "      <th>5</th>\n",
       "      <td>6</td>\n",
       "      <td>50</td>\n",
       "      <td>RL</td>\n",
       "      <td>85.0</td>\n",
       "      <td>14115</td>\n",
       "      <td>Pave</td>\n",
       "      <td>NaN</td>\n",
       "      <td>IR1</td>\n",
       "      <td>Lvl</td>\n",
       "      <td>AllPub</td>\n",
       "      <td>...</td>\n",
       "      <td>0</td>\n",
       "      <td>NaN</td>\n",
       "      <td>MnPrv</td>\n",
       "      <td>Shed</td>\n",
       "      <td>700</td>\n",
       "      <td>10</td>\n",
       "      <td>2009</td>\n",
       "      <td>WD</td>\n",
       "      <td>Normal</td>\n",
       "      <td>143000</td>\n",
       "    </tr>\n",
       "    <tr>\n",
       "      <th>6</th>\n",
       "      <td>7</td>\n",
       "      <td>20</td>\n",
       "      <td>RL</td>\n",
       "      <td>75.0</td>\n",
       "      <td>10084</td>\n",
       "      <td>Pave</td>\n",
       "      <td>NaN</td>\n",
       "      <td>Reg</td>\n",
       "      <td>Lvl</td>\n",
       "      <td>AllPub</td>\n",
       "      <td>...</td>\n",
       "      <td>0</td>\n",
       "      <td>NaN</td>\n",
       "      <td>NaN</td>\n",
       "      <td>NaN</td>\n",
       "      <td>0</td>\n",
       "      <td>8</td>\n",
       "      <td>2007</td>\n",
       "      <td>WD</td>\n",
       "      <td>Normal</td>\n",
       "      <td>307000</td>\n",
       "    </tr>\n",
       "    <tr>\n",
       "      <th>7</th>\n",
       "      <td>8</td>\n",
       "      <td>60</td>\n",
       "      <td>RL</td>\n",
       "      <td>NaN</td>\n",
       "      <td>10382</td>\n",
       "      <td>Pave</td>\n",
       "      <td>NaN</td>\n",
       "      <td>IR1</td>\n",
       "      <td>Lvl</td>\n",
       "      <td>AllPub</td>\n",
       "      <td>...</td>\n",
       "      <td>0</td>\n",
       "      <td>NaN</td>\n",
       "      <td>NaN</td>\n",
       "      <td>Shed</td>\n",
       "      <td>350</td>\n",
       "      <td>11</td>\n",
       "      <td>2009</td>\n",
       "      <td>WD</td>\n",
       "      <td>Normal</td>\n",
       "      <td>200000</td>\n",
       "    </tr>\n",
       "    <tr>\n",
       "      <th>8</th>\n",
       "      <td>9</td>\n",
       "      <td>50</td>\n",
       "      <td>RM</td>\n",
       "      <td>51.0</td>\n",
       "      <td>6120</td>\n",
       "      <td>Pave</td>\n",
       "      <td>NaN</td>\n",
       "      <td>Reg</td>\n",
       "      <td>Lvl</td>\n",
       "      <td>AllPub</td>\n",
       "      <td>...</td>\n",
       "      <td>0</td>\n",
       "      <td>NaN</td>\n",
       "      <td>NaN</td>\n",
       "      <td>NaN</td>\n",
       "      <td>0</td>\n",
       "      <td>4</td>\n",
       "      <td>2008</td>\n",
       "      <td>WD</td>\n",
       "      <td>Abnorml</td>\n",
       "      <td>129900</td>\n",
       "    </tr>\n",
       "    <tr>\n",
       "      <th>9</th>\n",
       "      <td>10</td>\n",
       "      <td>190</td>\n",
       "      <td>RL</td>\n",
       "      <td>50.0</td>\n",
       "      <td>7420</td>\n",
       "      <td>Pave</td>\n",
       "      <td>NaN</td>\n",
       "      <td>Reg</td>\n",
       "      <td>Lvl</td>\n",
       "      <td>AllPub</td>\n",
       "      <td>...</td>\n",
       "      <td>0</td>\n",
       "      <td>NaN</td>\n",
       "      <td>NaN</td>\n",
       "      <td>NaN</td>\n",
       "      <td>0</td>\n",
       "      <td>1</td>\n",
       "      <td>2008</td>\n",
       "      <td>WD</td>\n",
       "      <td>Normal</td>\n",
       "      <td>118000</td>\n",
       "    </tr>\n",
       "    <tr>\n",
       "      <th>10</th>\n",
       "      <td>11</td>\n",
       "      <td>20</td>\n",
       "      <td>RL</td>\n",
       "      <td>70.0</td>\n",
       "      <td>11200</td>\n",
       "      <td>Pave</td>\n",
       "      <td>NaN</td>\n",
       "      <td>Reg</td>\n",
       "      <td>Lvl</td>\n",
       "      <td>AllPub</td>\n",
       "      <td>...</td>\n",
       "      <td>0</td>\n",
       "      <td>NaN</td>\n",
       "      <td>NaN</td>\n",
       "      <td>NaN</td>\n",
       "      <td>0</td>\n",
       "      <td>2</td>\n",
       "      <td>2008</td>\n",
       "      <td>WD</td>\n",
       "      <td>Normal</td>\n",
       "      <td>129500</td>\n",
       "    </tr>\n",
       "    <tr>\n",
       "      <th>11</th>\n",
       "      <td>12</td>\n",
       "      <td>60</td>\n",
       "      <td>RL</td>\n",
       "      <td>85.0</td>\n",
       "      <td>11924</td>\n",
       "      <td>Pave</td>\n",
       "      <td>NaN</td>\n",
       "      <td>IR1</td>\n",
       "      <td>Lvl</td>\n",
       "      <td>AllPub</td>\n",
       "      <td>...</td>\n",
       "      <td>0</td>\n",
       "      <td>NaN</td>\n",
       "      <td>NaN</td>\n",
       "      <td>NaN</td>\n",
       "      <td>0</td>\n",
       "      <td>7</td>\n",
       "      <td>2006</td>\n",
       "      <td>New</td>\n",
       "      <td>Partial</td>\n",
       "      <td>345000</td>\n",
       "    </tr>\n",
       "    <tr>\n",
       "      <th>12</th>\n",
       "      <td>13</td>\n",
       "      <td>20</td>\n",
       "      <td>RL</td>\n",
       "      <td>NaN</td>\n",
       "      <td>12968</td>\n",
       "      <td>Pave</td>\n",
       "      <td>NaN</td>\n",
       "      <td>IR2</td>\n",
       "      <td>Lvl</td>\n",
       "      <td>AllPub</td>\n",
       "      <td>...</td>\n",
       "      <td>0</td>\n",
       "      <td>NaN</td>\n",
       "      <td>NaN</td>\n",
       "      <td>NaN</td>\n",
       "      <td>0</td>\n",
       "      <td>9</td>\n",
       "      <td>2008</td>\n",
       "      <td>WD</td>\n",
       "      <td>Normal</td>\n",
       "      <td>144000</td>\n",
       "    </tr>\n",
       "    <tr>\n",
       "      <th>13</th>\n",
       "      <td>14</td>\n",
       "      <td>20</td>\n",
       "      <td>RL</td>\n",
       "      <td>91.0</td>\n",
       "      <td>10652</td>\n",
       "      <td>Pave</td>\n",
       "      <td>NaN</td>\n",
       "      <td>IR1</td>\n",
       "      <td>Lvl</td>\n",
       "      <td>AllPub</td>\n",
       "      <td>...</td>\n",
       "      <td>0</td>\n",
       "      <td>NaN</td>\n",
       "      <td>NaN</td>\n",
       "      <td>NaN</td>\n",
       "      <td>0</td>\n",
       "      <td>8</td>\n",
       "      <td>2007</td>\n",
       "      <td>New</td>\n",
       "      <td>Partial</td>\n",
       "      <td>279500</td>\n",
       "    </tr>\n",
       "    <tr>\n",
       "      <th>14</th>\n",
       "      <td>15</td>\n",
       "      <td>20</td>\n",
       "      <td>RL</td>\n",
       "      <td>NaN</td>\n",
       "      <td>10920</td>\n",
       "      <td>Pave</td>\n",
       "      <td>NaN</td>\n",
       "      <td>IR1</td>\n",
       "      <td>Lvl</td>\n",
       "      <td>AllPub</td>\n",
       "      <td>...</td>\n",
       "      <td>0</td>\n",
       "      <td>NaN</td>\n",
       "      <td>GdWo</td>\n",
       "      <td>NaN</td>\n",
       "      <td>0</td>\n",
       "      <td>5</td>\n",
       "      <td>2008</td>\n",
       "      <td>WD</td>\n",
       "      <td>Normal</td>\n",
       "      <td>157000</td>\n",
       "    </tr>\n",
       "    <tr>\n",
       "      <th>15</th>\n",
       "      <td>16</td>\n",
       "      <td>45</td>\n",
       "      <td>RM</td>\n",
       "      <td>51.0</td>\n",
       "      <td>6120</td>\n",
       "      <td>Pave</td>\n",
       "      <td>NaN</td>\n",
       "      <td>Reg</td>\n",
       "      <td>Lvl</td>\n",
       "      <td>AllPub</td>\n",
       "      <td>...</td>\n",
       "      <td>0</td>\n",
       "      <td>NaN</td>\n",
       "      <td>GdPrv</td>\n",
       "      <td>NaN</td>\n",
       "      <td>0</td>\n",
       "      <td>7</td>\n",
       "      <td>2007</td>\n",
       "      <td>WD</td>\n",
       "      <td>Normal</td>\n",
       "      <td>132000</td>\n",
       "    </tr>\n",
       "    <tr>\n",
       "      <th>16</th>\n",
       "      <td>17</td>\n",
       "      <td>20</td>\n",
       "      <td>RL</td>\n",
       "      <td>NaN</td>\n",
       "      <td>11241</td>\n",
       "      <td>Pave</td>\n",
       "      <td>NaN</td>\n",
       "      <td>IR1</td>\n",
       "      <td>Lvl</td>\n",
       "      <td>AllPub</td>\n",
       "      <td>...</td>\n",
       "      <td>0</td>\n",
       "      <td>NaN</td>\n",
       "      <td>NaN</td>\n",
       "      <td>Shed</td>\n",
       "      <td>700</td>\n",
       "      <td>3</td>\n",
       "      <td>2010</td>\n",
       "      <td>WD</td>\n",
       "      <td>Normal</td>\n",
       "      <td>149000</td>\n",
       "    </tr>\n",
       "    <tr>\n",
       "      <th>17</th>\n",
       "      <td>18</td>\n",
       "      <td>90</td>\n",
       "      <td>RL</td>\n",
       "      <td>72.0</td>\n",
       "      <td>10791</td>\n",
       "      <td>Pave</td>\n",
       "      <td>NaN</td>\n",
       "      <td>Reg</td>\n",
       "      <td>Lvl</td>\n",
       "      <td>AllPub</td>\n",
       "      <td>...</td>\n",
       "      <td>0</td>\n",
       "      <td>NaN</td>\n",
       "      <td>NaN</td>\n",
       "      <td>Shed</td>\n",
       "      <td>500</td>\n",
       "      <td>10</td>\n",
       "      <td>2006</td>\n",
       "      <td>WD</td>\n",
       "      <td>Normal</td>\n",
       "      <td>90000</td>\n",
       "    </tr>\n",
       "    <tr>\n",
       "      <th>18</th>\n",
       "      <td>19</td>\n",
       "      <td>20</td>\n",
       "      <td>RL</td>\n",
       "      <td>66.0</td>\n",
       "      <td>13695</td>\n",
       "      <td>Pave</td>\n",
       "      <td>NaN</td>\n",
       "      <td>Reg</td>\n",
       "      <td>Lvl</td>\n",
       "      <td>AllPub</td>\n",
       "      <td>...</td>\n",
       "      <td>0</td>\n",
       "      <td>NaN</td>\n",
       "      <td>NaN</td>\n",
       "      <td>NaN</td>\n",
       "      <td>0</td>\n",
       "      <td>6</td>\n",
       "      <td>2008</td>\n",
       "      <td>WD</td>\n",
       "      <td>Normal</td>\n",
       "      <td>159000</td>\n",
       "    </tr>\n",
       "    <tr>\n",
       "      <th>19</th>\n",
       "      <td>20</td>\n",
       "      <td>20</td>\n",
       "      <td>RL</td>\n",
       "      <td>70.0</td>\n",
       "      <td>7560</td>\n",
       "      <td>Pave</td>\n",
       "      <td>NaN</td>\n",
       "      <td>Reg</td>\n",
       "      <td>Lvl</td>\n",
       "      <td>AllPub</td>\n",
       "      <td>...</td>\n",
       "      <td>0</td>\n",
       "      <td>NaN</td>\n",
       "      <td>MnPrv</td>\n",
       "      <td>NaN</td>\n",
       "      <td>0</td>\n",
       "      <td>5</td>\n",
       "      <td>2009</td>\n",
       "      <td>COD</td>\n",
       "      <td>Abnorml</td>\n",
       "      <td>139000</td>\n",
       "    </tr>\n",
       "  </tbody>\n",
       "</table>\n",
       "<p>20 rows × 81 columns</p>\n",
       "</div>"
      ],
      "text/plain": [
       "    Id  MSSubClass MSZoning  LotFrontage  LotArea Street Alley LotShape  \\\n",
       "0    1          60       RL         65.0     8450   Pave   NaN      Reg   \n",
       "1    2          20       RL         80.0     9600   Pave   NaN      Reg   \n",
       "2    3          60       RL         68.0    11250   Pave   NaN      IR1   \n",
       "3    4          70       RL         60.0     9550   Pave   NaN      IR1   \n",
       "4    5          60       RL         84.0    14260   Pave   NaN      IR1   \n",
       "5    6          50       RL         85.0    14115   Pave   NaN      IR1   \n",
       "6    7          20       RL         75.0    10084   Pave   NaN      Reg   \n",
       "7    8          60       RL          NaN    10382   Pave   NaN      IR1   \n",
       "8    9          50       RM         51.0     6120   Pave   NaN      Reg   \n",
       "9   10         190       RL         50.0     7420   Pave   NaN      Reg   \n",
       "10  11          20       RL         70.0    11200   Pave   NaN      Reg   \n",
       "11  12          60       RL         85.0    11924   Pave   NaN      IR1   \n",
       "12  13          20       RL          NaN    12968   Pave   NaN      IR2   \n",
       "13  14          20       RL         91.0    10652   Pave   NaN      IR1   \n",
       "14  15          20       RL          NaN    10920   Pave   NaN      IR1   \n",
       "15  16          45       RM         51.0     6120   Pave   NaN      Reg   \n",
       "16  17          20       RL          NaN    11241   Pave   NaN      IR1   \n",
       "17  18          90       RL         72.0    10791   Pave   NaN      Reg   \n",
       "18  19          20       RL         66.0    13695   Pave   NaN      Reg   \n",
       "19  20          20       RL         70.0     7560   Pave   NaN      Reg   \n",
       "\n",
       "   LandContour Utilities    ...     PoolArea PoolQC  Fence MiscFeature  \\\n",
       "0          Lvl    AllPub    ...            0    NaN    NaN         NaN   \n",
       "1          Lvl    AllPub    ...            0    NaN    NaN         NaN   \n",
       "2          Lvl    AllPub    ...            0    NaN    NaN         NaN   \n",
       "3          Lvl    AllPub    ...            0    NaN    NaN         NaN   \n",
       "4          Lvl    AllPub    ...            0    NaN    NaN         NaN   \n",
       "5          Lvl    AllPub    ...            0    NaN  MnPrv        Shed   \n",
       "6          Lvl    AllPub    ...            0    NaN    NaN         NaN   \n",
       "7          Lvl    AllPub    ...            0    NaN    NaN        Shed   \n",
       "8          Lvl    AllPub    ...            0    NaN    NaN         NaN   \n",
       "9          Lvl    AllPub    ...            0    NaN    NaN         NaN   \n",
       "10         Lvl    AllPub    ...            0    NaN    NaN         NaN   \n",
       "11         Lvl    AllPub    ...            0    NaN    NaN         NaN   \n",
       "12         Lvl    AllPub    ...            0    NaN    NaN         NaN   \n",
       "13         Lvl    AllPub    ...            0    NaN    NaN         NaN   \n",
       "14         Lvl    AllPub    ...            0    NaN   GdWo         NaN   \n",
       "15         Lvl    AllPub    ...            0    NaN  GdPrv         NaN   \n",
       "16         Lvl    AllPub    ...            0    NaN    NaN        Shed   \n",
       "17         Lvl    AllPub    ...            0    NaN    NaN        Shed   \n",
       "18         Lvl    AllPub    ...            0    NaN    NaN         NaN   \n",
       "19         Lvl    AllPub    ...            0    NaN  MnPrv         NaN   \n",
       "\n",
       "   MiscVal MoSold YrSold  SaleType  SaleCondition  SalePrice  \n",
       "0        0      2   2008        WD         Normal     208500  \n",
       "1        0      5   2007        WD         Normal     181500  \n",
       "2        0      9   2008        WD         Normal     223500  \n",
       "3        0      2   2006        WD        Abnorml     140000  \n",
       "4        0     12   2008        WD         Normal     250000  \n",
       "5      700     10   2009        WD         Normal     143000  \n",
       "6        0      8   2007        WD         Normal     307000  \n",
       "7      350     11   2009        WD         Normal     200000  \n",
       "8        0      4   2008        WD        Abnorml     129900  \n",
       "9        0      1   2008        WD         Normal     118000  \n",
       "10       0      2   2008        WD         Normal     129500  \n",
       "11       0      7   2006       New        Partial     345000  \n",
       "12       0      9   2008        WD         Normal     144000  \n",
       "13       0      8   2007       New        Partial     279500  \n",
       "14       0      5   2008        WD         Normal     157000  \n",
       "15       0      7   2007        WD         Normal     132000  \n",
       "16     700      3   2010        WD         Normal     149000  \n",
       "17     500     10   2006        WD         Normal      90000  \n",
       "18       0      6   2008        WD         Normal     159000  \n",
       "19       0      5   2009       COD        Abnorml     139000  \n",
       "\n",
       "[20 rows x 81 columns]"
      ]
     },
     "execution_count": 3,
     "metadata": {},
     "output_type": "execute_result"
    }
   ],
   "source": [
    "data.head(20)"
   ]
  },
  {
   "cell_type": "markdown",
   "metadata": {},
   "source": [
    "Number of rows is:"
   ]
  },
  {
   "cell_type": "code",
   "execution_count": 4,
   "metadata": {},
   "outputs": [
    {
     "data": {
      "text/plain": [
       "1460"
      ]
     },
     "execution_count": 4,
     "metadata": {},
     "output_type": "execute_result"
    }
   ],
   "source": [
    "data.shape[0]"
   ]
  },
  {
   "cell_type": "markdown",
   "metadata": {},
   "source": [
    "Types of variables in dataset, it is really long so we will only show the number of variables in specific group:"
   ]
  },
  {
   "cell_type": "code",
   "execution_count": 5,
   "metadata": {},
   "outputs": [
    {
     "data": {
      "text/plain": [
       "object     43\n",
       "int64      35\n",
       "float64     3\n",
       "dtype: int64"
      ]
     },
     "execution_count": 5,
     "metadata": {},
     "output_type": "execute_result"
    }
   ],
   "source": [
    "data.dtypes.value_counts()"
   ]
  },
  {
   "cell_type": "markdown",
   "metadata": {},
   "source": [
    "Now we know that our data has 81 columns and 1460 rows. The number of columns is definetely too big for the purpose of this analysis. So our first task will be to select the limited number of features which will suit our model in the best way."
   ]
  },
  {
   "cell_type": "markdown",
   "metadata": {},
   "source": [
    "# 2. Data preparation"
   ]
  },
  {
   "cell_type": "markdown",
   "metadata": {},
   "source": [
    "## 2.1. Dependent variable SalePrice overview"
   ]
  },
  {
   "cell_type": "markdown",
   "metadata": {},
   "source": [
    "Our dependent variable is SalePrice, which is the price the house were sold. Here are some basic information about it "
   ]
  },
  {
   "cell_type": "code",
   "execution_count": 6,
   "metadata": {
    "scrolled": true
   },
   "outputs": [
    {
     "data": {
      "text/plain": [
       "count      1460.000000\n",
       "mean     180921.195890\n",
       "std       79442.502883\n",
       "min       34900.000000\n",
       "25%      129975.000000\n",
       "50%      163000.000000\n",
       "75%      214000.000000\n",
       "max      755000.000000\n",
       "Name: SalePrice, dtype: float64"
      ]
     },
     "execution_count": 6,
     "metadata": {},
     "output_type": "execute_result"
    }
   ],
   "source": [
    "data.SalePrice.describe()"
   ]
  },
  {
   "cell_type": "code",
   "execution_count": 7,
   "metadata": {
    "scrolled": true
   },
   "outputs": [
    {
     "data": {
      "text/plain": [
       "<matplotlib.axes._subplots.AxesSubplot at 0x1dc53155128>"
      ]
     },
     "execution_count": 7,
     "metadata": {},
     "output_type": "execute_result"
    },
    {
     "data": {
      "image/png": "[encoded data removed]",
      "text/plain": [
       "<Figure size 432x288 with 1 Axes>"
      ]
     },
     "metadata": {
      "needs_background": "light"
     },
     "output_type": "display_data"
    }
   ],
   "source": [
    "sns.distplot(data[\"SalePrice\"])"
   ]
  },
  {
   "cell_type": "code",
   "execution_count": 8,
   "metadata": {
    "scrolled": true
   },
   "outputs": [
    {
     "name": "stdout",
     "output_type": "stream",
     "text": [
      "The skewness is: 1.8828757597682129\n",
      "The kurtosis is: 6.536281860064529\n"
     ]
    }
   ],
   "source": [
    "print(\"The skewness is:\",data.SalePrice.skew())\n",
    "print(\"The kurtosis is:\",data.SalePrice.kurt())"
   ]
  },
  {
   "cell_type": "markdown",
   "metadata": {},
   "source": [
    "So we can see that our dependent variable does not have a perfect normal distribution. We can try improving it by log normalization \n"
   ]
  },
  {
   "cell_type": "code",
   "execution_count": 9,
   "metadata": {
    "scrolled": false
   },
   "outputs": [
    {
     "data": {
      "text/plain": [
       "<matplotlib.axes._subplots.AxesSubplot at 0x1dc534de5f8>"
      ]
     },
     "execution_count": 9,
     "metadata": {},
     "output_type": "execute_result"
    },
    {
     "data": {
      "image/png": "[encoded data removed]",
      "text/plain": [
       "<Figure size 432x288 with 1 Axes>"
      ]
     },
     "metadata": {
      "needs_background": "light"
     },
     "output_type": "display_data"
    }
   ],
   "source": [
    "sns.distplot(np.log1p(data.SalePrice))"
   ]
  },
  {
   "cell_type": "markdown",
   "metadata": {},
   "source": [
    "We can see that actually the log normalized distribution of dependent variable seems to be closer to the normal distribution. We will not modify SalesPrice variable now. But just in case we will save the log normalized one in memory"
   ]
  },
  {
   "cell_type": "code",
   "execution_count": 10,
   "metadata": {},
   "outputs": [],
   "source": [
    "log1SalePrice = np.log1p(data.SalePrice)"
   ]
  },
  {
   "cell_type": "markdown",
   "metadata": {},
   "source": [
    "## 2.2. Clearing the dataset of redundant variables and dealing with missing data"
   ]
  },
  {
   "cell_type": "markdown",
   "metadata": {},
   "source": [
    "### 2.2.1. Dropping redundant variables (numerical)"
   ]
  },
  {
   "cell_type": "markdown",
   "metadata": {},
   "source": [
    "To avoid Multicollinearity in our models, we will try to distinguish independent variables that have high pairwise correlations and remove them from our model.\n",
    "Before we do that, we will get rid of Id variable which is surely not going to be an explanatory variable in our model. "
   ]
  },
  {
   "cell_type": "code",
   "execution_count": 11,
   "metadata": {},
   "outputs": [],
   "source": [
    "data = data.drop(columns = \"Id\")"
   ]
  },
  {
   "cell_type": "markdown",
   "metadata": {},
   "source": [
    "Now we can take a look at the correlation matrix for continous variables."
   ]
  },
  {
   "cell_type": "code",
   "execution_count": 12,
   "metadata": {
    "scrolled": false
   },
   "outputs": [
    {
     "data": {
      "image/png": "[encoded data removed]",
      "text/plain": [
       "<Figure size 864x648 with 2 Axes>"
      ]
     },
     "metadata": {
      "needs_background": "light"
     },
     "output_type": "display_data"
    }
   ],
   "source": [
    "corrmat = data.corr()\n",
    "f, ax = plt.subplots(figsize=(12, 9))\n",
    "sns.heatmap(corrmat, vmax=.8, square=True);"
   ]
  },
  {
   "cell_type": "markdown",
   "metadata": {},
   "source": [
    "There is a high correlation between variables GarageArea/GarageCars and 1stFlrSF/TotalBsmtSF. \n",
    "1. First let's take a look at Garage variables. It is pretty obvious GarageCars which is \"Size of garage in car capacity\" is correlated with the area of garage. Therefore there is no need to keep both variables \n",
    "2. The second relation is between the total square feet of First floor and total square feet of basement. It's again pretty self explanatory that those variables are correlated. \n",
    "3. There is also a high correlation between YearBuilt and GarageYrBlt - most of the garages were built at the same time as the original construction. \n",
    "\n",
    "Therefore, we will dispose variables GarageCars, TotalBsmtSF and GarageYrBlt."
   ]
  },
  {
   "cell_type": "code",
   "execution_count": 13,
   "metadata": {},
   "outputs": [],
   "source": [
    "data = data.drop(columns = [\"GarageCars\", \"TotalBsmtSF\", \"GarageYrBlt\"])"
   ]
  },
  {
   "cell_type": "markdown",
   "metadata": {},
   "source": [
    "### 2.2.2. Dropping redundant variables (categorical)"
   ]
  },
  {
   "cell_type": "markdown",
   "metadata": {},
   "source": [
    "Now we will look for association between categorical data. In order to do that, firstly we will deal with NaN values. We will put \"NA\" value into such columns for which NaN value does not mean missing data, eg. for \"Pool quality\" NaN means there is no pool and not missing data."
   ]
  },
  {
   "cell_type": "code",
   "execution_count": 14,
   "metadata": {},
   "outputs": [],
   "source": [
    "na_cols = [\"Alley\", \"BsmtQual\", \"BsmtCond\", \"BsmtExposure\", \"BsmtFinType1\", \"BsmtFinType2\", \"FireplaceQu\", \"GarageType\", \"GarageFinish\", \"GarageQual\", \"GarageCond\", \"PoolQC\", \"Fence\", \"MiscFeature\"]\n",
    "for nas in na_cols:\n",
    "    if \"Bsmt\" in nas:\n",
    "        data[nas] = data[nas].fillna(\"No basement\")\n",
    "    elif \"Garage\" in nas:\n",
    "        data[nas] = data[nas].fillna(\"No garage\")\n",
    "    else:\n",
    "        data[nas] = data[nas].fillna(\"No {}\".format(nas))\n",
    "\n",
    "categorical_df = data.select_dtypes(include='object')\n",
    "col_names = categorical_df.columns.values.tolist()"
   ]
  },
  {
   "cell_type": "markdown",
   "metadata": {},
   "source": [
    "Now we can assume that other NaN values in the dataset are missing data."
   ]
  },
  {
   "cell_type": "code",
   "execution_count": 15,
   "metadata": {
    "scrolled": true
   },
   "outputs": [
    {
     "name": "stdout",
     "output_type": "stream",
     "text": [
      "LotFrontage: 17.73972602739726%\n",
      "MasVnrType: 0.547945205479452%\n",
      "MasVnrArea: 0.547945205479452%\n",
      "Electrical: 0.0684931506849315%\n"
     ]
    }
   ],
   "source": [
    "na_percantage = dict((data.isna().sum()/data.shape[0])*100)\n",
    "na_percantage \n",
    "na_percentage_sorted = sorted(na_percantage.items(), key=lambda kv: kv[1], reverse=True)\n",
    "na_percentage_sorted = collections.OrderedDict(na_percentage_sorted)\n",
    "for key,val in na_percentage_sorted.items():\n",
    "    if val>0:\n",
    "        print(key, \": \", val, \"%\", sep=\"\")"
   ]
  },
  {
   "cell_type": "markdown",
   "metadata": {},
   "source": [
    "As we can see now there are few variables which contain NA values. It's mostly the problem in case of variable LotFrontage which has over 17% of missing data. LotFrontage is a variable containing information about linear feet of street connected to property. We believe that this variable is not really important so we allowed ourselves to drop it. "
   ]
  },
  {
   "cell_type": "code",
   "execution_count": 16,
   "metadata": {},
   "outputs": [
    {
     "data": {
      "text/html": [
       "<div>\n",
       "<style scoped>\n",
       "    .dataframe tbody tr th:only-of-type {\n",
       "        vertical-align: middle;\n",
       "    }\n",
       "\n",
       "    .dataframe tbody tr th {\n",
       "        vertical-align: top;\n",
       "    }\n",
       "\n",
       "    .dataframe thead th {\n",
       "        text-align: right;\n",
       "    }\n",
       "</style>\n",
       "<table border=\"1\" class=\"dataframe\">\n",
       "  <thead>\n",
       "    <tr style=\"text-align: right;\">\n",
       "      <th></th>\n",
       "      <th>MSSubClass</th>\n",
       "      <th>MSZoning</th>\n",
       "      <th>LotArea</th>\n",
       "      <th>Street</th>\n",
       "      <th>Alley</th>\n",
       "      <th>LotShape</th>\n",
       "      <th>LandContour</th>\n",
       "      <th>Utilities</th>\n",
       "      <th>LotConfig</th>\n",
       "      <th>LandSlope</th>\n",
       "      <th>...</th>\n",
       "      <th>PoolArea</th>\n",
       "      <th>PoolQC</th>\n",
       "      <th>Fence</th>\n",
       "      <th>MiscFeature</th>\n",
       "      <th>MiscVal</th>\n",
       "      <th>MoSold</th>\n",
       "      <th>YrSold</th>\n",
       "      <th>SaleType</th>\n",
       "      <th>SaleCondition</th>\n",
       "      <th>SalePrice</th>\n",
       "    </tr>\n",
       "  </thead>\n",
       "  <tbody>\n",
       "    <tr>\n",
       "      <th>234</th>\n",
       "      <td>60</td>\n",
       "      <td>RL</td>\n",
       "      <td>7851</td>\n",
       "      <td>Pave</td>\n",
       "      <td>No Alley</td>\n",
       "      <td>Reg</td>\n",
       "      <td>Lvl</td>\n",
       "      <td>AllPub</td>\n",
       "      <td>Inside</td>\n",
       "      <td>Gtl</td>\n",
       "      <td>...</td>\n",
       "      <td>0</td>\n",
       "      <td>No PoolQC</td>\n",
       "      <td>No Fence</td>\n",
       "      <td>No MiscFeature</td>\n",
       "      <td>0</td>\n",
       "      <td>5</td>\n",
       "      <td>2010</td>\n",
       "      <td>WD</td>\n",
       "      <td>Normal</td>\n",
       "      <td>216500</td>\n",
       "    </tr>\n",
       "    <tr>\n",
       "      <th>529</th>\n",
       "      <td>20</td>\n",
       "      <td>RL</td>\n",
       "      <td>32668</td>\n",
       "      <td>Pave</td>\n",
       "      <td>No Alley</td>\n",
       "      <td>IR1</td>\n",
       "      <td>Lvl</td>\n",
       "      <td>AllPub</td>\n",
       "      <td>CulDSac</td>\n",
       "      <td>Gtl</td>\n",
       "      <td>...</td>\n",
       "      <td>0</td>\n",
       "      <td>No PoolQC</td>\n",
       "      <td>No Fence</td>\n",
       "      <td>No MiscFeature</td>\n",
       "      <td>0</td>\n",
       "      <td>3</td>\n",
       "      <td>2007</td>\n",
       "      <td>WD</td>\n",
       "      <td>Alloca</td>\n",
       "      <td>200624</td>\n",
       "    </tr>\n",
       "    <tr>\n",
       "      <th>650</th>\n",
       "      <td>60</td>\n",
       "      <td>FV</td>\n",
       "      <td>8125</td>\n",
       "      <td>Pave</td>\n",
       "      <td>No Alley</td>\n",
       "      <td>Reg</td>\n",
       "      <td>Lvl</td>\n",
       "      <td>AllPub</td>\n",
       "      <td>Inside</td>\n",
       "      <td>Gtl</td>\n",
       "      <td>...</td>\n",
       "      <td>0</td>\n",
       "      <td>No PoolQC</td>\n",
       "      <td>No Fence</td>\n",
       "      <td>No MiscFeature</td>\n",
       "      <td>0</td>\n",
       "      <td>5</td>\n",
       "      <td>2008</td>\n",
       "      <td>WD</td>\n",
       "      <td>Normal</td>\n",
       "      <td>205950</td>\n",
       "    </tr>\n",
       "    <tr>\n",
       "      <th>936</th>\n",
       "      <td>20</td>\n",
       "      <td>RL</td>\n",
       "      <td>10083</td>\n",
       "      <td>Pave</td>\n",
       "      <td>No Alley</td>\n",
       "      <td>Reg</td>\n",
       "      <td>Lvl</td>\n",
       "      <td>AllPub</td>\n",
       "      <td>Inside</td>\n",
       "      <td>Gtl</td>\n",
       "      <td>...</td>\n",
       "      <td>0</td>\n",
       "      <td>No PoolQC</td>\n",
       "      <td>No Fence</td>\n",
       "      <td>No MiscFeature</td>\n",
       "      <td>0</td>\n",
       "      <td>8</td>\n",
       "      <td>2009</td>\n",
       "      <td>WD</td>\n",
       "      <td>Normal</td>\n",
       "      <td>184900</td>\n",
       "    </tr>\n",
       "    <tr>\n",
       "      <th>973</th>\n",
       "      <td>20</td>\n",
       "      <td>FV</td>\n",
       "      <td>11639</td>\n",
       "      <td>Pave</td>\n",
       "      <td>No Alley</td>\n",
       "      <td>Reg</td>\n",
       "      <td>Lvl</td>\n",
       "      <td>AllPub</td>\n",
       "      <td>Corner</td>\n",
       "      <td>Gtl</td>\n",
       "      <td>...</td>\n",
       "      <td>0</td>\n",
       "      <td>No PoolQC</td>\n",
       "      <td>No Fence</td>\n",
       "      <td>No MiscFeature</td>\n",
       "      <td>0</td>\n",
       "      <td>12</td>\n",
       "      <td>2008</td>\n",
       "      <td>New</td>\n",
       "      <td>Partial</td>\n",
       "      <td>182000</td>\n",
       "    </tr>\n",
       "    <tr>\n",
       "      <th>977</th>\n",
       "      <td>120</td>\n",
       "      <td>FV</td>\n",
       "      <td>4274</td>\n",
       "      <td>Pave</td>\n",
       "      <td>Pave</td>\n",
       "      <td>IR1</td>\n",
       "      <td>Lvl</td>\n",
       "      <td>AllPub</td>\n",
       "      <td>Inside</td>\n",
       "      <td>Gtl</td>\n",
       "      <td>...</td>\n",
       "      <td>0</td>\n",
       "      <td>No PoolQC</td>\n",
       "      <td>No Fence</td>\n",
       "      <td>No MiscFeature</td>\n",
       "      <td>0</td>\n",
       "      <td>11</td>\n",
       "      <td>2007</td>\n",
       "      <td>New</td>\n",
       "      <td>Partial</td>\n",
       "      <td>199900</td>\n",
       "    </tr>\n",
       "    <tr>\n",
       "      <th>1243</th>\n",
       "      <td>20</td>\n",
       "      <td>RL</td>\n",
       "      <td>13891</td>\n",
       "      <td>Pave</td>\n",
       "      <td>No Alley</td>\n",
       "      <td>Reg</td>\n",
       "      <td>Lvl</td>\n",
       "      <td>AllPub</td>\n",
       "      <td>Inside</td>\n",
       "      <td>Gtl</td>\n",
       "      <td>...</td>\n",
       "      <td>0</td>\n",
       "      <td>No PoolQC</td>\n",
       "      <td>No Fence</td>\n",
       "      <td>No MiscFeature</td>\n",
       "      <td>0</td>\n",
       "      <td>9</td>\n",
       "      <td>2006</td>\n",
       "      <td>New</td>\n",
       "      <td>Partial</td>\n",
       "      <td>465000</td>\n",
       "    </tr>\n",
       "    <tr>\n",
       "      <th>1278</th>\n",
       "      <td>60</td>\n",
       "      <td>RL</td>\n",
       "      <td>9473</td>\n",
       "      <td>Pave</td>\n",
       "      <td>No Alley</td>\n",
       "      <td>Reg</td>\n",
       "      <td>Lvl</td>\n",
       "      <td>AllPub</td>\n",
       "      <td>Inside</td>\n",
       "      <td>Gtl</td>\n",
       "      <td>...</td>\n",
       "      <td>0</td>\n",
       "      <td>No PoolQC</td>\n",
       "      <td>No Fence</td>\n",
       "      <td>No MiscFeature</td>\n",
       "      <td>0</td>\n",
       "      <td>3</td>\n",
       "      <td>2008</td>\n",
       "      <td>WD</td>\n",
       "      <td>Normal</td>\n",
       "      <td>237000</td>\n",
       "    </tr>\n",
       "    <tr>\n",
       "      <th>1379</th>\n",
       "      <td>80</td>\n",
       "      <td>RL</td>\n",
       "      <td>9735</td>\n",
       "      <td>Pave</td>\n",
       "      <td>No Alley</td>\n",
       "      <td>Reg</td>\n",
       "      <td>Lvl</td>\n",
       "      <td>AllPub</td>\n",
       "      <td>Inside</td>\n",
       "      <td>Gtl</td>\n",
       "      <td>...</td>\n",
       "      <td>0</td>\n",
       "      <td>No PoolQC</td>\n",
       "      <td>No Fence</td>\n",
       "      <td>No MiscFeature</td>\n",
       "      <td>0</td>\n",
       "      <td>5</td>\n",
       "      <td>2008</td>\n",
       "      <td>WD</td>\n",
       "      <td>Normal</td>\n",
       "      <td>167500</td>\n",
       "    </tr>\n",
       "  </tbody>\n",
       "</table>\n",
       "<p>9 rows × 76 columns</p>\n",
       "</div>"
      ],
      "text/plain": [
       "      MSSubClass MSZoning  LotArea Street     Alley LotShape LandContour  \\\n",
       "234           60       RL     7851   Pave  No Alley      Reg         Lvl   \n",
       "529           20       RL    32668   Pave  No Alley      IR1         Lvl   \n",
       "650           60       FV     8125   Pave  No Alley      Reg         Lvl   \n",
       "936           20       RL    10083   Pave  No Alley      Reg         Lvl   \n",
       "973           20       FV    11639   Pave  No Alley      Reg         Lvl   \n",
       "977          120       FV     4274   Pave      Pave      IR1         Lvl   \n",
       "1243          20       RL    13891   Pave  No Alley      Reg         Lvl   \n",
       "1278          60       RL     9473   Pave  No Alley      Reg         Lvl   \n",
       "1379          80       RL     9735   Pave  No Alley      Reg         Lvl   \n",
       "\n",
       "     Utilities LotConfig LandSlope    ...    PoolArea     PoolQC     Fence  \\\n",
       "234     AllPub    Inside       Gtl    ...           0  No PoolQC  No Fence   \n",
       "529     AllPub   CulDSac       Gtl    ...           0  No PoolQC  No Fence   \n",
       "650     AllPub    Inside       Gtl    ...           0  No PoolQC  No Fence   \n",
       "936     AllPub    Inside       Gtl    ...           0  No PoolQC  No Fence   \n",
       "973     AllPub    Corner       Gtl    ...           0  No PoolQC  No Fence   \n",
       "977     AllPub    Inside       Gtl    ...           0  No PoolQC  No Fence   \n",
       "1243    AllPub    Inside       Gtl    ...           0  No PoolQC  No Fence   \n",
       "1278    AllPub    Inside       Gtl    ...           0  No PoolQC  No Fence   \n",
       "1379    AllPub    Inside       Gtl    ...           0  No PoolQC  No Fence   \n",
       "\n",
       "         MiscFeature MiscVal  MoSold  YrSold  SaleType  SaleCondition  \\\n",
       "234   No MiscFeature       0       5    2010        WD         Normal   \n",
       "529   No MiscFeature       0       3    2007        WD         Alloca   \n",
       "650   No MiscFeature       0       5    2008        WD         Normal   \n",
       "936   No MiscFeature       0       8    2009        WD         Normal   \n",
       "973   No MiscFeature       0      12    2008       New        Partial   \n",
       "977   No MiscFeature       0      11    2007       New        Partial   \n",
       "1243  No MiscFeature       0       9    2006       New        Partial   \n",
       "1278  No MiscFeature       0       3    2008        WD         Normal   \n",
       "1379  No MiscFeature       0       5    2008        WD         Normal   \n",
       "\n",
       "     SalePrice  \n",
       "234     216500  \n",
       "529     200624  \n",
       "650     205950  \n",
       "936     184900  \n",
       "973     182000  \n",
       "977     199900  \n",
       "1243    465000  \n",
       "1278    237000  \n",
       "1379    167500  \n",
       "\n",
       "[9 rows x 76 columns]"
      ]
     },
     "execution_count": 16,
     "metadata": {},
     "output_type": "execute_result"
    }
   ],
   "source": [
    "data = data.drop(columns='LotFrontage')\n",
    "data[pd.isnull(data).any(axis=1)]"
   ]
  },
  {
   "cell_type": "markdown",
   "metadata": {},
   "source": [
    "This leaves us with 9 rows with missing values - where missing variables are either categorical (MasVnrType and Electrical) or numerical (MasVnrArea). To avoid dropping rows, we will impute missing values in our dataset. For non-ordinal data we will use mode, while for numerical data we will use average."
   ]
  },
  {
   "cell_type": "code",
   "execution_count": 17,
   "metadata": {},
   "outputs": [],
   "source": [
    "data.loc[data.MasVnrType.isna(), \"MasVnrType\"] = data[\"MasVnrType\"].mode()[0]\n",
    "data.loc[data.Electrical.isna(), \"Electrical\"] = data[\"Electrical\"].mode()[0]\n",
    "data.loc[data.MasVnrArea.isna(), \"MasVnrArea\"] = data[\"MasVnrArea\"].mean()"
   ]
  },
  {
   "cell_type": "markdown",
   "metadata": {},
   "source": [
    "After that, we can calculate Cramer's V matrix, which contains measure of association between categorical features. Cramer's V is similar to correlation as the output is in the range of [0,1], where 0 indicates no association and 1 full association. Naturally, Cramer's V matrix is symmetrical."
   ]
  },
  {
   "cell_type": "code",
   "execution_count": 18,
   "metadata": {},
   "outputs": [
    {
     "data": {
      "image/png": "[encoded data removed]",
      "text/plain": [
       "<Figure size 864x648 with 2 Axes>"
      ]
     },
     "metadata": {
      "needs_background": "light"
     },
     "output_type": "display_data"
    }
   ],
   "source": [
    "# source for cramers_v function in python:\n",
    "# https://towardsdatascience.com/the-search-for-categorical-correlation-a1cf7f1888c9\n",
    "\n",
    "def cramers_v(x, y):\n",
    "    confusion_matrix = pd.crosstab(x,y)\n",
    "    chi2 = ss.chi2_contingency(confusion_matrix)[0]\n",
    "    n = confusion_matrix.sum().sum()\n",
    "    phi2 = chi2/n\n",
    "    r,k = confusion_matrix.shape\n",
    "    phi2corr = max(0, phi2-((k-1)*(r-1))/(n-1))\n",
    "    rcorr = r-((r-1)**2)/(n-1)\n",
    "    kcorr = k-((k-1)**2)/(n-1)\n",
    "    return np.sqrt(phi2corr/min((kcorr-1),(rcorr-1)))\n",
    "\n",
    "corrmat = pd.DataFrame(0, index=col_names, columns=col_names).astype('float64')\n",
    "\n",
    "for i, column_i in enumerate(categorical_df):\n",
    "    for j, column_j in enumerate(categorical_df):\n",
    "        corrmat.iloc[i][column_j] = cramers_v(categorical_df[column_i], categorical_df[column_j])\n",
    "\n",
    "f, ax = plt.subplots(figsize=(12, 9))    \n",
    "sns.heatmap(corrmat, vmax=.8, square=True);"
   ]
  },
  {
   "cell_type": "markdown",
   "metadata": {},
   "source": [
    "Again, we can extract a few variables that seem to be strongly associated. \n",
    "1. Exterior1st and Exterior2nd - both variables concern one feature, so we decided to leave just one in our analysis.\n",
    "2. GarageQual and GarageCond - rather unsurprisingly, garage quality corresponds with garage condition. Therefore we decided to omit GarageCond.\n",
    "3. GarageType and GarageFinish - interior finish of the garage seems to be correlated with garage location. Thus, we will only usue GarageType."
   ]
  },
  {
   "cell_type": "code",
   "execution_count": 19,
   "metadata": {},
   "outputs": [],
   "source": [
    "data = data.drop(columns = [\"Exterior2nd\", \"GarageCond\", \"GarageFinish\"])"
   ]
  },
  {
   "cell_type": "markdown",
   "metadata": {},
   "source": [
    "## 2.3. One hot encoding\n"
   ]
  },
  {
   "cell_type": "markdown",
   "metadata": {},
   "source": [
    "We have already dealt with some issues which were present in our dataset, removing NAs and some highly correlated variables. The next step is to introduce a proper approach to work with categorogical variables which are higly represented in our case. We decided to use One Hot Encoding to solve this"
   ]
  },
  {
   "cell_type": "code",
   "execution_count": 20,
   "metadata": {
    "scrolled": true
   },
   "outputs": [
    {
     "name": "stdout",
     "output_type": "stream",
     "text": [
      "MSZoning : ['RL' 'RM' 'C (all)' 'FV' 'RH'] ; 5\n",
      "Street : ['Pave' 'Grvl'] ; 2\n",
      "Alley : ['No Alley' 'Grvl' 'Pave'] ; 3\n",
      "LotShape : ['Reg' 'IR1' 'IR2' 'IR3'] ; 4\n",
      "LandContour : ['Lvl' 'Bnk' 'Low' 'HLS'] ; 4\n",
      "Utilities : ['AllPub' 'NoSeWa'] ; 2\n",
      "LotConfig : ['Inside' 'FR2' 'Corner' 'CulDSac' 'FR3'] ; 5\n",
      "LandSlope : ['Gtl' 'Mod' 'Sev'] ; 3\n",
      "Neighborhood : ['CollgCr' 'Veenker' 'Crawfor' 'NoRidge' 'Mitchel' 'Somerst' 'NWAmes'\n",
      " 'OldTown' 'BrkSide' 'Sawyer' 'NridgHt' 'NAmes' 'SawyerW' 'IDOTRR'\n",
      " 'MeadowV' 'Edwards' 'Timber' 'Gilbert' 'StoneBr' 'ClearCr' 'NPkVill'\n",
      " 'Blmngtn' 'BrDale' 'SWISU' 'Blueste'] ; 25\n",
      "Condition1 : ['Norm' 'Feedr' 'PosN' 'Artery' 'RRAe' 'RRNn' 'RRAn' 'PosA' 'RRNe'] ; 9\n",
      "Condition2 : ['Norm' 'Artery' 'RRNn' 'Feedr' 'PosN' 'PosA' 'RRAn' 'RRAe'] ; 8\n",
      "BldgType : ['1Fam' '2fmCon' 'Duplex' 'TwnhsE' 'Twnhs'] ; 5\n",
      "HouseStyle : ['2Story' '1Story' '1.5Fin' '1.5Unf' 'SFoyer' 'SLvl' '2.5Unf' '2.5Fin'] ; 8\n",
      "RoofStyle : ['Gable' 'Hip' 'Gambrel' 'Mansard' 'Flat' 'Shed'] ; 6\n",
      "RoofMatl : ['CompShg' 'WdShngl' 'Metal' 'WdShake' 'Membran' 'Tar&Grv' 'Roll'\n",
      " 'ClyTile'] ; 8\n",
      "Exterior1st : ['VinylSd' 'MetalSd' 'Wd Sdng' 'HdBoard' 'BrkFace' 'WdShing' 'CemntBd'\n",
      " 'Plywood' 'AsbShng' 'Stucco' 'BrkComm' 'AsphShn' 'Stone' 'ImStucc'\n",
      " 'CBlock'] ; 15\n",
      "MasVnrType : ['BrkFace' 'None' 'Stone' 'BrkCmn'] ; 4\n",
      "ExterQual : ['Gd' 'TA' 'Ex' 'Fa'] ; 4\n",
      "ExterCond : ['TA' 'Gd' 'Fa' 'Po' 'Ex'] ; 5\n",
      "Foundation : ['PConc' 'CBlock' 'BrkTil' 'Wood' 'Slab' 'Stone'] ; 6\n",
      "BsmtQual : ['Gd' 'TA' 'Ex' 'No basement' 'Fa'] ; 5\n",
      "BsmtCond : ['TA' 'Gd' 'No basement' 'Fa' 'Po'] ; 5\n",
      "BsmtExposure : ['No' 'Gd' 'Mn' 'Av' 'No basement'] ; 5\n",
      "BsmtFinType1 : ['GLQ' 'ALQ' 'Unf' 'Rec' 'BLQ' 'No basement' 'LwQ'] ; 7\n",
      "BsmtFinType2 : ['Unf' 'BLQ' 'No basement' 'ALQ' 'Rec' 'LwQ' 'GLQ'] ; 7\n",
      "Heating : ['GasA' 'GasW' 'Grav' 'Wall' 'OthW' 'Floor'] ; 6\n",
      "HeatingQC : ['Ex' 'Gd' 'TA' 'Fa' 'Po'] ; 5\n",
      "CentralAir : ['Y' 'N'] ; 2\n",
      "Electrical : ['SBrkr' 'FuseF' 'FuseA' 'FuseP' 'Mix'] ; 5\n",
      "KitchenQual : ['Gd' 'TA' 'Ex' 'Fa'] ; 4\n",
      "Functional : ['Typ' 'Min1' 'Maj1' 'Min2' 'Mod' 'Maj2' 'Sev'] ; 7\n",
      "FireplaceQu : ['No FireplaceQu' 'TA' 'Gd' 'Fa' 'Ex' 'Po'] ; 6\n",
      "GarageType : ['Attchd' 'Detchd' 'BuiltIn' 'CarPort' 'No garage' 'Basment' '2Types'] ; 7\n",
      "GarageQual : ['TA' 'Fa' 'Gd' 'No garage' 'Ex' 'Po'] ; 6\n",
      "PavedDrive : ['Y' 'N' 'P'] ; 3\n",
      "PoolQC : ['No PoolQC' 'Ex' 'Fa' 'Gd'] ; 4\n",
      "Fence : ['No Fence' 'MnPrv' 'GdWo' 'GdPrv' 'MnWw'] ; 5\n",
      "MiscFeature : ['No MiscFeature' 'Shed' 'Gar2' 'Othr' 'TenC'] ; 5\n",
      "SaleType : ['WD' 'New' 'COD' 'ConLD' 'ConLI' 'CWD' 'ConLw' 'Con' 'Oth'] ; 9\n",
      "SaleCondition : ['Normal' 'Abnorml' 'Partial' 'AdjLand' 'Alloca' 'Family'] ; 6\n"
     ]
    }
   ],
   "source": [
    "nominal_variables = []\n",
    "num_variables = []\n",
    "for i in data.columns:\n",
    "    if str(data[i].dtypes) == \"object\":\n",
    "        nominal_variables.append(i)\n",
    "        print(i,\":\", data[i].unique(), \";\" ,len(data[i].unique()))\n",
    "    else:\n",
    "        num_variables.append(i)\n",
    "data = pd.concat([data[num_variables], pd.get_dummies(data[nominal_variables])], axis=1)"
   ]
  },
  {
   "cell_type": "markdown",
   "metadata": {},
   "source": [
    "# 3. Linear Regression"
   ]
  },
  {
   "cell_type": "markdown",
   "metadata": {},
   "source": [
    "## 3.1. Feature Selection"
   ]
  },
  {
   "cell_type": "markdown",
   "metadata": {},
   "source": [
    "After all the operations conducted above we were left with 272 independent features. That put as in a position to use a technique to cut down this number to simplify analysis. We decided to use Forward Feature Selection Method (from specific to general). This means we will add independent variables to our model step by step - firstly we will estimate simple regressions with just one variable for all variables and will choose the variable that is most significant. Then we will estimate regressions with two variables and will again choose the most significant variable and add it to the model. We will continue to do so until no of other variables added to the model will be significant, where are acceptable p-value is set at 0.05. The code which is the implementation of that is presented below."
   ]
  },
  {
   "cell_type": "code",
   "execution_count": 21,
   "metadata": {},
   "outputs": [],
   "source": [
    "X = data.loc[:, data.columns != 'SalePrice'] \n",
    "y = data.SalePrice"
   ]
  },
  {
   "cell_type": "code",
   "execution_count": 22,
   "metadata": {
    "scrolled": true
   },
   "outputs": [],
   "source": [
    "final = {}\n",
    "Xx = X.copy()\n",
    "i = 0\n",
    "f = 0\n",
    "while f != 1:\n",
    "    working_dict = {}\n",
    "    \n",
    "    features = list(Xx.columns)\n",
    "    for feature in features:\n",
    "        \n",
    "        names = list(final.keys())\n",
    "        names.append(feature)\n",
    "\n",
    "        X2 = sm.add_constant(X.loc[:, names])\n",
    "        est = sm.OLS(y, X2)\n",
    "\n",
    "        results = est.fit()\n",
    "        temp = dict(results.pvalues)\n",
    "        \n",
    "        for k, v in temp.items():\n",
    "            if k in final:\n",
    "                pass\n",
    "            else:\n",
    "                working_dict[k] = v\n",
    "        working_dict.pop(\"const\")\n",
    "    \n",
    "    sorted_x = sorted(working_dict.items(), key=lambda kv: kv[1]) \n",
    "    \n",
    "    if sorted_x[0][1] <= 0.05:\n",
    "        final[sorted_x[0][0]] = sorted_x[0][1]\n",
    "        Xx.drop(labels = sorted_x[0][0], axis = 1, inplace = True)\n",
    "        i += 1\n",
    "    else:\n",
    "        f += 1"
   ]
  },
  {
   "cell_type": "markdown",
   "metadata": {},
   "source": [
    "The Forward Feature Selection Method gave us 57 independent variables. Now we can limit our dataset to them + the dependent variable. "
   ]
  },
  {
   "cell_type": "code",
   "execution_count": 23,
   "metadata": {},
   "outputs": [],
   "source": [
    "data1 = data[[\"SalePrice\"] + list(final.keys())]"
   ]
  },
  {
   "cell_type": "code",
   "execution_count": 24,
   "metadata": {
    "scrolled": true
   },
   "outputs": [
    {
     "data": {
      "text/html": [
       "<div>\n",
       "<style scoped>\n",
       "    .dataframe tbody tr th:only-of-type {\n",
       "        vertical-align: middle;\n",
       "    }\n",
       "\n",
       "    .dataframe tbody tr th {\n",
       "        vertical-align: top;\n",
       "    }\n",
       "\n",
       "    .dataframe thead th {\n",
       "        text-align: right;\n",
       "    }\n",
       "</style>\n",
       "<table border=\"1\" class=\"dataframe\">\n",
       "  <thead>\n",
       "    <tr style=\"text-align: right;\">\n",
       "      <th></th>\n",
       "      <th>SalePrice</th>\n",
       "      <th>OverallQual</th>\n",
       "      <th>GrLivArea</th>\n",
       "      <th>BsmtQual_Ex</th>\n",
       "      <th>BsmtFinSF1</th>\n",
       "      <th>RoofMatl_ClyTile</th>\n",
       "      <th>YearBuilt</th>\n",
       "      <th>MSSubClass</th>\n",
       "      <th>Condition2_PosN</th>\n",
       "      <th>KitchenQual_Ex</th>\n",
       "      <th>...</th>\n",
       "      <th>GarageType_No garage</th>\n",
       "      <th>GarageQual_No garage</th>\n",
       "      <th>ScreenPorch</th>\n",
       "      <th>WoodDeckSF</th>\n",
       "      <th>FireplaceQu_No FireplaceQu</th>\n",
       "      <th>GarageQual_Ex</th>\n",
       "      <th>Fence_GdPrv</th>\n",
       "      <th>BsmtFinType1_GLQ</th>\n",
       "      <th>Condition1_RRAe</th>\n",
       "      <th>Condition2_PosA</th>\n",
       "    </tr>\n",
       "  </thead>\n",
       "  <tbody>\n",
       "    <tr>\n",
       "      <th>count</th>\n",
       "      <td>1460.000000</td>\n",
       "      <td>1460.000000</td>\n",
       "      <td>1460.000000</td>\n",
       "      <td>1460.000000</td>\n",
       "      <td>1460.000000</td>\n",
       "      <td>1460.000000</td>\n",
       "      <td>1460.000000</td>\n",
       "      <td>1460.000000</td>\n",
       "      <td>1460.000000</td>\n",
       "      <td>1460.000000</td>\n",
       "      <td>...</td>\n",
       "      <td>1460.000000</td>\n",
       "      <td>1460.000000</td>\n",
       "      <td>1460.000000</td>\n",
       "      <td>1460.000000</td>\n",
       "      <td>1460.000000</td>\n",
       "      <td>1460.000000</td>\n",
       "      <td>1460.000000</td>\n",
       "      <td>1460.000000</td>\n",
       "      <td>1460.000000</td>\n",
       "      <td>1460.000000</td>\n",
       "    </tr>\n",
       "    <tr>\n",
       "      <th>mean</th>\n",
       "      <td>180921.195890</td>\n",
       "      <td>6.099315</td>\n",
       "      <td>1515.463699</td>\n",
       "      <td>0.082877</td>\n",
       "      <td>443.639726</td>\n",
       "      <td>0.000685</td>\n",
       "      <td>1971.267808</td>\n",
       "      <td>56.897260</td>\n",
       "      <td>0.001370</td>\n",
       "      <td>0.068493</td>\n",
       "      <td>...</td>\n",
       "      <td>0.055479</td>\n",
       "      <td>0.055479</td>\n",
       "      <td>15.060959</td>\n",
       "      <td>94.244521</td>\n",
       "      <td>0.472603</td>\n",
       "      <td>0.002055</td>\n",
       "      <td>0.040411</td>\n",
       "      <td>0.286301</td>\n",
       "      <td>0.007534</td>\n",
       "      <td>0.000685</td>\n",
       "    </tr>\n",
       "    <tr>\n",
       "      <th>std</th>\n",
       "      <td>79442.502883</td>\n",
       "      <td>1.382997</td>\n",
       "      <td>525.480383</td>\n",
       "      <td>0.275790</td>\n",
       "      <td>456.098091</td>\n",
       "      <td>0.026171</td>\n",
       "      <td>30.202904</td>\n",
       "      <td>42.300571</td>\n",
       "      <td>0.036999</td>\n",
       "      <td>0.252677</td>\n",
       "      <td>...</td>\n",
       "      <td>0.228992</td>\n",
       "      <td>0.228992</td>\n",
       "      <td>55.757415</td>\n",
       "      <td>125.338794</td>\n",
       "      <td>0.499420</td>\n",
       "      <td>0.045299</td>\n",
       "      <td>0.196989</td>\n",
       "      <td>0.452187</td>\n",
       "      <td>0.086502</td>\n",
       "      <td>0.026171</td>\n",
       "    </tr>\n",
       "    <tr>\n",
       "      <th>min</th>\n",
       "      <td>34900.000000</td>\n",
       "      <td>1.000000</td>\n",
       "      <td>334.000000</td>\n",
       "      <td>0.000000</td>\n",
       "      <td>0.000000</td>\n",
       "      <td>0.000000</td>\n",
       "      <td>1872.000000</td>\n",
       "      <td>20.000000</td>\n",
       "      <td>0.000000</td>\n",
       "      <td>0.000000</td>\n",
       "      <td>...</td>\n",
       "      <td>0.000000</td>\n",
       "      <td>0.000000</td>\n",
       "      <td>0.000000</td>\n",
       "      <td>0.000000</td>\n",
       "      <td>0.000000</td>\n",
       "      <td>0.000000</td>\n",
       "      <td>0.000000</td>\n",
       "      <td>0.000000</td>\n",
       "      <td>0.000000</td>\n",
       "      <td>0.000000</td>\n",
       "    </tr>\n",
       "    <tr>\n",
       "      <th>25%</th>\n",
       "      <td>129975.000000</td>\n",
       "      <td>5.000000</td>\n",
       "      <td>1129.500000</td>\n",
       "      <td>0.000000</td>\n",
       "      <td>0.000000</td>\n",
       "      <td>0.000000</td>\n",
       "      <td>1954.000000</td>\n",
       "      <td>20.000000</td>\n",
       "      <td>0.000000</td>\n",
       "      <td>0.000000</td>\n",
       "      <td>...</td>\n",
       "      <td>0.000000</td>\n",
       "      <td>0.000000</td>\n",
       "      <td>0.000000</td>\n",
       "      <td>0.000000</td>\n",
       "      <td>0.000000</td>\n",
       "      <td>0.000000</td>\n",
       "      <td>0.000000</td>\n",
       "      <td>0.000000</td>\n",
       "      <td>0.000000</td>\n",
       "      <td>0.000000</td>\n",
       "    </tr>\n",
       "    <tr>\n",
       "      <th>50%</th>\n",
       "      <td>163000.000000</td>\n",
       "      <td>6.000000</td>\n",
       "      <td>1464.000000</td>\n",
       "      <td>0.000000</td>\n",
       "      <td>383.500000</td>\n",
       "      <td>0.000000</td>\n",
       "      <td>1973.000000</td>\n",
       "      <td>50.000000</td>\n",
       "      <td>0.000000</td>\n",
       "      <td>0.000000</td>\n",
       "      <td>...</td>\n",
       "      <td>0.000000</td>\n",
       "      <td>0.000000</td>\n",
       "      <td>0.000000</td>\n",
       "      <td>0.000000</td>\n",
       "      <td>0.000000</td>\n",
       "      <td>0.000000</td>\n",
       "      <td>0.000000</td>\n",
       "      <td>0.000000</td>\n",
       "      <td>0.000000</td>\n",
       "      <td>0.000000</td>\n",
       "    </tr>\n",
       "    <tr>\n",
       "      <th>75%</th>\n",
       "      <td>214000.000000</td>\n",
       "      <td>7.000000</td>\n",
       "      <td>1776.750000</td>\n",
       "      <td>0.000000</td>\n",
       "      <td>712.250000</td>\n",
       "      <td>0.000000</td>\n",
       "      <td>2000.000000</td>\n",
       "      <td>70.000000</td>\n",
       "      <td>0.000000</td>\n",
       "      <td>0.000000</td>\n",
       "      <td>...</td>\n",
       "      <td>0.000000</td>\n",
       "      <td>0.000000</td>\n",
       "      <td>0.000000</td>\n",
       "      <td>168.000000</td>\n",
       "      <td>1.000000</td>\n",
       "      <td>0.000000</td>\n",
       "      <td>0.000000</td>\n",
       "      <td>1.000000</td>\n",
       "      <td>0.000000</td>\n",
       "      <td>0.000000</td>\n",
       "    </tr>\n",
       "    <tr>\n",
       "      <th>max</th>\n",
       "      <td>755000.000000</td>\n",
       "      <td>10.000000</td>\n",
       "      <td>5642.000000</td>\n",
       "      <td>1.000000</td>\n",
       "      <td>5644.000000</td>\n",
       "      <td>1.000000</td>\n",
       "      <td>2010.000000</td>\n",
       "      <td>190.000000</td>\n",
       "      <td>1.000000</td>\n",
       "      <td>1.000000</td>\n",
       "      <td>...</td>\n",
       "      <td>1.000000</td>\n",
       "      <td>1.000000</td>\n",
       "      <td>480.000000</td>\n",
       "      <td>857.000000</td>\n",
       "      <td>1.000000</td>\n",
       "      <td>1.000000</td>\n",
       "      <td>1.000000</td>\n",
       "      <td>1.000000</td>\n",
       "      <td>1.000000</td>\n",
       "      <td>1.000000</td>\n",
       "    </tr>\n",
       "  </tbody>\n",
       "</table>\n",
       "<p>8 rows × 58 columns</p>\n",
       "</div>"
      ],
      "text/plain": [
       "           SalePrice  OverallQual    GrLivArea  BsmtQual_Ex   BsmtFinSF1  \\\n",
       "count    1460.000000  1460.000000  1460.000000  1460.000000  1460.000000   \n",
       "mean   180921.195890     6.099315  1515.463699     0.082877   443.639726   \n",
       "std     79442.502883     1.382997   525.480383     0.275790   456.098091   \n",
       "min     34900.000000     1.000000   334.000000     0.000000     0.000000   \n",
       "25%    129975.000000     5.000000  1129.500000     0.000000     0.000000   \n",
       "50%    163000.000000     6.000000  1464.000000     0.000000   383.500000   \n",
       "75%    214000.000000     7.000000  1776.750000     0.000000   712.250000   \n",
       "max    755000.000000    10.000000  5642.000000     1.000000  5644.000000   \n",
       "\n",
       "       RoofMatl_ClyTile    YearBuilt   MSSubClass  Condition2_PosN  \\\n",
       "count       1460.000000  1460.000000  1460.000000      1460.000000   \n",
       "mean           0.000685  1971.267808    56.897260         0.001370   \n",
       "std            0.026171    30.202904    42.300571         0.036999   \n",
       "min            0.000000  1872.000000    20.000000         0.000000   \n",
       "25%            0.000000  1954.000000    20.000000         0.000000   \n",
       "50%            0.000000  1973.000000    50.000000         0.000000   \n",
       "75%            0.000000  2000.000000    70.000000         0.000000   \n",
       "max            1.000000  2010.000000   190.000000         1.000000   \n",
       "\n",
       "       KitchenQual_Ex       ...         GarageType_No garage  \\\n",
       "count     1460.000000       ...                  1460.000000   \n",
       "mean         0.068493       ...                     0.055479   \n",
       "std          0.252677       ...                     0.228992   \n",
       "min          0.000000       ...                     0.000000   \n",
       "25%          0.000000       ...                     0.000000   \n",
       "50%          0.000000       ...                     0.000000   \n",
       "75%          0.000000       ...                     0.000000   \n",
       "max          1.000000       ...                     1.000000   \n",
       "\n",
       "       GarageQual_No garage  ScreenPorch   WoodDeckSF  \\\n",
       "count           1460.000000  1460.000000  1460.000000   \n",
       "mean               0.055479    15.060959    94.244521   \n",
       "std                0.228992    55.757415   125.338794   \n",
       "min                0.000000     0.000000     0.000000   \n",
       "25%                0.000000     0.000000     0.000000   \n",
       "50%                0.000000     0.000000     0.000000   \n",
       "75%                0.000000     0.000000   168.000000   \n",
       "max                1.000000   480.000000   857.000000   \n",
       "\n",
       "       FireplaceQu_No FireplaceQu  GarageQual_Ex  Fence_GdPrv  \\\n",
       "count                 1460.000000    1460.000000  1460.000000   \n",
       "mean                     0.472603       0.002055     0.040411   \n",
       "std                      0.499420       0.045299     0.196989   \n",
       "min                      0.000000       0.000000     0.000000   \n",
       "25%                      0.000000       0.000000     0.000000   \n",
       "50%                      0.000000       0.000000     0.000000   \n",
       "75%                      1.000000       0.000000     0.000000   \n",
       "max                      1.000000       1.000000     1.000000   \n",
       "\n",
       "       BsmtFinType1_GLQ  Condition1_RRAe  Condition2_PosA  \n",
       "count       1460.000000      1460.000000      1460.000000  \n",
       "mean           0.286301         0.007534         0.000685  \n",
       "std            0.452187         0.086502         0.026171  \n",
       "min            0.000000         0.000000         0.000000  \n",
       "25%            0.000000         0.000000         0.000000  \n",
       "50%            0.000000         0.000000         0.000000  \n",
       "75%            1.000000         0.000000         0.000000  \n",
       "max            1.000000         1.000000         1.000000  \n",
       "\n",
       "[8 rows x 58 columns]"
      ]
     },
     "execution_count": 24,
     "metadata": {},
     "output_type": "execute_result"
    }
   ],
   "source": [
    "data1.describe()"
   ]
  },
  {
   "cell_type": "markdown",
   "metadata": {},
   "source": [
    "We realised that due to one hot encoding, two variables are now identical, ie. GarageType_No garage and GarageQual_No garage. Naturally, we do not need both of them, so we will exclude one.\n",
    "We also spotted that there is a dummy variable, Condition2_PosA, that is equal to 1 just in one case. We will also remove this variables."
   ]
  },
  {
   "cell_type": "code",
   "execution_count": 25,
   "metadata": {},
   "outputs": [],
   "source": [
    "data1 = data1.drop(columns = ['GarageQual_No garage', 'Condition2_PosA'])"
   ]
  },
  {
   "cell_type": "code",
   "execution_count": 26,
   "metadata": {},
   "outputs": [
    {
     "data": {
      "text/html": [
       "<div>\n",
       "<style scoped>\n",
       "    .dataframe tbody tr th:only-of-type {\n",
       "        vertical-align: middle;\n",
       "    }\n",
       "\n",
       "    .dataframe tbody tr th {\n",
       "        vertical-align: top;\n",
       "    }\n",
       "\n",
       "    .dataframe thead th {\n",
       "        text-align: right;\n",
       "    }\n",
       "</style>\n",
       "<table border=\"1\" class=\"dataframe\">\n",
       "  <thead>\n",
       "    <tr style=\"text-align: right;\">\n",
       "      <th></th>\n",
       "      <th>SalePrice</th>\n",
       "      <th>OverallQual</th>\n",
       "      <th>GrLivArea</th>\n",
       "      <th>BsmtQual_Ex</th>\n",
       "      <th>BsmtFinSF1</th>\n",
       "      <th>RoofMatl_ClyTile</th>\n",
       "      <th>YearBuilt</th>\n",
       "      <th>MSSubClass</th>\n",
       "      <th>Condition2_PosN</th>\n",
       "      <th>KitchenQual_Ex</th>\n",
       "      <th>...</th>\n",
       "      <th>Street_Grvl</th>\n",
       "      <th>LandSlope_Sev</th>\n",
       "      <th>GarageType_No garage</th>\n",
       "      <th>ScreenPorch</th>\n",
       "      <th>WoodDeckSF</th>\n",
       "      <th>FireplaceQu_No FireplaceQu</th>\n",
       "      <th>GarageQual_Ex</th>\n",
       "      <th>Fence_GdPrv</th>\n",
       "      <th>BsmtFinType1_GLQ</th>\n",
       "      <th>Condition1_RRAe</th>\n",
       "    </tr>\n",
       "  </thead>\n",
       "  <tbody>\n",
       "    <tr>\n",
       "      <th>count</th>\n",
       "      <td>1460.000000</td>\n",
       "      <td>1460.000000</td>\n",
       "      <td>1460.000000</td>\n",
       "      <td>1460.000000</td>\n",
       "      <td>1460.000000</td>\n",
       "      <td>1460.000000</td>\n",
       "      <td>1460.000000</td>\n",
       "      <td>1460.000000</td>\n",
       "      <td>1460.000000</td>\n",
       "      <td>1460.000000</td>\n",
       "      <td>...</td>\n",
       "      <td>1460.000000</td>\n",
       "      <td>1460.000000</td>\n",
       "      <td>1460.000000</td>\n",
       "      <td>1460.000000</td>\n",
       "      <td>1460.000000</td>\n",
       "      <td>1460.000000</td>\n",
       "      <td>1460.000000</td>\n",
       "      <td>1460.000000</td>\n",
       "      <td>1460.000000</td>\n",
       "      <td>1460.000000</td>\n",
       "    </tr>\n",
       "    <tr>\n",
       "      <th>mean</th>\n",
       "      <td>180921.195890</td>\n",
       "      <td>6.099315</td>\n",
       "      <td>1515.463699</td>\n",
       "      <td>0.082877</td>\n",
       "      <td>443.639726</td>\n",
       "      <td>0.000685</td>\n",
       "      <td>1971.267808</td>\n",
       "      <td>56.897260</td>\n",
       "      <td>0.001370</td>\n",
       "      <td>0.068493</td>\n",
       "      <td>...</td>\n",
       "      <td>0.004110</td>\n",
       "      <td>0.008904</td>\n",
       "      <td>0.055479</td>\n",
       "      <td>15.060959</td>\n",
       "      <td>94.244521</td>\n",
       "      <td>0.472603</td>\n",
       "      <td>0.002055</td>\n",
       "      <td>0.040411</td>\n",
       "      <td>0.286301</td>\n",
       "      <td>0.007534</td>\n",
       "    </tr>\n",
       "    <tr>\n",
       "      <th>std</th>\n",
       "      <td>79442.502883</td>\n",
       "      <td>1.382997</td>\n",
       "      <td>525.480383</td>\n",
       "      <td>0.275790</td>\n",
       "      <td>456.098091</td>\n",
       "      <td>0.026171</td>\n",
       "      <td>30.202904</td>\n",
       "      <td>42.300571</td>\n",
       "      <td>0.036999</td>\n",
       "      <td>0.252677</td>\n",
       "      <td>...</td>\n",
       "      <td>0.063996</td>\n",
       "      <td>0.093973</td>\n",
       "      <td>0.228992</td>\n",
       "      <td>55.757415</td>\n",
       "      <td>125.338794</td>\n",
       "      <td>0.499420</td>\n",
       "      <td>0.045299</td>\n",
       "      <td>0.196989</td>\n",
       "      <td>0.452187</td>\n",
       "      <td>0.086502</td>\n",
       "    </tr>\n",
       "    <tr>\n",
       "      <th>min</th>\n",
       "      <td>34900.000000</td>\n",
       "      <td>1.000000</td>\n",
       "      <td>334.000000</td>\n",
       "      <td>0.000000</td>\n",
       "      <td>0.000000</td>\n",
       "      <td>0.000000</td>\n",
       "      <td>1872.000000</td>\n",
       "      <td>20.000000</td>\n",
       "      <td>0.000000</td>\n",
       "      <td>0.000000</td>\n",
       "      <td>...</td>\n",
       "      <td>0.000000</td>\n",
       "      <td>0.000000</td>\n",
       "      <td>0.000000</td>\n",
       "      <td>0.000000</td>\n",
       "      <td>0.000000</td>\n",
       "      <td>0.000000</td>\n",
       "      <td>0.000000</td>\n",
       "      <td>0.000000</td>\n",
       "      <td>0.000000</td>\n",
       "      <td>0.000000</td>\n",
       "    </tr>\n",
       "    <tr>\n",
       "      <th>25%</th>\n",
       "      <td>129975.000000</td>\n",
       "      <td>5.000000</td>\n",
       "      <td>1129.500000</td>\n",
       "      <td>0.000000</td>\n",
       "      <td>0.000000</td>\n",
       "      <td>0.000000</td>\n",
       "      <td>1954.000000</td>\n",
       "      <td>20.000000</td>\n",
       "      <td>0.000000</td>\n",
       "      <td>0.000000</td>\n",
       "      <td>...</td>\n",
       "      <td>0.000000</td>\n",
       "      <td>0.000000</td>\n",
       "      <td>0.000000</td>\n",
       "      <td>0.000000</td>\n",
       "      <td>0.000000</td>\n",
       "      <td>0.000000</td>\n",
       "      <td>0.000000</td>\n",
       "      <td>0.000000</td>\n",
       "      <td>0.000000</td>\n",
       "      <td>0.000000</td>\n",
       "    </tr>\n",
       "    <tr>\n",
       "      <th>50%</th>\n",
       "      <td>163000.000000</td>\n",
       "      <td>6.000000</td>\n",
       "      <td>1464.000000</td>\n",
       "      <td>0.000000</td>\n",
       "      <td>383.500000</td>\n",
       "      <td>0.000000</td>\n",
       "      <td>1973.000000</td>\n",
       "      <td>50.000000</td>\n",
       "      <td>0.000000</td>\n",
       "      <td>0.000000</td>\n",
       "      <td>...</td>\n",
       "      <td>0.000000</td>\n",
       "      <td>0.000000</td>\n",
       "      <td>0.000000</td>\n",
       "      <td>0.000000</td>\n",
       "      <td>0.000000</td>\n",
       "      <td>0.000000</td>\n",
       "      <td>0.000000</td>\n",
       "      <td>0.000000</td>\n",
       "      <td>0.000000</td>\n",
       "      <td>0.000000</td>\n",
       "    </tr>\n",
       "    <tr>\n",
       "      <th>75%</th>\n",
       "      <td>214000.000000</td>\n",
       "      <td>7.000000</td>\n",
       "      <td>1776.750000</td>\n",
       "      <td>0.000000</td>\n",
       "      <td>712.250000</td>\n",
       "      <td>0.000000</td>\n",
       "      <td>2000.000000</td>\n",
       "      <td>70.000000</td>\n",
       "      <td>0.000000</td>\n",
       "      <td>0.000000</td>\n",
       "      <td>...</td>\n",
       "      <td>0.000000</td>\n",
       "      <td>0.000000</td>\n",
       "      <td>0.000000</td>\n",
       "      <td>0.000000</td>\n",
       "      <td>168.000000</td>\n",
       "      <td>1.000000</td>\n",
       "      <td>0.000000</td>\n",
       "      <td>0.000000</td>\n",
       "      <td>1.000000</td>\n",
       "      <td>0.000000</td>\n",
       "    </tr>\n",
       "    <tr>\n",
       "      <th>max</th>\n",
       "      <td>755000.000000</td>\n",
       "      <td>10.000000</td>\n",
       "      <td>5642.000000</td>\n",
       "      <td>1.000000</td>\n",
       "      <td>5644.000000</td>\n",
       "      <td>1.000000</td>\n",
       "      <td>2010.000000</td>\n",
       "      <td>190.000000</td>\n",
       "      <td>1.000000</td>\n",
       "      <td>1.000000</td>\n",
       "      <td>...</td>\n",
       "      <td>1.000000</td>\n",
       "      <td>1.000000</td>\n",
       "      <td>1.000000</td>\n",
       "      <td>480.000000</td>\n",
       "      <td>857.000000</td>\n",
       "      <td>1.000000</td>\n",
       "      <td>1.000000</td>\n",
       "      <td>1.000000</td>\n",
       "      <td>1.000000</td>\n",
       "      <td>1.000000</td>\n",
       "    </tr>\n",
       "  </tbody>\n",
       "</table>\n",
       "<p>8 rows × 56 columns</p>\n",
       "</div>"
      ],
      "text/plain": [
       "           SalePrice  OverallQual    GrLivArea  BsmtQual_Ex   BsmtFinSF1  \\\n",
       "count    1460.000000  1460.000000  1460.000000  1460.000000  1460.000000   \n",
       "mean   180921.195890     6.099315  1515.463699     0.082877   443.639726   \n",
       "std     79442.502883     1.382997   525.480383     0.275790   456.098091   \n",
       "min     34900.000000     1.000000   334.000000     0.000000     0.000000   \n",
       "25%    129975.000000     5.000000  1129.500000     0.000000     0.000000   \n",
       "50%    163000.000000     6.000000  1464.000000     0.000000   383.500000   \n",
       "75%    214000.000000     7.000000  1776.750000     0.000000   712.250000   \n",
       "max    755000.000000    10.000000  5642.000000     1.000000  5644.000000   \n",
       "\n",
       "       RoofMatl_ClyTile    YearBuilt   MSSubClass  Condition2_PosN  \\\n",
       "count       1460.000000  1460.000000  1460.000000      1460.000000   \n",
       "mean           0.000685  1971.267808    56.897260         0.001370   \n",
       "std            0.026171    30.202904    42.300571         0.036999   \n",
       "min            0.000000  1872.000000    20.000000         0.000000   \n",
       "25%            0.000000  1954.000000    20.000000         0.000000   \n",
       "50%            0.000000  1973.000000    50.000000         0.000000   \n",
       "75%            0.000000  2000.000000    70.000000         0.000000   \n",
       "max            1.000000  2010.000000   190.000000         1.000000   \n",
       "\n",
       "       KitchenQual_Ex       ...         Street_Grvl  LandSlope_Sev  \\\n",
       "count     1460.000000       ...         1460.000000    1460.000000   \n",
       "mean         0.068493       ...            0.004110       0.008904   \n",
       "std          0.252677       ...            0.063996       0.093973   \n",
       "min          0.000000       ...            0.000000       0.000000   \n",
       "25%          0.000000       ...            0.000000       0.000000   \n",
       "50%          0.000000       ...            0.000000       0.000000   \n",
       "75%          0.000000       ...            0.000000       0.000000   \n",
       "max          1.000000       ...            1.000000       1.000000   \n",
       "\n",
       "       GarageType_No garage  ScreenPorch   WoodDeckSF  \\\n",
       "count           1460.000000  1460.000000  1460.000000   \n",
       "mean               0.055479    15.060959    94.244521   \n",
       "std                0.228992    55.757415   125.338794   \n",
       "min                0.000000     0.000000     0.000000   \n",
       "25%                0.000000     0.000000     0.000000   \n",
       "50%                0.000000     0.000000     0.000000   \n",
       "75%                0.000000     0.000000   168.000000   \n",
       "max                1.000000   480.000000   857.000000   \n",
       "\n",
       "       FireplaceQu_No FireplaceQu  GarageQual_Ex  Fence_GdPrv  \\\n",
       "count                 1460.000000    1460.000000  1460.000000   \n",
       "mean                     0.472603       0.002055     0.040411   \n",
       "std                      0.499420       0.045299     0.196989   \n",
       "min                      0.000000       0.000000     0.000000   \n",
       "25%                      0.000000       0.000000     0.000000   \n",
       "50%                      0.000000       0.000000     0.000000   \n",
       "75%                      1.000000       0.000000     0.000000   \n",
       "max                      1.000000       1.000000     1.000000   \n",
       "\n",
       "       BsmtFinType1_GLQ  Condition1_RRAe  \n",
       "count       1460.000000      1460.000000  \n",
       "mean           0.286301         0.007534  \n",
       "std            0.452187         0.086502  \n",
       "min            0.000000         0.000000  \n",
       "25%            0.000000         0.000000  \n",
       "50%            0.000000         0.000000  \n",
       "75%            1.000000         0.000000  \n",
       "max            1.000000         1.000000  \n",
       "\n",
       "[8 rows x 56 columns]"
      ]
     },
     "execution_count": 26,
     "metadata": {},
     "output_type": "execute_result"
    }
   ],
   "source": [
    "data1.describe()"
   ]
  },
  {
   "cell_type": "markdown",
   "metadata": {},
   "source": [
    "## 3.2. Linear Regression"
   ]
  },
  {
   "cell_type": "markdown",
   "metadata": {},
   "source": [
    "Firstly, we will split our dataset into test and training sets. We will do the same split for later regressions so that we can compare the accuracy of each model on test set."
   ]
  },
  {
   "cell_type": "code",
   "execution_count": 27,
   "metadata": {},
   "outputs": [],
   "source": [
    "X_lm = data1.loc[:, data1.columns != 'SalePrice'] \n",
    "y_lm = data1.SalePrice\n",
    "\n",
    "X_lm_train, X_lm_test, y_lm_train, y_lm_test = train_test_split(X_lm, y_lm, test_size=0.3, random_state=42)"
   ]
  },
  {
   "cell_type": "markdown",
   "metadata": {},
   "source": [
    "Having done that, we will move over to estimating the model."
   ]
  },
  {
   "cell_type": "code",
   "execution_count": 28,
   "metadata": {},
   "outputs": [
    {
     "data": {
      "text/html": [
       "<table class=\"simpletable\">\n",
       "<caption>OLS Regression Results</caption>\n",
       "<tr>\n",
       "  <th>Dep. Variable:</th>        <td>SalePrice</td>    <th>  R-squared:         </th> <td>   0.920</td> \n",
       "</tr>\n",
       "<tr>\n",
       "  <th>Model:</th>                   <td>OLS</td>       <th>  Adj. R-squared:    </th> <td>   0.915</td> \n",
       "</tr>\n",
       "<tr>\n",
       "  <th>Method:</th>             <td>Least Squares</td>  <th>  F-statistic:       </th> <td>   204.7</td> \n",
       "</tr>\n",
       "<tr>\n",
       "  <th>Date:</th>             <td>Tue, 28 May 2019</td> <th>  Prob (F-statistic):</th>  <td>  0.00</td>  \n",
       "</tr>\n",
       "<tr>\n",
       "  <th>Time:</th>                 <td>23:57:46</td>     <th>  Log-Likelihood:    </th> <td> -11669.</td> \n",
       "</tr>\n",
       "<tr>\n",
       "  <th>No. Observations:</th>      <td>  1022</td>      <th>  AIC:               </th> <td>2.345e+04</td>\n",
       "</tr>\n",
       "<tr>\n",
       "  <th>Df Residuals:</th>          <td>   967</td>      <th>  BIC:               </th> <td>2.372e+04</td>\n",
       "</tr>\n",
       "<tr>\n",
       "  <th>Df Model:</th>              <td>    54</td>      <th>                     </th>     <td> </td>    \n",
       "</tr>\n",
       "<tr>\n",
       "  <th>Covariance Type:</th>      <td>nonrobust</td>    <th>                     </th>     <td> </td>    \n",
       "</tr>\n",
       "</table>\n",
       "<table class=\"simpletable\">\n",
       "<tr>\n",
       "               <td></td>                 <th>coef</th>     <th>std err</th>      <th>t</th>      <th>P>|t|</th>  <th>[0.025</th>    <th>0.975]</th>  \n",
       "</tr>\n",
       "<tr>\n",
       "  <th>OverallQual</th>                <td> 7817.3442</td> <td> 1019.854</td> <td>    7.665</td> <td> 0.000</td> <td> 5815.962</td> <td> 9818.726</td>\n",
       "</tr>\n",
       "<tr>\n",
       "  <th>GrLivArea</th>                  <td>   52.6437</td> <td>    3.594</td> <td>   14.649</td> <td> 0.000</td> <td>   45.591</td> <td>   59.696</td>\n",
       "</tr>\n",
       "<tr>\n",
       "  <th>BsmtQual_Ex</th>                <td> 2.436e+04</td> <td> 3631.892</td> <td>    6.708</td> <td> 0.000</td> <td> 1.72e+04</td> <td> 3.15e+04</td>\n",
       "</tr>\n",
       "<tr>\n",
       "  <th>BsmtFinSF1</th>                 <td>   23.2668</td> <td>    2.961</td> <td>    7.858</td> <td> 0.000</td> <td>   17.456</td> <td>   29.077</td>\n",
       "</tr>\n",
       "<tr>\n",
       "  <th>RoofMatl_ClyTile</th>           <td>-6.658e+05</td> <td> 3.67e+04</td> <td>  -18.151</td> <td> 0.000</td> <td>-7.38e+05</td> <td>-5.94e+05</td>\n",
       "</tr>\n",
       "<tr>\n",
       "  <th>YearBuilt</th>                  <td>  389.2879</td> <td>   44.764</td> <td>    8.696</td> <td> 0.000</td> <td>  301.442</td> <td>  477.134</td>\n",
       "</tr>\n",
       "<tr>\n",
       "  <th>MSSubClass</th>                 <td> -183.6354</td> <td>   23.580</td> <td>   -7.788</td> <td> 0.000</td> <td> -229.910</td> <td> -137.361</td>\n",
       "</tr>\n",
       "<tr>\n",
       "  <th>Condition2_PosN</th>            <td>-2.172e+05</td> <td> 1.75e+04</td> <td>  -12.380</td> <td> 0.000</td> <td>-2.52e+05</td> <td>-1.83e+05</td>\n",
       "</tr>\n",
       "<tr>\n",
       "  <th>KitchenQual_Ex</th>             <td>  2.24e+04</td> <td> 4047.256</td> <td>    5.534</td> <td> 0.000</td> <td> 1.45e+04</td> <td> 3.03e+04</td>\n",
       "</tr>\n",
       "<tr>\n",
       "  <th>BsmtExposure_Gd</th>            <td> 2.275e+04</td> <td> 2866.442</td> <td>    7.936</td> <td> 0.000</td> <td> 1.71e+04</td> <td> 2.84e+04</td>\n",
       "</tr>\n",
       "<tr>\n",
       "  <th>OverallCond</th>                <td> 4619.7752</td> <td>  830.446</td> <td>    5.563</td> <td> 0.000</td> <td> 2990.092</td> <td> 6249.458</td>\n",
       "</tr>\n",
       "<tr>\n",
       "  <th>SaleType_New</th>               <td> 1.897e+04</td> <td> 4007.612</td> <td>    4.733</td> <td> 0.000</td> <td> 1.11e+04</td> <td> 2.68e+04</td>\n",
       "</tr>\n",
       "<tr>\n",
       "  <th>Neighborhood_NoRidge</th>       <td> 3.876e+04</td> <td> 5160.498</td> <td>    7.511</td> <td> 0.000</td> <td> 2.86e+04</td> <td> 4.89e+04</td>\n",
       "</tr>\n",
       "<tr>\n",
       "  <th>LotArea</th>                    <td>    0.4284</td> <td>    0.098</td> <td>    4.378</td> <td> 0.000</td> <td>    0.236</td> <td>    0.620</td>\n",
       "</tr>\n",
       "<tr>\n",
       "  <th>BedroomAbvGr</th>               <td>-4125.1241</td> <td> 1418.439</td> <td>   -2.908</td> <td> 0.004</td> <td>-6908.698</td> <td>-1341.550</td>\n",
       "</tr>\n",
       "<tr>\n",
       "  <th>Neighborhood_NridgHt</th>       <td> 2.414e+04</td> <td> 4233.390</td> <td>    5.703</td> <td> 0.000</td> <td> 1.58e+04</td> <td> 3.25e+04</td>\n",
       "</tr>\n",
       "<tr>\n",
       "  <th>Neighborhood_StoneBr</th>       <td>  4.35e+04</td> <td> 5727.923</td> <td>    7.595</td> <td> 0.000</td> <td> 3.23e+04</td> <td> 5.47e+04</td>\n",
       "</tr>\n",
       "<tr>\n",
       "  <th>Neighborhood_Crawfor</th>       <td> 2.463e+04</td> <td> 4105.137</td> <td>    6.000</td> <td> 0.000</td> <td> 1.66e+04</td> <td> 3.27e+04</td>\n",
       "</tr>\n",
       "<tr>\n",
       "  <th>GarageArea</th>                 <td>   31.8960</td> <td>    5.646</td> <td>    5.649</td> <td> 0.000</td> <td>   20.816</td> <td>   42.976</td>\n",
       "</tr>\n",
       "<tr>\n",
       "  <th>RoofMatl_WdShngl</th>           <td> 4.118e+04</td> <td> 1.26e+04</td> <td>    3.258</td> <td> 0.001</td> <td> 1.64e+04</td> <td>  6.6e+04</td>\n",
       "</tr>\n",
       "<tr>\n",
       "  <th>ExterQual_Ex</th>               <td> 2.326e+04</td> <td> 5274.295</td> <td>    4.411</td> <td> 0.000</td> <td> 1.29e+04</td> <td> 3.36e+04</td>\n",
       "</tr>\n",
       "<tr>\n",
       "  <th>Functional_Typ</th>             <td> 1.521e+04</td> <td> 2968.471</td> <td>    5.124</td> <td> 0.000</td> <td> 9385.289</td> <td>  2.1e+04</td>\n",
       "</tr>\n",
       "<tr>\n",
       "  <th>PoolQC_Ex</th>                  <td> 1.169e+05</td> <td> 1.77e+04</td> <td>    6.602</td> <td> 0.000</td> <td> 8.21e+04</td> <td> 1.52e+05</td>\n",
       "</tr>\n",
       "<tr>\n",
       "  <th>SaleCondition_Normal</th>       <td> 5422.2060</td> <td> 2597.297</td> <td>    2.088</td> <td> 0.037</td> <td>  325.218</td> <td> 1.05e+04</td>\n",
       "</tr>\n",
       "<tr>\n",
       "  <th>Neighborhood_Somerst</th>       <td> 1.409e+04</td> <td> 3619.669</td> <td>    3.893</td> <td> 0.000</td> <td> 6987.381</td> <td> 2.12e+04</td>\n",
       "</tr>\n",
       "<tr>\n",
       "  <th>Condition1_Norm</th>            <td> 8029.4588</td> <td> 2253.639</td> <td>    3.563</td> <td> 0.000</td> <td> 3606.873</td> <td> 1.25e+04</td>\n",
       "</tr>\n",
       "<tr>\n",
       "  <th>Exterior1st_BrkFace</th>        <td>  2.14e+04</td> <td> 4219.343</td> <td>    5.072</td> <td> 0.000</td> <td> 1.31e+04</td> <td> 2.97e+04</td>\n",
       "</tr>\n",
       "<tr>\n",
       "  <th>BsmtExposure_Av</th>            <td> 6209.7345</td> <td> 2245.093</td> <td>    2.766</td> <td> 0.006</td> <td> 1803.919</td> <td> 1.06e+04</td>\n",
       "</tr>\n",
       "<tr>\n",
       "  <th>HeatingQC_Ex</th>               <td> 4965.0807</td> <td> 1820.728</td> <td>    2.727</td> <td> 0.007</td> <td> 1392.047</td> <td> 8538.114</td>\n",
       "</tr>\n",
       "<tr>\n",
       "  <th>Neighborhood_BrkSide</th>       <td> 1.432e+04</td> <td> 3853.358</td> <td>    3.717</td> <td> 0.000</td> <td> 6759.662</td> <td> 2.19e+04</td>\n",
       "</tr>\n",
       "<tr>\n",
       "  <th>LotConfig_CulDSac</th>          <td> 8716.1337</td> <td> 2895.604</td> <td>    3.010</td> <td> 0.003</td> <td> 3033.741</td> <td> 1.44e+04</td>\n",
       "</tr>\n",
       "<tr>\n",
       "  <th>BldgType_2fmCon</th>            <td> 2.111e+04</td> <td> 6004.168</td> <td>    3.516</td> <td> 0.000</td> <td> 9328.655</td> <td> 3.29e+04</td>\n",
       "</tr>\n",
       "<tr>\n",
       "  <th>Fireplaces</th>                 <td> 8488.2115</td> <td> 2838.536</td> <td>    2.990</td> <td> 0.003</td> <td> 2917.811</td> <td> 1.41e+04</td>\n",
       "</tr>\n",
       "<tr>\n",
       "  <th>LowQualFinSF</th>               <td>  -43.9141</td> <td>   16.516</td> <td>   -2.659</td> <td> 0.008</td> <td>  -76.325</td> <td>  -11.503</td>\n",
       "</tr>\n",
       "<tr>\n",
       "  <th>KitchenAbvGr</th>               <td>-1.587e+04</td> <td> 4357.272</td> <td>   -3.643</td> <td> 0.000</td> <td>-2.44e+04</td> <td>-7323.175</td>\n",
       "</tr>\n",
       "<tr>\n",
       "  <th>Functional_Sev</th>             <td>-5.691e+04</td> <td> 2.34e+04</td> <td>   -2.430</td> <td> 0.015</td> <td>-1.03e+05</td> <td> -1.1e+04</td>\n",
       "</tr>\n",
       "<tr>\n",
       "  <th>MasVnrArea</th>                 <td>   18.2122</td> <td>    6.875</td> <td>    2.649</td> <td> 0.008</td> <td>    4.720</td> <td>   31.705</td>\n",
       "</tr>\n",
       "<tr>\n",
       "  <th>PoolQC_Gd</th>                  <td>  7.53e+04</td> <td> 2.36e+04</td> <td>    3.187</td> <td> 0.001</td> <td> 2.89e+04</td> <td> 1.22e+05</td>\n",
       "</tr>\n",
       "<tr>\n",
       "  <th>YearRemodAdd</th>               <td>  152.8036</td> <td>   55.004</td> <td>    2.778</td> <td> 0.006</td> <td>   44.863</td> <td>  260.744</td>\n",
       "</tr>\n",
       "<tr>\n",
       "  <th>BsmtFinSF2</th>                 <td>   12.8920</td> <td>    5.290</td> <td>    2.437</td> <td> 0.015</td> <td>    2.511</td> <td>   23.273</td>\n",
       "</tr>\n",
       "<tr>\n",
       "  <th>BsmtUnfSF</th>                  <td>    7.7714</td> <td>    2.707</td> <td>    2.871</td> <td> 0.004</td> <td>    2.460</td> <td>   13.083</td>\n",
       "</tr>\n",
       "<tr>\n",
       "  <th>TotRmsAbvGrd</th>               <td> 3124.9875</td> <td> 1030.312</td> <td>    3.033</td> <td> 0.002</td> <td> 1103.082</td> <td> 5146.893</td>\n",
       "</tr>\n",
       "<tr>\n",
       "  <th>Neighborhood_Mitchel</th>       <td>-1.054e+04</td> <td> 4195.254</td> <td>   -2.512</td> <td> 0.012</td> <td>-1.88e+04</td> <td>-2305.672</td>\n",
       "</tr>\n",
       "<tr>\n",
       "  <th>MasVnrType_None</th>            <td> 5545.6587</td> <td> 2246.423</td> <td>    2.469</td> <td> 0.014</td> <td> 1137.232</td> <td> 9954.085</td>\n",
       "</tr>\n",
       "<tr>\n",
       "  <th>Street_Pave</th>                <td>-1.119e+06</td> <td> 1.08e+05</td> <td>  -10.347</td> <td> 0.000</td> <td>-1.33e+06</td> <td>-9.07e+05</td>\n",
       "</tr>\n",
       "<tr>\n",
       "  <th>Street_Grvl</th>                <td>-1.146e+06</td> <td> 1.09e+05</td> <td>  -10.554</td> <td> 0.000</td> <td>-1.36e+06</td> <td>-9.33e+05</td>\n",
       "</tr>\n",
       "<tr>\n",
       "  <th>LandSlope_Sev</th>              <td>-9163.4297</td> <td> 1.07e+04</td> <td>   -0.855</td> <td> 0.392</td> <td>-3.02e+04</td> <td> 1.19e+04</td>\n",
       "</tr>\n",
       "<tr>\n",
       "  <th>GarageType_No garage</th>       <td> 7800.5821</td> <td> 4153.586</td> <td>    1.878</td> <td> 0.061</td> <td> -350.500</td> <td>  1.6e+04</td>\n",
       "</tr>\n",
       "<tr>\n",
       "  <th>ScreenPorch</th>                <td>   43.8866</td> <td>   13.487</td> <td>    3.254</td> <td> 0.001</td> <td>   17.419</td> <td>   70.355</td>\n",
       "</tr>\n",
       "<tr>\n",
       "  <th>WoodDeckSF</th>                 <td>   11.0882</td> <td>    6.209</td> <td>    1.786</td> <td> 0.074</td> <td>   -1.097</td> <td>   23.274</td>\n",
       "</tr>\n",
       "<tr>\n",
       "  <th>FireplaceQu_No FireplaceQu</th> <td> 7306.3041</td> <td> 3592.056</td> <td>    2.034</td> <td> 0.042</td> <td>  257.180</td> <td> 1.44e+04</td>\n",
       "</tr>\n",
       "<tr>\n",
       "  <th>GarageQual_Ex</th>              <td> 3.731e+04</td> <td> 1.43e+04</td> <td>    2.617</td> <td> 0.009</td> <td> 9333.332</td> <td> 6.53e+04</td>\n",
       "</tr>\n",
       "<tr>\n",
       "  <th>Fence_GdPrv</th>                <td>-6088.7627</td> <td> 3814.477</td> <td>   -1.596</td> <td> 0.111</td> <td>-1.36e+04</td> <td> 1396.844</td>\n",
       "</tr>\n",
       "<tr>\n",
       "  <th>BsmtFinType1_GLQ</th>           <td> 2991.5416</td> <td> 2178.962</td> <td>    1.373</td> <td> 0.170</td> <td>-1284.497</td> <td> 7267.580</td>\n",
       "</tr>\n",
       "<tr>\n",
       "  <th>Condition1_RRAe</th>            <td>-1.169e+04</td> <td> 7996.104</td> <td>   -1.462</td> <td> 0.144</td> <td>-2.74e+04</td> <td> 4001.853</td>\n",
       "</tr>\n",
       "</table>\n",
       "<table class=\"simpletable\">\n",
       "<tr>\n",
       "  <th>Omnibus:</th>       <td>233.902</td> <th>  Durbin-Watson:     </th> <td>   2.085</td>\n",
       "</tr>\n",
       "<tr>\n",
       "  <th>Prob(Omnibus):</th> <td> 0.000</td>  <th>  Jarque-Bera (JB):  </th> <td>8294.334</td>\n",
       "</tr>\n",
       "<tr>\n",
       "  <th>Skew:</th>          <td> 0.210</td>  <th>  Prob(JB):          </th> <td>    0.00</td>\n",
       "</tr>\n",
       "<tr>\n",
       "  <th>Kurtosis:</th>      <td>16.950</td>  <th>  Cond. No.          </th> <td>3.42e+06</td>\n",
       "</tr>\n",
       "</table><br/><br/>Warnings:<br/>[1] Standard Errors assume that the covariance matrix of the errors is correctly specified.<br/>[2] The condition number is large, 3.42e+06. This might indicate that there are<br/>strong multicollinearity or other numerical problems."
      ],
      "text/plain": [
       "<class 'statsmodels.iolib.summary.Summary'>\n",
       "\"\"\"\n",
       "                            OLS Regression Results                            \n",
       "==============================================================================\n",
       "Dep. Variable:              SalePrice   R-squared:                       0.920\n",
       "Model:                            OLS   Adj. R-squared:                  0.915\n",
       "Method:                 Least Squares   F-statistic:                     204.7\n",
       "Date:                Tue, 28 May 2019   Prob (F-statistic):               0.00\n",
       "Time:                        23:57:46   Log-Likelihood:                -11669.\n",
       "No. Observations:                1022   AIC:                         2.345e+04\n",
       "Df Residuals:                     967   BIC:                         2.372e+04\n",
       "Df Model:                          54                                         \n",
       "Covariance Type:            nonrobust                                         \n",
       "==============================================================================================\n",
       "                                 coef    std err          t      P>|t|      [0.025      0.975]\n",
       "----------------------------------------------------------------------------------------------\n",
       "OverallQual                 7817.3442   1019.854      7.665      0.000    5815.962    9818.726\n",
       "GrLivArea                     52.6437      3.594     14.649      0.000      45.591      59.696\n",
       "BsmtQual_Ex                 2.436e+04   3631.892      6.708      0.000    1.72e+04    3.15e+04\n",
       "BsmtFinSF1                    23.2668      2.961      7.858      0.000      17.456      29.077\n",
       "RoofMatl_ClyTile           -6.658e+05   3.67e+04    -18.151      0.000   -7.38e+05   -5.94e+05\n",
       "YearBuilt                    389.2879     44.764      8.696      0.000     301.442     477.134\n",
       "MSSubClass                  -183.6354     23.580     -7.788      0.000    -229.910    -137.361\n",
       "Condition2_PosN            -2.172e+05   1.75e+04    -12.380      0.000   -2.52e+05   -1.83e+05\n",
       "KitchenQual_Ex               2.24e+04   4047.256      5.534      0.000    1.45e+04    3.03e+04\n",
       "BsmtExposure_Gd             2.275e+04   2866.442      7.936      0.000    1.71e+04    2.84e+04\n",
       "OverallCond                 4619.7752    830.446      5.563      0.000    2990.092    6249.458\n",
       "SaleType_New                1.897e+04   4007.612      4.733      0.000    1.11e+04    2.68e+04\n",
       "Neighborhood_NoRidge        3.876e+04   5160.498      7.511      0.000    2.86e+04    4.89e+04\n",
       "LotArea                        0.4284      0.098      4.378      0.000       0.236       0.620\n",
       "BedroomAbvGr               -4125.1241   1418.439     -2.908      0.004   -6908.698   -1341.550\n",
       "Neighborhood_NridgHt        2.414e+04   4233.390      5.703      0.000    1.58e+04    3.25e+04\n",
       "Neighborhood_StoneBr         4.35e+04   5727.923      7.595      0.000    3.23e+04    5.47e+04\n",
       "Neighborhood_Crawfor        2.463e+04   4105.137      6.000      0.000    1.66e+04    3.27e+04\n",
       "GarageArea                    31.8960      5.646      5.649      0.000      20.816      42.976\n",
       "RoofMatl_WdShngl            4.118e+04   1.26e+04      3.258      0.001    1.64e+04     6.6e+04\n",
       "ExterQual_Ex                2.326e+04   5274.295      4.411      0.000    1.29e+04    3.36e+04\n",
       "Functional_Typ              1.521e+04   2968.471      5.124      0.000    9385.289     2.1e+04\n",
       "PoolQC_Ex                   1.169e+05   1.77e+04      6.602      0.000    8.21e+04    1.52e+05\n",
       "SaleCondition_Normal        5422.2060   2597.297      2.088      0.037     325.218    1.05e+04\n",
       "Neighborhood_Somerst        1.409e+04   3619.669      3.893      0.000    6987.381    2.12e+04\n",
       "Condition1_Norm             8029.4588   2253.639      3.563      0.000    3606.873    1.25e+04\n",
       "Exterior1st_BrkFace          2.14e+04   4219.343      5.072      0.000    1.31e+04    2.97e+04\n",
       "BsmtExposure_Av             6209.7345   2245.093      2.766      0.006    1803.919    1.06e+04\n",
       "HeatingQC_Ex                4965.0807   1820.728      2.727      0.007    1392.047    8538.114\n",
       "Neighborhood_BrkSide        1.432e+04   3853.358      3.717      0.000    6759.662    2.19e+04\n",
       "LotConfig_CulDSac           8716.1337   2895.604      3.010      0.003    3033.741    1.44e+04\n",
       "BldgType_2fmCon             2.111e+04   6004.168      3.516      0.000    9328.655    3.29e+04\n",
       "Fireplaces                  8488.2115   2838.536      2.990      0.003    2917.811    1.41e+04\n",
       "LowQualFinSF                 -43.9141     16.516     -2.659      0.008     -76.325     -11.503\n",
       "KitchenAbvGr               -1.587e+04   4357.272     -3.643      0.000   -2.44e+04   -7323.175\n",
       "Functional_Sev             -5.691e+04   2.34e+04     -2.430      0.015   -1.03e+05    -1.1e+04\n",
       "MasVnrArea                    18.2122      6.875      2.649      0.008       4.720      31.705\n",
       "PoolQC_Gd                    7.53e+04   2.36e+04      3.187      0.001    2.89e+04    1.22e+05\n",
       "YearRemodAdd                 152.8036     55.004      2.778      0.006      44.863     260.744\n",
       "BsmtFinSF2                    12.8920      5.290      2.437      0.015       2.511      23.273\n",
       "BsmtUnfSF                      7.7714      2.707      2.871      0.004       2.460      13.083\n",
       "TotRmsAbvGrd                3124.9875   1030.312      3.033      0.002    1103.082    5146.893\n",
       "Neighborhood_Mitchel       -1.054e+04   4195.254     -2.512      0.012   -1.88e+04   -2305.672\n",
       "MasVnrType_None             5545.6587   2246.423      2.469      0.014    1137.232    9954.085\n",
       "Street_Pave                -1.119e+06   1.08e+05    -10.347      0.000   -1.33e+06   -9.07e+05\n",
       "Street_Grvl                -1.146e+06   1.09e+05    -10.554      0.000   -1.36e+06   -9.33e+05\n",
       "LandSlope_Sev              -9163.4297   1.07e+04     -0.855      0.392   -3.02e+04    1.19e+04\n",
       "GarageType_No garage        7800.5821   4153.586      1.878      0.061    -350.500     1.6e+04\n",
       "ScreenPorch                   43.8866     13.487      3.254      0.001      17.419      70.355\n",
       "WoodDeckSF                    11.0882      6.209      1.786      0.074      -1.097      23.274\n",
       "FireplaceQu_No FireplaceQu  7306.3041   3592.056      2.034      0.042     257.180    1.44e+04\n",
       "GarageQual_Ex               3.731e+04   1.43e+04      2.617      0.009    9333.332    6.53e+04\n",
       "Fence_GdPrv                -6088.7627   3814.477     -1.596      0.111   -1.36e+04    1396.844\n",
       "BsmtFinType1_GLQ            2991.5416   2178.962      1.373      0.170   -1284.497    7267.580\n",
       "Condition1_RRAe            -1.169e+04   7996.104     -1.462      0.144   -2.74e+04    4001.853\n",
       "==============================================================================\n",
       "Omnibus:                      233.902   Durbin-Watson:                   2.085\n",
       "Prob(Omnibus):                  0.000   Jarque-Bera (JB):             8294.334\n",
       "Skew:                           0.210   Prob(JB):                         0.00\n",
       "Kurtosis:                      16.950   Cond. No.                     3.42e+06\n",
       "==============================================================================\n",
       "\n",
       "Warnings:\n",
       "[1] Standard Errors assume that the covariance matrix of the errors is correctly specified.\n",
       "[2] The condition number is large, 3.42e+06. This might indicate that there are\n",
       "strong multicollinearity or other numerical problems.\n",
       "\"\"\""
      ]
     },
     "execution_count": 28,
     "metadata": {},
     "output_type": "execute_result"
    }
   ],
   "source": [
    "mod = sm.OLS(y_lm_train, X_lm_train)\n",
    "res_final = mod.fit()\n",
    "res_final.summary()"
   ]
  },
  {
   "cell_type": "markdown",
   "metadata": {},
   "source": [
    "The R-squared statistic tells that our model explains 92% of variability. It might indicate that our model is well fitted or overfitted, so we will test on test data how good it actually predicts house prices."
   ]
  },
  {
   "cell_type": "markdown",
   "metadata": {},
   "source": [
    "Before we move on to that, we will check the distribution of errors."
   ]
  },
  {
   "cell_type": "code",
   "execution_count": 29,
   "metadata": {},
   "outputs": [
    {
     "data": {
      "image/png": "[encoded data removed]",
      "text/plain": [
       "<Figure size 432x288 with 1 Axes>"
      ]
     },
     "metadata": {
      "needs_background": "light"
     },
     "output_type": "display_data"
    },
    {
     "data": {
      "image/png": "[encoded data removed]",
      "text/plain": [
       "<Figure size 432x288 with 1 Axes>"
      ]
     },
     "metadata": {
      "needs_background": "light"
     },
     "output_type": "display_data"
    }
   ],
   "source": [
    "plt.hist(res_final.predict())\n",
    "plt.show()\n",
    "plt.hist(res_final.predict() - y_lm_train.values, bins=30)\n",
    "plt.show()"
   ]
  },
  {
   "cell_type": "code",
   "execution_count": 31,
   "metadata": {},
   "outputs": [
    {
     "data": {
      "image/png": "[encoded data removed]",
      "text/plain": [
       "<Figure size 432x288 with 1 Axes>"
      ]
     },
     "metadata": {
      "needs_background": "light"
     },
     "output_type": "display_data"
    }
   ],
   "source": [
    "preds = res_final.predict()\n",
    "fig,ax = plt.subplots()\n",
    "ax.scatter(preds,  y_lm_train.values, alpha=0.1)\n",
    "ax.plot([preds.min(), preds.max()], [preds.min(), preds.max()], 'k--', lw=2)\n",
    "ax.set_xlabel('Measured')\n",
    "ax.set_ylabel('Predicted')\n",
    "plt.title(\"Actuals vs Regression Line\")\n",
    "fig.show()"
   ]
  },
  {
   "cell_type": "markdown",
   "metadata": {},
   "source": [
    "The histogram suggests that the distribution of erros is normal, which indicated that our model is correctly specified.\n",
    "Scatterplot shows that our model seems to generate decent predictions for out dataset.\n",
    "\n",
    "Now we will check the R-squared statistic and some error measures for the train dataset."
   ]
  },
  {
   "cell_type": "code",
   "execution_count": 32,
   "metadata": {},
   "outputs": [
    {
     "name": "stdout",
     "output_type": "stream",
     "text": [
      "R^2: 0.92\n",
      "Mean squared error: 484065350.82\n",
      "Mean absolute error: 14539.54\n"
     ]
    }
   ],
   "source": [
    "preds = res_final.predict()\n",
    "print(\"R^2: %.2f\" % metrics.r2_score(y_lm_train.values, preds))\n",
    "print(\"Mean squared error: %.2f\" % metrics.mean_squared_error(y_lm_train.values, preds))\n",
    "print(\"Mean absolute error: %.2f\" % metrics.mean_absolute_error(y_lm_train.values, preds))"
   ]
  },
  {
   "cell_type": "markdown",
   "metadata": {},
   "source": [
    "The R-squared statistic is pretty high and mean absolute error does not seem to be too big, taking into consideration that the mean value of house price was 180,921. \n",
    "\n",
    "However, we would like to check if our model gives stable, good results. In order to do that, we will use KFold Cross validation. We will split our data into test and train subsets 10 times and calculate R-squared statistic, MSE and MAE for each of them."
   ]
  },
  {
   "cell_type": "code",
   "execution_count": 33,
   "metadata": {},
   "outputs": [
    {
     "data": {
      "text/html": [
       "<div>\n",
       "<style scoped>\n",
       "    .dataframe tbody tr th:only-of-type {\n",
       "        vertical-align: middle;\n",
       "    }\n",
       "\n",
       "    .dataframe tbody tr th {\n",
       "        vertical-align: top;\n",
       "    }\n",
       "\n",
       "    .dataframe thead th {\n",
       "        text-align: right;\n",
       "    }\n",
       "</style>\n",
       "<table border=\"1\" class=\"dataframe\">\n",
       "  <thead>\n",
       "    <tr style=\"text-align: right;\">\n",
       "      <th></th>\n",
       "      <th>R2_train</th>\n",
       "      <th>R2_test</th>\n",
       "      <th>MSE_train</th>\n",
       "      <th>MSE_test</th>\n",
       "      <th>MAE_train</th>\n",
       "      <th>MAE_test</th>\n",
       "    </tr>\n",
       "  </thead>\n",
       "  <tbody>\n",
       "    <tr>\n",
       "      <th>0</th>\n",
       "      <td>0.922593</td>\n",
       "      <td>0.892900</td>\n",
       "      <td>4.507566e+08</td>\n",
       "      <td>8.285243e+08</td>\n",
       "      <td>14130.721480</td>\n",
       "      <td>18760.835936</td>\n",
       "    </tr>\n",
       "    <tr>\n",
       "      <th>1</th>\n",
       "      <td>0.917996</td>\n",
       "      <td>0.932999</td>\n",
       "      <td>5.059010e+08</td>\n",
       "      <td>3.084042e+08</td>\n",
       "      <td>14714.579546</td>\n",
       "      <td>13667.806053</td>\n",
       "    </tr>\n",
       "    <tr>\n",
       "      <th>2</th>\n",
       "      <td>0.922002</td>\n",
       "      <td>0.827001</td>\n",
       "      <td>4.947924e+08</td>\n",
       "      <td>5.227671e+08</td>\n",
       "      <td>14558.116173</td>\n",
       "      <td>15836.260437</td>\n",
       "    </tr>\n",
       "    <tr>\n",
       "      <th>3</th>\n",
       "      <td>0.918729</td>\n",
       "      <td>0.608118</td>\n",
       "      <td>5.026712e+08</td>\n",
       "      <td>1.744160e+09</td>\n",
       "      <td>14666.069784</td>\n",
       "      <td>17916.032024</td>\n",
       "    </tr>\n",
       "    <tr>\n",
       "      <th>4</th>\n",
       "      <td>0.923908</td>\n",
       "      <td>0.870617</td>\n",
       "      <td>4.536278e+08</td>\n",
       "      <td>8.451770e+08</td>\n",
       "      <td>14327.857117</td>\n",
       "      <td>17843.526482</td>\n",
       "    </tr>\n",
       "    <tr>\n",
       "      <th>5</th>\n",
       "      <td>0.917129</td>\n",
       "      <td>0.101393</td>\n",
       "      <td>5.062343e+08</td>\n",
       "      <td>4.665603e+09</td>\n",
       "      <td>14860.737296</td>\n",
       "      <td>19561.699623</td>\n",
       "    </tr>\n",
       "    <tr>\n",
       "      <th>6</th>\n",
       "      <td>0.918519</td>\n",
       "      <td>0.925517</td>\n",
       "      <td>4.990402e+08</td>\n",
       "      <td>3.759231e+08</td>\n",
       "      <td>14716.414369</td>\n",
       "      <td>14167.045703</td>\n",
       "    </tr>\n",
       "    <tr>\n",
       "      <th>7</th>\n",
       "      <td>0.929015</td>\n",
       "      <td>0.682162</td>\n",
       "      <td>4.285721e+08</td>\n",
       "      <td>1.858603e+09</td>\n",
       "      <td>14271.456198</td>\n",
       "      <td>19212.222485</td>\n",
       "    </tr>\n",
       "    <tr>\n",
       "      <th>8</th>\n",
       "      <td>0.928718</td>\n",
       "      <td>0.767600</td>\n",
       "      <td>3.892599e+08</td>\n",
       "      <td>2.516042e+09</td>\n",
       "      <td>13774.165011</td>\n",
       "      <td>20959.557311</td>\n",
       "    </tr>\n",
       "    <tr>\n",
       "      <th>9</th>\n",
       "      <td>0.923293</td>\n",
       "      <td>0.832385</td>\n",
       "      <td>4.575187e+08</td>\n",
       "      <td>1.067931e+09</td>\n",
       "      <td>14161.081828</td>\n",
       "      <td>17441.399695</td>\n",
       "    </tr>\n",
       "  </tbody>\n",
       "</table>\n",
       "</div>"
      ],
      "text/plain": [
       "   R2_train   R2_test     MSE_train      MSE_test     MAE_train      MAE_test\n",
       "0  0.922593  0.892900  4.507566e+08  8.285243e+08  14130.721480  18760.835936\n",
       "1  0.917996  0.932999  5.059010e+08  3.084042e+08  14714.579546  13667.806053\n",
       "2  0.922002  0.827001  4.947924e+08  5.227671e+08  14558.116173  15836.260437\n",
       "3  0.918729  0.608118  5.026712e+08  1.744160e+09  14666.069784  17916.032024\n",
       "4  0.923908  0.870617  4.536278e+08  8.451770e+08  14327.857117  17843.526482\n",
       "5  0.917129  0.101393  5.062343e+08  4.665603e+09  14860.737296  19561.699623\n",
       "6  0.918519  0.925517  4.990402e+08  3.759231e+08  14716.414369  14167.045703\n",
       "7  0.929015  0.682162  4.285721e+08  1.858603e+09  14271.456198  19212.222485\n",
       "8  0.928718  0.767600  3.892599e+08  2.516042e+09  13774.165011  20959.557311\n",
       "9  0.923293  0.832385  4.575187e+08  1.067931e+09  14161.081828  17441.399695"
      ]
     },
     "execution_count": 33,
     "metadata": {},
     "output_type": "execute_result"
    }
   ],
   "source": [
    "kf = KFold(n_splits=10, shuffle=True, random_state=42)\n",
    "\n",
    "R2_train = list()\n",
    "R2_test = list()\n",
    "MSE_train = list()\n",
    "MSE_test = list()\n",
    "MAE_train = list()\n",
    "MAE_test = list()\n",
    "\n",
    "i = 0\n",
    "for train, test in kf.split(X_lm_train.index.values):\n",
    "    mod = sm.OLS(y_lm_train.iloc[train], X_lm_train.iloc[train])\n",
    "    res = mod.fit()\n",
    "    preds_train = res.predict()\n",
    "    preds_test = res.predict(X_lm_train.iloc[test])\n",
    "    R2_train.append(metrics.r2_score(y_lm_train.iloc[train].values, preds_train))\n",
    "    R2_test.append(metrics.r2_score(y_lm_train.iloc[test].values, preds_test))\n",
    "    MSE_train.append(metrics.mean_squared_error(y_lm_train.iloc[train].values, preds_train))\n",
    "    MSE_test.append(metrics.mean_squared_error(y_lm_train.iloc[test].values, preds_test))\n",
    "    MAE_train.append(metrics.mean_absolute_error(y_lm_train.iloc[train].values, preds_train))\n",
    "    MAE_test.append(metrics.mean_absolute_error(y_lm_train.iloc[test].values, preds_test))\n",
    "    i += 1\n",
    "    \n",
    "pd.DataFrame(list(zip(R2_train,R2_test,MSE_train,MSE_test,MAE_train,MAE_test)), columns=['R2_train','R2_test', 'MSE_train', 'MSE_test', 'MAE_train', 'MAE_test'])"
   ]
  },
  {
   "cell_type": "markdown",
   "metadata": {},
   "source": [
    "The results seem to be pretty stable except for one case (6th evaluation), where our model explained only 10% of variability for the test subset and the Mean Squared Error is significantly higher.\n",
    "\n",
    "A possible explanation for that is that 6th data split was just unfortunate for our model. Let's not forget that test subset in K-fold holds only 0.07% of all observations (70% of original dataset * 10% cut in K-Fold). Therefore, we can assume that our model gives pretty reliable estimation of house prices.\n",
    "\n",
    "Finally, we will see the R-squared statistic and error measures on the test subset."
   ]
  },
  {
   "cell_type": "code",
   "execution_count": 34,
   "metadata": {},
   "outputs": [
    {
     "name": "stdout",
     "output_type": "stream",
     "text": [
      "R^2: 0.92\n",
      "Mean squared error: 556553549.62\n",
      "Mean absolute error: 15144.66\n"
     ]
    }
   ],
   "source": [
    "preds_test = res_final.predict(X_lm_test)\n",
    "R2_ols = metrics.r2_score(y_lm_test.values, preds_test)\n",
    "MSE_ols = metrics.mean_squared_error(y_lm_test.values, preds_test)\n",
    "MAE_ols = metrics.mean_absolute_error(y_lm_test.values, preds_test)\n",
    "print(\"R^2: %.2f\" % R2_ols)\n",
    "print(\"Mean squared error: %.2f\" % MSE_ols)\n",
    "print(\"Mean absolute error: %.2f\" % MAE_ols)"
   ]
  },
  {
   "cell_type": "markdown",
   "metadata": {},
   "source": [
    "R-squared for the test subset is just as high as it was for the train subset, while the errors are a bit bigger, but it still seems like a good fit. "
   ]
  },
  {
   "cell_type": "code",
   "execution_count": 35,
   "metadata": {},
   "outputs": [
    {
     "data": {
      "image/png": "[encoded data removed]",
      "text/plain": [
       "<Figure size 432x288 with 1 Axes>"
      ]
     },
     "metadata": {
      "needs_background": "light"
     },
     "output_type": "display_data"
    }
   ],
   "source": [
    "fig,ax = plt.subplots()\n",
    "ax.scatter(preds_test,  y_lm_test.values, alpha=0.1)\n",
    "ax.plot([preds_test.min(), preds_test.max()], [preds_test.min(), preds_test.max()], 'k--', lw=2)\n",
    "ax.set_xlabel('Measured')\n",
    "ax.set_ylabel('Predicted')\n",
    "plt.title(\"Actuals vs Regression Line\")\n",
    "fig.show()"
   ]
  },
  {
   "cell_type": "markdown",
   "metadata": {},
   "source": [
    "# 4. Lasso Regression"
   ]
  },
  {
   "cell_type": "markdown",
   "metadata": {},
   "source": [
    "The alternative way than Linear Regression to handle our regression task is to use Lasso Regression. This method doesn't need feature selection before modelling because it deals with this issue with by itself using L1 regularization. We will start from splitting our dataset into test and training groups and then perform kfold cross validation with Lasso Regression"
   ]
  },
  {
   "cell_type": "markdown",
   "metadata": {},
   "source": [
    "## 4.1. Creating Test and Training sets"
   ]
  },
  {
   "cell_type": "code",
   "execution_count": 36,
   "metadata": {},
   "outputs": [],
   "source": [
    "X_lasso = data.loc[:, data.columns != 'SalePrice'] \n",
    "y_lasso = data.SalePrice\n",
    "\n",
    "X_lasso_train, X_lasso_test, y_lasso_train, y_lasso_test = train_test_split(X_lasso, y_lasso, test_size=0.3, random_state=42)"
   ]
  },
  {
   "cell_type": "markdown",
   "metadata": {},
   "source": [
    "## 4.2. Kfold Cross Validation with Lasso Regression"
   ]
  },
  {
   "cell_type": "markdown",
   "metadata": {},
   "source": [
    "Now we will conduct our modelling. We have to specify the vector of different  \"alphas\" which will be used in Lasso Regression to find the best one (the higher the alpha the more feature coefficients are 0)  "
   ]
  },
  {
   "cell_type": "code",
   "execution_count": 37,
   "metadata": {},
   "outputs": [
    {
     "name": "stderr",
     "output_type": "stream",
     "text": [
      "C:\\Users\\xx\\Anaconda3\\lib\\site-packages\\sklearn\\model_selection\\_search.py:813: DeprecationWarning: The default of the `iid` parameter will change from True to False in version 0.22 and will be removed in 0.24. This will change numeric results when test-set sizes are unequal.\n",
      "  DeprecationWarning)\n"
     ]
    },
    {
     "data": {
      "text/plain": [
       "GridSearchCV(cv='warn', error_score='raise-deprecating',\n",
       "             estimator=Lasso(alpha=1.0, copy_X=True, fit_intercept=True,\n",
       "                             max_iter=1000, normalize=False, positive=False,\n",
       "                             precompute=False, random_state=None,\n",
       "                             selection='cyclic', tol=0.0001, warm_start=False),\n",
       "             iid='warn', n_jobs=None,\n",
       "             param_grid={'alpha': [1e-15, 1e-10, 1e-08, 0.0001, 0.01, 1, 2, 5,\n",
       "                                   10, 20, 40, 50, 100, 1000]},\n",
       "             pre_dispatch='2*n_jobs', refit=True, return_train_score=False,\n",
       "             scoring='neg_mean_squared_error', verbose=0)"
      ]
     },
     "execution_count": 37,
     "metadata": {},
     "output_type": "execute_result"
    }
   ],
   "source": [
    "# inspiration: https://towardsdatascience.com/how-to-perform-lasso-and-ridge-regression-in-python-3b3b75541ad8\n",
    "lasso = Lasso()\n",
    "params = {\"alpha\": [1e-15, 1e-10, 1e-8, 1e-4,1e-2,1, 2, 5, 10,20, 40, 50, 100, 1000]}\n",
    "lasso_regression = GridSearchCV(lasso, params, scoring = 'neg_mean_squared_error')\n",
    "lasso_regression.fit(X_lasso_train, y_lasso_train)"
   ]
  },
  {
   "cell_type": "code",
   "execution_count": 38,
   "metadata": {
    "scrolled": false
   },
   "outputs": [
    {
     "name": "stdout",
     "output_type": "stream",
     "text": [
      "best Neg_MSE:  -1289438420.172529 \n",
      "best params:  {'alpha': 1}\n"
     ]
    }
   ],
   "source": [
    "print(\"best Neg_MSE: \", lasso_regression.best_score_,\"\\nbest params: \", lasso_regression.best_params_)"
   ]
  },
  {
   "cell_type": "code",
   "execution_count": 39,
   "metadata": {},
   "outputs": [],
   "source": [
    "y_lasso_predict = lasso_regression.predict(X_lasso_test)"
   ]
  },
  {
   "cell_type": "markdown",
   "metadata": {},
   "source": [
    "## 4.3. Model Evaluation"
   ]
  },
  {
   "cell_type": "code",
   "execution_count": 40,
   "metadata": {
    "scrolled": true
   },
   "outputs": [
    {
     "data": {
      "image/png": "[encoded data removed]",
      "text/plain": [
       "<Figure size 432x288 with 1 Axes>"
      ]
     },
     "metadata": {
      "needs_background": "light"
     },
     "output_type": "display_data"
    }
   ],
   "source": [
    "fig,ax = plt.subplots()\n",
    "ax.scatter(y_lasso_test, y_lasso_predict, alpha=0.1)\n",
    "ax.plot([y_lasso_predict.min(), y_lasso_predict.max()], [y_lasso_predict.min(), y_lasso_predict.max()], 'k--', lw=4)\n",
    "ax.set_xlabel('Measured')\n",
    "ax.set_ylabel('Predicted')\n",
    "plt.title(\"Actuals vs Regression Line\")\n",
    "fig.show()"
   ]
  },
  {
   "cell_type": "markdown",
   "metadata": {},
   "source": [
    "The regression line seems to be well matched with actual values "
   ]
  },
  {
   "cell_type": "code",
   "execution_count": 41,
   "metadata": {
    "scrolled": false
   },
   "outputs": [
    {
     "data": {
      "image/png": "[encoded data removed]",
      "text/plain": [
       "<Figure size 432x288 with 1 Axes>"
      ]
     },
     "metadata": {
      "needs_background": "light"
     },
     "output_type": "display_data"
    }
   ],
   "source": [
    "plt.scatter(*zip(*list(enumerate(y_lasso_test))), c = \"orange\")\n",
    "plt.scatter(*zip(*list(enumerate(y_lasso_predict))), c= \"blue\")\n",
    "plt.gca().legend(('actual',\"predicted\"))\n",
    "plt.title(\"Actual vs Predicted values\")\n",
    "fig.show()"
   ]
  },
  {
   "cell_type": "markdown",
   "metadata": {},
   "source": [
    "Here we can see that predicted values in most cases coincide with actual values"
   ]
  },
  {
   "cell_type": "code",
   "execution_count": 42,
   "metadata": {},
   "outputs": [
    {
     "data": {
      "image/png": "[encoded data removed]",
      "text/plain": [
       "<Figure size 432x288 with 2 Axes>"
      ]
     },
     "metadata": {
      "needs_background": "light"
     },
     "output_type": "display_data"
    }
   ],
   "source": [
    "visualizer = ResidualsPlot(lasso)\n",
    "visualizer.fit(X_lasso_train, y_lasso_train)\n",
    "visualizer.score(X_lasso_test, y_lasso_test)  \n",
    "visualizer.poof() "
   ]
  },
  {
   "cell_type": "markdown",
   "metadata": {},
   "source": [
    "The plot of residuals shows us that our model gives us pretty acceptable predictions. The residuals are randomly spread and in most cases its value is close to 0. At the histogram we can see that our error is normally distributed around 0. "
   ]
  },
  {
   "cell_type": "markdown",
   "metadata": {},
   "source": [
    "# 5. Ridge Regression"
   ]
  },
  {
   "cell_type": "markdown",
   "metadata": {},
   "source": [
    "The alternative way to L1 regularization used in Lasso Regression is L2 regularization which we can apply with Ridge Regression. The code is really similar to this from Lasso Regression"
   ]
  },
  {
   "cell_type": "markdown",
   "metadata": {},
   "source": [
    "## 5.1. Creating Test and Training sets"
   ]
  },
  {
   "cell_type": "code",
   "execution_count": 43,
   "metadata": {},
   "outputs": [],
   "source": [
    "X_ridge = data.loc[:, data.columns != 'SalePrice'] \n",
    "y_ridge = data.SalePrice\n",
    "\n",
    "X_ridge_train, X_ridge_test, y_ridge_train, y_ridge_test = train_test_split(X_ridge, y_ridge, test_size=0.3, random_state=42)"
   ]
  },
  {
   "cell_type": "markdown",
   "metadata": {},
   "source": [
    "## 5.2. Kfold Cross Validation with Ridge Regression"
   ]
  },
  {
   "cell_type": "code",
   "execution_count": 44,
   "metadata": {
    "scrolled": true
   },
   "outputs": [
    {
     "name": "stderr",
     "output_type": "stream",
     "text": [
      "C:\\Users\\xx\\Anaconda3\\lib\\site-packages\\sklearn\\model_selection\\_search.py:813: DeprecationWarning: The default of the `iid` parameter will change from True to False in version 0.22 and will be removed in 0.24. This will change numeric results when test-set sizes are unequal.\n",
      "  DeprecationWarning)\n"
     ]
    },
    {
     "data": {
      "text/plain": [
       "GridSearchCV(cv='warn', error_score='raise-deprecating',\n",
       "             estimator=Ridge(alpha=1.0, copy_X=True, fit_intercept=True,\n",
       "                             max_iter=None, normalize=False, random_state=None,\n",
       "                             solver='auto', tol=0.001),\n",
       "             iid='warn', n_jobs=None,\n",
       "             param_grid={'alpha': [1e-15, 1e-10, 1e-08, 0.0001, 0.01, 1, 2, 5,\n",
       "                                   10, 20, 40, 50, 100, 1000]},\n",
       "             pre_dispatch='2*n_jobs', refit=True, return_train_score=False,\n",
       "             scoring='neg_mean_squared_error', verbose=0)"
      ]
     },
     "execution_count": 44,
     "metadata": {},
     "output_type": "execute_result"
    }
   ],
   "source": [
    "ridge = Ridge()\n",
    "params = {\"alpha\": [1e-15, 1e-10, 1e-8, 1e-4,1e-2,1, 2, 5, 10,20, 40, 50, 100, 1000]}\n",
    "ridge_regression = GridSearchCV(ridge, params, scoring = 'neg_mean_squared_error')\n",
    "ridge_regression.fit(X_lasso_train, y_lasso_train)"
   ]
  },
  {
   "cell_type": "code",
   "execution_count": 45,
   "metadata": {
    "scrolled": true
   },
   "outputs": [
    {
     "name": "stdout",
     "output_type": "stream",
     "text": [
      "best Neg_MSE:  -1306461953.6928668 \n",
      "best params:  {'alpha': 10}\n"
     ]
    }
   ],
   "source": [
    "print(\"best Neg_MSE: \", ridge_regression.best_score_,\"\\nbest params: \", ridge_regression.best_params_)"
   ]
  },
  {
   "cell_type": "markdown",
   "metadata": {},
   "source": [
    "We can see that the negative MSE is lower than in the case of Lasso Regression. However we can still check how the model performs "
   ]
  },
  {
   "cell_type": "code",
   "execution_count": 46,
   "metadata": {},
   "outputs": [],
   "source": [
    "y_ridge_predict = ridge_regression.predict(X_ridge_test)"
   ]
  },
  {
   "cell_type": "markdown",
   "metadata": {},
   "source": [
    "## 5.3. Model Evaluation"
   ]
  },
  {
   "cell_type": "code",
   "execution_count": 47,
   "metadata": {
    "scrolled": true
   },
   "outputs": [
    {
     "data": {
      "image/png": "[encoded data removed]",
      "text/plain": [
       "<Figure size 432x288 with 1 Axes>"
      ]
     },
     "metadata": {
      "needs_background": "light"
     },
     "output_type": "display_data"
    }
   ],
   "source": [
    "fig,ax = plt.subplots()\n",
    "ax.scatter(y_ridge_test, y_ridge_predict, alpha=0.1)\n",
    "ax.plot([y_ridge_predict.min(), y_ridge_predict.max()], [y_ridge_predict.min(), y_ridge_predict.max()], 'k--', lw=4)\n",
    "ax.set_xlabel('Measured')\n",
    "ax.set_ylabel('Predicted')\n",
    "plt.title(\"Actuals vs Regression Line\")\n",
    "fig.show()"
   ]
  },
  {
   "cell_type": "code",
   "execution_count": 48,
   "metadata": {},
   "outputs": [
    {
     "data": {
      "image/png": "[encoded data removed]",
      "text/plain": [
       "<Figure size 432x288 with 1 Axes>"
      ]
     },
     "metadata": {
      "needs_background": "light"
     },
     "output_type": "display_data"
    }
   ],
   "source": [
    "plt.scatter(*zip(*list(enumerate(y_ridge_test))), c = \"orange\")\n",
    "plt.scatter(*zip(*list(enumerate(y_ridge_predict))), c= \"blue\")\n",
    "plt.gca().legend(('actual',\"predicted\"))\n",
    "plt.title(\"Actual vs Predicted values\")\n",
    "fig.show()"
   ]
  },
  {
   "cell_type": "code",
   "execution_count": 49,
   "metadata": {},
   "outputs": [
    {
     "data": {
      "image/png": "[encoded data removed]",
      "text/plain": [
       "<Figure size 432x288 with 2 Axes>"
      ]
     },
     "metadata": {
      "needs_background": "light"
     },
     "output_type": "display_data"
    }
   ],
   "source": [
    "visualizer = ResidualsPlot(ridge)\n",
    "visualizer.fit(X_ridge_train, y_ridge_train)\n",
    "visualizer.score(X_ridge_test, y_ridge_test)  \n",
    "visualizer.poof() "
   ]
  },
  {
   "cell_type": "markdown",
   "metadata": {},
   "source": [
    "Again, just like in case of Lasso Regression the prediction went pretty well. The residuals are in most rather randomly spread around the horizontal axis. They are in most cases concentrated around zero so it is also a good information. From the histogram we can also see that the error we obtained is normally distributed around zero. "
   ]
  },
  {
   "cell_type": "markdown",
   "metadata": {},
   "source": [
    "# 6. Models Comparison"
   ]
  },
  {
   "cell_type": "markdown",
   "metadata": {},
   "source": [
    "To compare models to each other, we will calculate R-squared statistic eror measures (MAE and MSE), using package metrics.  "
   ]
  },
  {
   "cell_type": "code",
   "execution_count": 50,
   "metadata": {},
   "outputs": [
    {
     "name": "stdout",
     "output_type": "stream",
     "text": [
      "R^2 OLS: 0.92\n",
      "R^2 lasso: 0.88\n",
      "R^2 Ridge: 0.88\n",
      "\n",
      "Mean squared error OLS: 556553549.62\n",
      "Mean squared error lasso: 846234423.30\n",
      "Mean squared error Ridge: 851234868.46\n",
      "\n",
      "Mean absolute error OLS: 15144.66\n",
      "Mean absolute error lasso: 17992.27\n",
      "Mean absolute error Ridge: 17992.27\n"
     ]
    }
   ],
   "source": [
    "R2_lasso = metrics.r2_score(y_lasso_test.values, y_lasso_predict)\n",
    "MSE_lasso = metrics.mean_squared_error(y_lasso_test.values, y_lasso_predict)\n",
    "MAE_lasso = metrics.mean_absolute_error(y_lasso_test.values, y_lasso_predict)\n",
    "\n",
    "R2_Ridge = metrics.r2_score(y_ridge_test.values, y_ridge_predict)\n",
    "MSE_Ridge = metrics.mean_squared_error(y_ridge_test.values, y_ridge_predict)\n",
    "MAE_Ridge = metrics.mean_absolute_error(y_ridge_test.values, y_ridge_predict)\n",
    "\n",
    "print(\"R^2 OLS: %.2f\" % R2_ols)\n",
    "print(\"R^2 lasso: %.2f\" % R2_lasso)\n",
    "print(\"R^2 Ridge: %.2f\" % R2_Ridge)\n",
    "print(\"\")\n",
    "print(\"Mean squared error OLS: %.2f\" % MSE_ols)\n",
    "print(\"Mean squared error lasso: %.2f\" % MSE_lasso)\n",
    "print(\"Mean squared error Ridge: %.2f\" % MSE_Ridge)\n",
    "print(\"\")\n",
    "print(\"Mean absolute error OLS: %.2f\" % MAE_ols)\n",
    "print(\"Mean absolute error lasso: %.2f\" % MAE_lasso)\n",
    "print(\"Mean absolute error Ridge: %.2f\" % MAE_lasso)"
   ]
  },
  {
   "cell_type": "markdown",
   "metadata": {},
   "source": [
    "All statistics suggest that the model that fit our data best is the linear regression. That of course can be surprising, as lasso and ridge regressions are rather more sophisticated. However, it can be just a case of data specification that lead us to these conclusions."
   ]
  },
  {
   "cell_type": "markdown",
   "metadata": {},
   "source": [
    "# Summary"
   ]
  },
  {
   "cell_type": "markdown",
   "metadata": {},
   "source": [
    "We tried to predict the final price of house based on many explanatory variables, using three machine learning methods - linear regression, ridge regression and lasso regression. All of these models showed good fit to the data. We discovered that for our dataset the most accurate model is linear regression."
   ]
  }
 ],
 "metadata": {
  "kernelspec": {
   "display_name": "Python 3",
   "language": "python",
   "name": "python3"
  },
  "language_info": {
   "codemirror_mode": {
    "name": "ipython",
    "version": 3
   },
   "file_extension": ".py",
   "mimetype": "text/x-python",
   "name": "python",
   "nbconvert_exporter": "python",
   "pygments_lexer": "ipython3",
   "version": "3.7.0"
  }
 },
 "nbformat": 4,
 "nbformat_minor": 2
}
