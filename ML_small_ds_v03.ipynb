{
 "cells": [
  {
   "cell_type": "code",
   "execution_count": 41,
   "metadata": {},
   "outputs": [],
   "source": [
    "import pandas as pd \n",
    "import numpy as np\n",
    "import matplotlib.pyplot as plt\n",
    "import seaborn as sns\n",
    "import scipy.stats as ss\n",
    "import statsmodels.api as sm"
   ]
  },
  {
   "cell_type": "code",
   "execution_count": 2,
   "metadata": {},
   "outputs": [],
   "source": [
    "import warnings\n",
    "warnings.filterwarnings(\"ignore\")"
   ]
  },
  {
   "cell_type": "code",
   "execution_count": 33,
   "metadata": {},
   "outputs": [],
   "source": [
    "from sklearn.feature_selection import VarianceThreshold, f_regression\n",
    "from sklearn.linear_model import LinearRegression"
   ]
  },
  {
   "cell_type": "code",
   "execution_count": 4,
   "metadata": {},
   "outputs": [],
   "source": [
    "import sklearn"
   ]
  },
  {
   "cell_type": "code",
   "execution_count": 5,
   "metadata": {},
   "outputs": [],
   "source": [
    "import collections"
   ]
  },
  {
   "cell_type": "code",
   "execution_count": 6,
   "metadata": {},
   "outputs": [],
   "source": [
    "%matplotlib inline"
   ]
  },
  {
   "cell_type": "code",
   "execution_count": 7,
   "metadata": {},
   "outputs": [],
   "source": [
    "# Import data\n",
    "data = pd.read_csv(\"train.csv\")"
   ]
  },
  {
   "cell_type": "markdown",
   "metadata": {},
   "source": [
    "# 1. Data Overview (tu trzeba będzie dodać jeszcze jakiś opis co tak naprawdę chcemy zrobić, skąd wzięliśmy dataset itd.) "
   ]
  },
  {
   "cell_type": "markdown",
   "metadata": {},
   "source": [
    "At first we have a brief look at the initial form of our data, so to get sense how we should prepare our data to make it suitable for the modelling\n"
   ]
  },
  {
   "cell_type": "code",
   "execution_count": 8,
   "metadata": {
    "scrolled": true
   },
   "outputs": [
    {
     "data": {
      "text/html": [
       "<div>\n",
       "<style scoped>\n",
       "    .dataframe tbody tr th:only-of-type {\n",
       "        vertical-align: middle;\n",
       "    }\n",
       "\n",
       "    .dataframe tbody tr th {\n",
       "        vertical-align: top;\n",
       "    }\n",
       "\n",
       "    .dataframe thead th {\n",
       "        text-align: right;\n",
       "    }\n",
       "</style>\n",
       "<table border=\"1\" class=\"dataframe\">\n",
       "  <thead>\n",
       "    <tr style=\"text-align: right;\">\n",
       "      <th></th>\n",
       "      <th>Id</th>\n",
       "      <th>MSSubClass</th>\n",
       "      <th>MSZoning</th>\n",
       "      <th>LotFrontage</th>\n",
       "      <th>LotArea</th>\n",
       "      <th>Street</th>\n",
       "      <th>Alley</th>\n",
       "      <th>LotShape</th>\n",
       "      <th>LandContour</th>\n",
       "      <th>Utilities</th>\n",
       "      <th>...</th>\n",
       "      <th>PoolArea</th>\n",
       "      <th>PoolQC</th>\n",
       "      <th>Fence</th>\n",
       "      <th>MiscFeature</th>\n",
       "      <th>MiscVal</th>\n",
       "      <th>MoSold</th>\n",
       "      <th>YrSold</th>\n",
       "      <th>SaleType</th>\n",
       "      <th>SaleCondition</th>\n",
       "      <th>SalePrice</th>\n",
       "    </tr>\n",
       "  </thead>\n",
       "  <tbody>\n",
       "    <tr>\n",
       "      <th>0</th>\n",
       "      <td>1</td>\n",
       "      <td>60</td>\n",
       "      <td>RL</td>\n",
       "      <td>65.0</td>\n",
       "      <td>8450</td>\n",
       "      <td>Pave</td>\n",
       "      <td>NaN</td>\n",
       "      <td>Reg</td>\n",
       "      <td>Lvl</td>\n",
       "      <td>AllPub</td>\n",
       "      <td>...</td>\n",
       "      <td>0</td>\n",
       "      <td>NaN</td>\n",
       "      <td>NaN</td>\n",
       "      <td>NaN</td>\n",
       "      <td>0</td>\n",
       "      <td>2</td>\n",
       "      <td>2008</td>\n",
       "      <td>WD</td>\n",
       "      <td>Normal</td>\n",
       "      <td>208500</td>\n",
       "    </tr>\n",
       "    <tr>\n",
       "      <th>1</th>\n",
       "      <td>2</td>\n",
       "      <td>20</td>\n",
       "      <td>RL</td>\n",
       "      <td>80.0</td>\n",
       "      <td>9600</td>\n",
       "      <td>Pave</td>\n",
       "      <td>NaN</td>\n",
       "      <td>Reg</td>\n",
       "      <td>Lvl</td>\n",
       "      <td>AllPub</td>\n",
       "      <td>...</td>\n",
       "      <td>0</td>\n",
       "      <td>NaN</td>\n",
       "      <td>NaN</td>\n",
       "      <td>NaN</td>\n",
       "      <td>0</td>\n",
       "      <td>5</td>\n",
       "      <td>2007</td>\n",
       "      <td>WD</td>\n",
       "      <td>Normal</td>\n",
       "      <td>181500</td>\n",
       "    </tr>\n",
       "    <tr>\n",
       "      <th>2</th>\n",
       "      <td>3</td>\n",
       "      <td>60</td>\n",
       "      <td>RL</td>\n",
       "      <td>68.0</td>\n",
       "      <td>11250</td>\n",
       "      <td>Pave</td>\n",
       "      <td>NaN</td>\n",
       "      <td>IR1</td>\n",
       "      <td>Lvl</td>\n",
       "      <td>AllPub</td>\n",
       "      <td>...</td>\n",
       "      <td>0</td>\n",
       "      <td>NaN</td>\n",
       "      <td>NaN</td>\n",
       "      <td>NaN</td>\n",
       "      <td>0</td>\n",
       "      <td>9</td>\n",
       "      <td>2008</td>\n",
       "      <td>WD</td>\n",
       "      <td>Normal</td>\n",
       "      <td>223500</td>\n",
       "    </tr>\n",
       "    <tr>\n",
       "      <th>3</th>\n",
       "      <td>4</td>\n",
       "      <td>70</td>\n",
       "      <td>RL</td>\n",
       "      <td>60.0</td>\n",
       "      <td>9550</td>\n",
       "      <td>Pave</td>\n",
       "      <td>NaN</td>\n",
       "      <td>IR1</td>\n",
       "      <td>Lvl</td>\n",
       "      <td>AllPub</td>\n",
       "      <td>...</td>\n",
       "      <td>0</td>\n",
       "      <td>NaN</td>\n",
       "      <td>NaN</td>\n",
       "      <td>NaN</td>\n",
       "      <td>0</td>\n",
       "      <td>2</td>\n",
       "      <td>2006</td>\n",
       "      <td>WD</td>\n",
       "      <td>Abnorml</td>\n",
       "      <td>140000</td>\n",
       "    </tr>\n",
       "    <tr>\n",
       "      <th>4</th>\n",
       "      <td>5</td>\n",
       "      <td>60</td>\n",
       "      <td>RL</td>\n",
       "      <td>84.0</td>\n",
       "      <td>14260</td>\n",
       "      <td>Pave</td>\n",
       "      <td>NaN</td>\n",
       "      <td>IR1</td>\n",
       "      <td>Lvl</td>\n",
       "      <td>AllPub</td>\n",
       "      <td>...</td>\n",
       "      <td>0</td>\n",
       "      <td>NaN</td>\n",
       "      <td>NaN</td>\n",
       "      <td>NaN</td>\n",
       "      <td>0</td>\n",
       "      <td>12</td>\n",
       "      <td>2008</td>\n",
       "      <td>WD</td>\n",
       "      <td>Normal</td>\n",
       "      <td>250000</td>\n",
       "    </tr>\n",
       "    <tr>\n",
       "      <th>5</th>\n",
       "      <td>6</td>\n",
       "      <td>50</td>\n",
       "      <td>RL</td>\n",
       "      <td>85.0</td>\n",
       "      <td>14115</td>\n",
       "      <td>Pave</td>\n",
       "      <td>NaN</td>\n",
       "      <td>IR1</td>\n",
       "      <td>Lvl</td>\n",
       "      <td>AllPub</td>\n",
       "      <td>...</td>\n",
       "      <td>0</td>\n",
       "      <td>NaN</td>\n",
       "      <td>MnPrv</td>\n",
       "      <td>Shed</td>\n",
       "      <td>700</td>\n",
       "      <td>10</td>\n",
       "      <td>2009</td>\n",
       "      <td>WD</td>\n",
       "      <td>Normal</td>\n",
       "      <td>143000</td>\n",
       "    </tr>\n",
       "    <tr>\n",
       "      <th>6</th>\n",
       "      <td>7</td>\n",
       "      <td>20</td>\n",
       "      <td>RL</td>\n",
       "      <td>75.0</td>\n",
       "      <td>10084</td>\n",
       "      <td>Pave</td>\n",
       "      <td>NaN</td>\n",
       "      <td>Reg</td>\n",
       "      <td>Lvl</td>\n",
       "      <td>AllPub</td>\n",
       "      <td>...</td>\n",
       "      <td>0</td>\n",
       "      <td>NaN</td>\n",
       "      <td>NaN</td>\n",
       "      <td>NaN</td>\n",
       "      <td>0</td>\n",
       "      <td>8</td>\n",
       "      <td>2007</td>\n",
       "      <td>WD</td>\n",
       "      <td>Normal</td>\n",
       "      <td>307000</td>\n",
       "    </tr>\n",
       "    <tr>\n",
       "      <th>7</th>\n",
       "      <td>8</td>\n",
       "      <td>60</td>\n",
       "      <td>RL</td>\n",
       "      <td>NaN</td>\n",
       "      <td>10382</td>\n",
       "      <td>Pave</td>\n",
       "      <td>NaN</td>\n",
       "      <td>IR1</td>\n",
       "      <td>Lvl</td>\n",
       "      <td>AllPub</td>\n",
       "      <td>...</td>\n",
       "      <td>0</td>\n",
       "      <td>NaN</td>\n",
       "      <td>NaN</td>\n",
       "      <td>Shed</td>\n",
       "      <td>350</td>\n",
       "      <td>11</td>\n",
       "      <td>2009</td>\n",
       "      <td>WD</td>\n",
       "      <td>Normal</td>\n",
       "      <td>200000</td>\n",
       "    </tr>\n",
       "    <tr>\n",
       "      <th>8</th>\n",
       "      <td>9</td>\n",
       "      <td>50</td>\n",
       "      <td>RM</td>\n",
       "      <td>51.0</td>\n",
       "      <td>6120</td>\n",
       "      <td>Pave</td>\n",
       "      <td>NaN</td>\n",
       "      <td>Reg</td>\n",
       "      <td>Lvl</td>\n",
       "      <td>AllPub</td>\n",
       "      <td>...</td>\n",
       "      <td>0</td>\n",
       "      <td>NaN</td>\n",
       "      <td>NaN</td>\n",
       "      <td>NaN</td>\n",
       "      <td>0</td>\n",
       "      <td>4</td>\n",
       "      <td>2008</td>\n",
       "      <td>WD</td>\n",
       "      <td>Abnorml</td>\n",
       "      <td>129900</td>\n",
       "    </tr>\n",
       "    <tr>\n",
       "      <th>9</th>\n",
       "      <td>10</td>\n",
       "      <td>190</td>\n",
       "      <td>RL</td>\n",
       "      <td>50.0</td>\n",
       "      <td>7420</td>\n",
       "      <td>Pave</td>\n",
       "      <td>NaN</td>\n",
       "      <td>Reg</td>\n",
       "      <td>Lvl</td>\n",
       "      <td>AllPub</td>\n",
       "      <td>...</td>\n",
       "      <td>0</td>\n",
       "      <td>NaN</td>\n",
       "      <td>NaN</td>\n",
       "      <td>NaN</td>\n",
       "      <td>0</td>\n",
       "      <td>1</td>\n",
       "      <td>2008</td>\n",
       "      <td>WD</td>\n",
       "      <td>Normal</td>\n",
       "      <td>118000</td>\n",
       "    </tr>\n",
       "    <tr>\n",
       "      <th>10</th>\n",
       "      <td>11</td>\n",
       "      <td>20</td>\n",
       "      <td>RL</td>\n",
       "      <td>70.0</td>\n",
       "      <td>11200</td>\n",
       "      <td>Pave</td>\n",
       "      <td>NaN</td>\n",
       "      <td>Reg</td>\n",
       "      <td>Lvl</td>\n",
       "      <td>AllPub</td>\n",
       "      <td>...</td>\n",
       "      <td>0</td>\n",
       "      <td>NaN</td>\n",
       "      <td>NaN</td>\n",
       "      <td>NaN</td>\n",
       "      <td>0</td>\n",
       "      <td>2</td>\n",
       "      <td>2008</td>\n",
       "      <td>WD</td>\n",
       "      <td>Normal</td>\n",
       "      <td>129500</td>\n",
       "    </tr>\n",
       "    <tr>\n",
       "      <th>11</th>\n",
       "      <td>12</td>\n",
       "      <td>60</td>\n",
       "      <td>RL</td>\n",
       "      <td>85.0</td>\n",
       "      <td>11924</td>\n",
       "      <td>Pave</td>\n",
       "      <td>NaN</td>\n",
       "      <td>IR1</td>\n",
       "      <td>Lvl</td>\n",
       "      <td>AllPub</td>\n",
       "      <td>...</td>\n",
       "      <td>0</td>\n",
       "      <td>NaN</td>\n",
       "      <td>NaN</td>\n",
       "      <td>NaN</td>\n",
       "      <td>0</td>\n",
       "      <td>7</td>\n",
       "      <td>2006</td>\n",
       "      <td>New</td>\n",
       "      <td>Partial</td>\n",
       "      <td>345000</td>\n",
       "    </tr>\n",
       "    <tr>\n",
       "      <th>12</th>\n",
       "      <td>13</td>\n",
       "      <td>20</td>\n",
       "      <td>RL</td>\n",
       "      <td>NaN</td>\n",
       "      <td>12968</td>\n",
       "      <td>Pave</td>\n",
       "      <td>NaN</td>\n",
       "      <td>IR2</td>\n",
       "      <td>Lvl</td>\n",
       "      <td>AllPub</td>\n",
       "      <td>...</td>\n",
       "      <td>0</td>\n",
       "      <td>NaN</td>\n",
       "      <td>NaN</td>\n",
       "      <td>NaN</td>\n",
       "      <td>0</td>\n",
       "      <td>9</td>\n",
       "      <td>2008</td>\n",
       "      <td>WD</td>\n",
       "      <td>Normal</td>\n",
       "      <td>144000</td>\n",
       "    </tr>\n",
       "    <tr>\n",
       "      <th>13</th>\n",
       "      <td>14</td>\n",
       "      <td>20</td>\n",
       "      <td>RL</td>\n",
       "      <td>91.0</td>\n",
       "      <td>10652</td>\n",
       "      <td>Pave</td>\n",
       "      <td>NaN</td>\n",
       "      <td>IR1</td>\n",
       "      <td>Lvl</td>\n",
       "      <td>AllPub</td>\n",
       "      <td>...</td>\n",
       "      <td>0</td>\n",
       "      <td>NaN</td>\n",
       "      <td>NaN</td>\n",
       "      <td>NaN</td>\n",
       "      <td>0</td>\n",
       "      <td>8</td>\n",
       "      <td>2007</td>\n",
       "      <td>New</td>\n",
       "      <td>Partial</td>\n",
       "      <td>279500</td>\n",
       "    </tr>\n",
       "    <tr>\n",
       "      <th>14</th>\n",
       "      <td>15</td>\n",
       "      <td>20</td>\n",
       "      <td>RL</td>\n",
       "      <td>NaN</td>\n",
       "      <td>10920</td>\n",
       "      <td>Pave</td>\n",
       "      <td>NaN</td>\n",
       "      <td>IR1</td>\n",
       "      <td>Lvl</td>\n",
       "      <td>AllPub</td>\n",
       "      <td>...</td>\n",
       "      <td>0</td>\n",
       "      <td>NaN</td>\n",
       "      <td>GdWo</td>\n",
       "      <td>NaN</td>\n",
       "      <td>0</td>\n",
       "      <td>5</td>\n",
       "      <td>2008</td>\n",
       "      <td>WD</td>\n",
       "      <td>Normal</td>\n",
       "      <td>157000</td>\n",
       "    </tr>\n",
       "    <tr>\n",
       "      <th>15</th>\n",
       "      <td>16</td>\n",
       "      <td>45</td>\n",
       "      <td>RM</td>\n",
       "      <td>51.0</td>\n",
       "      <td>6120</td>\n",
       "      <td>Pave</td>\n",
       "      <td>NaN</td>\n",
       "      <td>Reg</td>\n",
       "      <td>Lvl</td>\n",
       "      <td>AllPub</td>\n",
       "      <td>...</td>\n",
       "      <td>0</td>\n",
       "      <td>NaN</td>\n",
       "      <td>GdPrv</td>\n",
       "      <td>NaN</td>\n",
       "      <td>0</td>\n",
       "      <td>7</td>\n",
       "      <td>2007</td>\n",
       "      <td>WD</td>\n",
       "      <td>Normal</td>\n",
       "      <td>132000</td>\n",
       "    </tr>\n",
       "    <tr>\n",
       "      <th>16</th>\n",
       "      <td>17</td>\n",
       "      <td>20</td>\n",
       "      <td>RL</td>\n",
       "      <td>NaN</td>\n",
       "      <td>11241</td>\n",
       "      <td>Pave</td>\n",
       "      <td>NaN</td>\n",
       "      <td>IR1</td>\n",
       "      <td>Lvl</td>\n",
       "      <td>AllPub</td>\n",
       "      <td>...</td>\n",
       "      <td>0</td>\n",
       "      <td>NaN</td>\n",
       "      <td>NaN</td>\n",
       "      <td>Shed</td>\n",
       "      <td>700</td>\n",
       "      <td>3</td>\n",
       "      <td>2010</td>\n",
       "      <td>WD</td>\n",
       "      <td>Normal</td>\n",
       "      <td>149000</td>\n",
       "    </tr>\n",
       "    <tr>\n",
       "      <th>17</th>\n",
       "      <td>18</td>\n",
       "      <td>90</td>\n",
       "      <td>RL</td>\n",
       "      <td>72.0</td>\n",
       "      <td>10791</td>\n",
       "      <td>Pave</td>\n",
       "      <td>NaN</td>\n",
       "      <td>Reg</td>\n",
       "      <td>Lvl</td>\n",
       "      <td>AllPub</td>\n",
       "      <td>...</td>\n",
       "      <td>0</td>\n",
       "      <td>NaN</td>\n",
       "      <td>NaN</td>\n",
       "      <td>Shed</td>\n",
       "      <td>500</td>\n",
       "      <td>10</td>\n",
       "      <td>2006</td>\n",
       "      <td>WD</td>\n",
       "      <td>Normal</td>\n",
       "      <td>90000</td>\n",
       "    </tr>\n",
       "    <tr>\n",
       "      <th>18</th>\n",
       "      <td>19</td>\n",
       "      <td>20</td>\n",
       "      <td>RL</td>\n",
       "      <td>66.0</td>\n",
       "      <td>13695</td>\n",
       "      <td>Pave</td>\n",
       "      <td>NaN</td>\n",
       "      <td>Reg</td>\n",
       "      <td>Lvl</td>\n",
       "      <td>AllPub</td>\n",
       "      <td>...</td>\n",
       "      <td>0</td>\n",
       "      <td>NaN</td>\n",
       "      <td>NaN</td>\n",
       "      <td>NaN</td>\n",
       "      <td>0</td>\n",
       "      <td>6</td>\n",
       "      <td>2008</td>\n",
       "      <td>WD</td>\n",
       "      <td>Normal</td>\n",
       "      <td>159000</td>\n",
       "    </tr>\n",
       "    <tr>\n",
       "      <th>19</th>\n",
       "      <td>20</td>\n",
       "      <td>20</td>\n",
       "      <td>RL</td>\n",
       "      <td>70.0</td>\n",
       "      <td>7560</td>\n",
       "      <td>Pave</td>\n",
       "      <td>NaN</td>\n",
       "      <td>Reg</td>\n",
       "      <td>Lvl</td>\n",
       "      <td>AllPub</td>\n",
       "      <td>...</td>\n",
       "      <td>0</td>\n",
       "      <td>NaN</td>\n",
       "      <td>MnPrv</td>\n",
       "      <td>NaN</td>\n",
       "      <td>0</td>\n",
       "      <td>5</td>\n",
       "      <td>2009</td>\n",
       "      <td>COD</td>\n",
       "      <td>Abnorml</td>\n",
       "      <td>139000</td>\n",
       "    </tr>\n",
       "  </tbody>\n",
       "</table>\n",
       "<p>20 rows × 81 columns</p>\n",
       "</div>"
      ],
      "text/plain": [
       "    Id  MSSubClass MSZoning  LotFrontage  LotArea Street Alley LotShape  \\\n",
       "0    1          60       RL         65.0     8450   Pave   NaN      Reg   \n",
       "1    2          20       RL         80.0     9600   Pave   NaN      Reg   \n",
       "2    3          60       RL         68.0    11250   Pave   NaN      IR1   \n",
       "3    4          70       RL         60.0     9550   Pave   NaN      IR1   \n",
       "4    5          60       RL         84.0    14260   Pave   NaN      IR1   \n",
       "5    6          50       RL         85.0    14115   Pave   NaN      IR1   \n",
       "6    7          20       RL         75.0    10084   Pave   NaN      Reg   \n",
       "7    8          60       RL          NaN    10382   Pave   NaN      IR1   \n",
       "8    9          50       RM         51.0     6120   Pave   NaN      Reg   \n",
       "9   10         190       RL         50.0     7420   Pave   NaN      Reg   \n",
       "10  11          20       RL         70.0    11200   Pave   NaN      Reg   \n",
       "11  12          60       RL         85.0    11924   Pave   NaN      IR1   \n",
       "12  13          20       RL          NaN    12968   Pave   NaN      IR2   \n",
       "13  14          20       RL         91.0    10652   Pave   NaN      IR1   \n",
       "14  15          20       RL          NaN    10920   Pave   NaN      IR1   \n",
       "15  16          45       RM         51.0     6120   Pave   NaN      Reg   \n",
       "16  17          20       RL          NaN    11241   Pave   NaN      IR1   \n",
       "17  18          90       RL         72.0    10791   Pave   NaN      Reg   \n",
       "18  19          20       RL         66.0    13695   Pave   NaN      Reg   \n",
       "19  20          20       RL         70.0     7560   Pave   NaN      Reg   \n",
       "\n",
       "   LandContour Utilities    ...     PoolArea PoolQC  Fence MiscFeature  \\\n",
       "0          Lvl    AllPub    ...            0    NaN    NaN         NaN   \n",
       "1          Lvl    AllPub    ...            0    NaN    NaN         NaN   \n",
       "2          Lvl    AllPub    ...            0    NaN    NaN         NaN   \n",
       "3          Lvl    AllPub    ...            0    NaN    NaN         NaN   \n",
       "4          Lvl    AllPub    ...            0    NaN    NaN         NaN   \n",
       "5          Lvl    AllPub    ...            0    NaN  MnPrv        Shed   \n",
       "6          Lvl    AllPub    ...            0    NaN    NaN         NaN   \n",
       "7          Lvl    AllPub    ...            0    NaN    NaN        Shed   \n",
       "8          Lvl    AllPub    ...            0    NaN    NaN         NaN   \n",
       "9          Lvl    AllPub    ...            0    NaN    NaN         NaN   \n",
       "10         Lvl    AllPub    ...            0    NaN    NaN         NaN   \n",
       "11         Lvl    AllPub    ...            0    NaN    NaN         NaN   \n",
       "12         Lvl    AllPub    ...            0    NaN    NaN         NaN   \n",
       "13         Lvl    AllPub    ...            0    NaN    NaN         NaN   \n",
       "14         Lvl    AllPub    ...            0    NaN   GdWo         NaN   \n",
       "15         Lvl    AllPub    ...            0    NaN  GdPrv         NaN   \n",
       "16         Lvl    AllPub    ...            0    NaN    NaN        Shed   \n",
       "17         Lvl    AllPub    ...            0    NaN    NaN        Shed   \n",
       "18         Lvl    AllPub    ...            0    NaN    NaN         NaN   \n",
       "19         Lvl    AllPub    ...            0    NaN  MnPrv         NaN   \n",
       "\n",
       "   MiscVal MoSold YrSold  SaleType  SaleCondition  SalePrice  \n",
       "0        0      2   2008        WD         Normal     208500  \n",
       "1        0      5   2007        WD         Normal     181500  \n",
       "2        0      9   2008        WD         Normal     223500  \n",
       "3        0      2   2006        WD        Abnorml     140000  \n",
       "4        0     12   2008        WD         Normal     250000  \n",
       "5      700     10   2009        WD         Normal     143000  \n",
       "6        0      8   2007        WD         Normal     307000  \n",
       "7      350     11   2009        WD         Normal     200000  \n",
       "8        0      4   2008        WD        Abnorml     129900  \n",
       "9        0      1   2008        WD         Normal     118000  \n",
       "10       0      2   2008        WD         Normal     129500  \n",
       "11       0      7   2006       New        Partial     345000  \n",
       "12       0      9   2008        WD         Normal     144000  \n",
       "13       0      8   2007       New        Partial     279500  \n",
       "14       0      5   2008        WD         Normal     157000  \n",
       "15       0      7   2007        WD         Normal     132000  \n",
       "16     700      3   2010        WD         Normal     149000  \n",
       "17     500     10   2006        WD         Normal      90000  \n",
       "18       0      6   2008        WD         Normal     159000  \n",
       "19       0      5   2009       COD        Abnorml     139000  \n",
       "\n",
       "[20 rows x 81 columns]"
      ]
     },
     "execution_count": 8,
     "metadata": {},
     "output_type": "execute_result"
    }
   ],
   "source": [
    "data.head(20)"
   ]
  },
  {
   "cell_type": "markdown",
   "metadata": {},
   "source": [
    "Number of rows is:"
   ]
  },
  {
   "cell_type": "code",
   "execution_count": 9,
   "metadata": {},
   "outputs": [
    {
     "data": {
      "text/plain": [
       "1460"
      ]
     },
     "execution_count": 9,
     "metadata": {},
     "output_type": "execute_result"
    }
   ],
   "source": [
    "data.shape[0]"
   ]
  },
  {
   "cell_type": "markdown",
   "metadata": {},
   "source": [
    "Types of variables in dataset, it is really long so we will only show the number of variables in specific group:"
   ]
  },
  {
   "cell_type": "code",
   "execution_count": 10,
   "metadata": {},
   "outputs": [
    {
     "data": {
      "text/plain": [
       "object     43\n",
       "int64      35\n",
       "float64     3\n",
       "dtype: int64"
      ]
     },
     "execution_count": 10,
     "metadata": {},
     "output_type": "execute_result"
    }
   ],
   "source": [
    "data.dtypes.value_counts()"
   ]
  },
  {
   "cell_type": "markdown",
   "metadata": {},
   "source": [
    "Now we know that our data has 81 columns and 1460 rows. The number of columns is definetely too big for the purpose of this analysis. So our first task will be to select the limited number of features which will suit our model in the best way."
   ]
  },
  {
   "cell_type": "markdown",
   "metadata": {},
   "source": [
    "# 2. Data preparation"
   ]
  },
  {
   "cell_type": "markdown",
   "metadata": {},
   "source": [
    "## 2.1. Dependent variable SalePrice overview"
   ]
  },
  {
   "cell_type": "markdown",
   "metadata": {},
   "source": [
    "Our dependent variable is SalePrice, which is the price the house were sold. Here are some basic information about it "
   ]
  },
  {
   "cell_type": "code",
   "execution_count": 11,
   "metadata": {
    "scrolled": true
   },
   "outputs": [
    {
     "data": {
      "text/plain": [
       "count      1460.000000\n",
       "mean     180921.195890\n",
       "std       79442.502883\n",
       "min       34900.000000\n",
       "25%      129975.000000\n",
       "50%      163000.000000\n",
       "75%      214000.000000\n",
       "max      755000.000000\n",
       "Name: SalePrice, dtype: float64"
      ]
     },
     "execution_count": 11,
     "metadata": {},
     "output_type": "execute_result"
    }
   ],
   "source": [
    "data.SalePrice.describe()"
   ]
  },
  {
   "cell_type": "code",
   "execution_count": 12,
   "metadata": {
    "scrolled": true
   },
   "outputs": [
    {
     "data": {
      "text/plain": [
       "<matplotlib.axes._subplots.AxesSubplot at 0x232bcb5a0b8>"
      ]
     },
     "execution_count": 12,
     "metadata": {},
     "output_type": "execute_result"
    },
    {
     "data": {
      "image/png": "[encoded data removed]",
      "text/plain": [
       "<Figure size 432x288 with 1 Axes>"
      ]
     },
     "metadata": {
      "needs_background": "light"
     },
     "output_type": "display_data"
    }
   ],
   "source": [
    "sns.distplot(data[\"SalePrice\"])"
   ]
  },
  {
   "cell_type": "code",
   "execution_count": 13,
   "metadata": {
    "scrolled": true
   },
   "outputs": [
    {
     "name": "stdout",
     "output_type": "stream",
     "text": [
      "The skewness is: 1.8828757597682129\n",
      "The kurtosis is: 6.536281860064529\n"
     ]
    }
   ],
   "source": [
    "print(\"The skewness is:\",data.SalePrice.skew())\n",
    "print(\"The kurtosis is:\",data.SalePrice.kurt())"
   ]
  },
  {
   "cell_type": "markdown",
   "metadata": {},
   "source": [
    "So we can see that our dependent variable does not have a perfect normal distribution. We can try improving it by log normalization \n"
   ]
  },
  {
   "cell_type": "code",
   "execution_count": 14,
   "metadata": {
    "scrolled": false
   },
   "outputs": [
    {
     "data": {
      "text/plain": [
       "<matplotlib.axes._subplots.AxesSubplot at 0x232bb6e37f0>"
      ]
     },
     "execution_count": 14,
     "metadata": {},
     "output_type": "execute_result"
    },
    {
     "data": {
      "image/png": "[encoded data removed]",
      "text/plain": [
       "<Figure size 432x288 with 1 Axes>"
      ]
     },
     "metadata": {
      "needs_background": "light"
     },
     "output_type": "display_data"
    }
   ],
   "source": [
    "sns.distplot(np.log1p(data.SalePrice))"
   ]
  },
  {
   "cell_type": "markdown",
   "metadata": {},
   "source": [
    "We can see that actually the log normalized distribution of dependent variable seems to be closer to the normal distribution. We will not modify SalesPrice variable now. But just in case we will save the log normalized one in memory"
   ]
  },
  {
   "cell_type": "code",
   "execution_count": 15,
   "metadata": {},
   "outputs": [],
   "source": [
    "log1SalePrice = np.log1p(data.SalePrice)"
   ]
  },
  {
   "cell_type": "markdown",
   "metadata": {},
   "source": [
    "## 2.2. Clearing the dataset of redundant variables and missings"
   ]
  },
  {
   "cell_type": "markdown",
   "metadata": {},
   "source": [
    "### 2.2.1. Dropping redundant variables (numerical)"
   ]
  },
  {
   "cell_type": "markdown",
   "metadata": {},
   "source": [
    "Having in mind that we have 81 variables in our data frame it would be useful to remove some of them to simplify the analysis. First we can get rid of Id variable which is surely not going to bring us anything important. "
   ]
  },
  {
   "cell_type": "code",
   "execution_count": 16,
   "metadata": {},
   "outputs": [],
   "source": [
    "data = data.drop(columns = \"Id\")"
   ]
  },
  {
   "cell_type": "code",
   "execution_count": 17,
   "metadata": {},
   "outputs": [
    {
     "data": {
      "text/html": [
       "<div>\n",
       "<style scoped>\n",
       "    .dataframe tbody tr th:only-of-type {\n",
       "        vertical-align: middle;\n",
       "    }\n",
       "\n",
       "    .dataframe tbody tr th {\n",
       "        vertical-align: top;\n",
       "    }\n",
       "\n",
       "    .dataframe thead th {\n",
       "        text-align: right;\n",
       "    }\n",
       "</style>\n",
       "<table border=\"1\" class=\"dataframe\">\n",
       "  <thead>\n",
       "    <tr style=\"text-align: right;\">\n",
       "      <th></th>\n",
       "      <th>MSSubClass</th>\n",
       "      <th>MSZoning</th>\n",
       "      <th>LotFrontage</th>\n",
       "      <th>LotArea</th>\n",
       "      <th>Street</th>\n",
       "      <th>Alley</th>\n",
       "      <th>LotShape</th>\n",
       "      <th>LandContour</th>\n",
       "      <th>Utilities</th>\n",
       "      <th>LotConfig</th>\n",
       "      <th>...</th>\n",
       "      <th>PoolArea</th>\n",
       "      <th>PoolQC</th>\n",
       "      <th>Fence</th>\n",
       "      <th>MiscFeature</th>\n",
       "      <th>MiscVal</th>\n",
       "      <th>MoSold</th>\n",
       "      <th>YrSold</th>\n",
       "      <th>SaleType</th>\n",
       "      <th>SaleCondition</th>\n",
       "      <th>SalePrice</th>\n",
       "    </tr>\n",
       "  </thead>\n",
       "  <tbody>\n",
       "    <tr>\n",
       "      <th>0</th>\n",
       "      <td>60</td>\n",
       "      <td>RL</td>\n",
       "      <td>65.0</td>\n",
       "      <td>8450</td>\n",
       "      <td>Pave</td>\n",
       "      <td>NaN</td>\n",
       "      <td>Reg</td>\n",
       "      <td>Lvl</td>\n",
       "      <td>AllPub</td>\n",
       "      <td>Inside</td>\n",
       "      <td>...</td>\n",
       "      <td>0</td>\n",
       "      <td>NaN</td>\n",
       "      <td>NaN</td>\n",
       "      <td>NaN</td>\n",
       "      <td>0</td>\n",
       "      <td>2</td>\n",
       "      <td>2008</td>\n",
       "      <td>WD</td>\n",
       "      <td>Normal</td>\n",
       "      <td>208500</td>\n",
       "    </tr>\n",
       "    <tr>\n",
       "      <th>1</th>\n",
       "      <td>20</td>\n",
       "      <td>RL</td>\n",
       "      <td>80.0</td>\n",
       "      <td>9600</td>\n",
       "      <td>Pave</td>\n",
       "      <td>NaN</td>\n",
       "      <td>Reg</td>\n",
       "      <td>Lvl</td>\n",
       "      <td>AllPub</td>\n",
       "      <td>FR2</td>\n",
       "      <td>...</td>\n",
       "      <td>0</td>\n",
       "      <td>NaN</td>\n",
       "      <td>NaN</td>\n",
       "      <td>NaN</td>\n",
       "      <td>0</td>\n",
       "      <td>5</td>\n",
       "      <td>2007</td>\n",
       "      <td>WD</td>\n",
       "      <td>Normal</td>\n",
       "      <td>181500</td>\n",
       "    </tr>\n",
       "    <tr>\n",
       "      <th>2</th>\n",
       "      <td>60</td>\n",
       "      <td>RL</td>\n",
       "      <td>68.0</td>\n",
       "      <td>11250</td>\n",
       "      <td>Pave</td>\n",
       "      <td>NaN</td>\n",
       "      <td>IR1</td>\n",
       "      <td>Lvl</td>\n",
       "      <td>AllPub</td>\n",
       "      <td>Inside</td>\n",
       "      <td>...</td>\n",
       "      <td>0</td>\n",
       "      <td>NaN</td>\n",
       "      <td>NaN</td>\n",
       "      <td>NaN</td>\n",
       "      <td>0</td>\n",
       "      <td>9</td>\n",
       "      <td>2008</td>\n",
       "      <td>WD</td>\n",
       "      <td>Normal</td>\n",
       "      <td>223500</td>\n",
       "    </tr>\n",
       "    <tr>\n",
       "      <th>3</th>\n",
       "      <td>70</td>\n",
       "      <td>RL</td>\n",
       "      <td>60.0</td>\n",
       "      <td>9550</td>\n",
       "      <td>Pave</td>\n",
       "      <td>NaN</td>\n",
       "      <td>IR1</td>\n",
       "      <td>Lvl</td>\n",
       "      <td>AllPub</td>\n",
       "      <td>Corner</td>\n",
       "      <td>...</td>\n",
       "      <td>0</td>\n",
       "      <td>NaN</td>\n",
       "      <td>NaN</td>\n",
       "      <td>NaN</td>\n",
       "      <td>0</td>\n",
       "      <td>2</td>\n",
       "      <td>2006</td>\n",
       "      <td>WD</td>\n",
       "      <td>Abnorml</td>\n",
       "      <td>140000</td>\n",
       "    </tr>\n",
       "    <tr>\n",
       "      <th>4</th>\n",
       "      <td>60</td>\n",
       "      <td>RL</td>\n",
       "      <td>84.0</td>\n",
       "      <td>14260</td>\n",
       "      <td>Pave</td>\n",
       "      <td>NaN</td>\n",
       "      <td>IR1</td>\n",
       "      <td>Lvl</td>\n",
       "      <td>AllPub</td>\n",
       "      <td>FR2</td>\n",
       "      <td>...</td>\n",
       "      <td>0</td>\n",
       "      <td>NaN</td>\n",
       "      <td>NaN</td>\n",
       "      <td>NaN</td>\n",
       "      <td>0</td>\n",
       "      <td>12</td>\n",
       "      <td>2008</td>\n",
       "      <td>WD</td>\n",
       "      <td>Normal</td>\n",
       "      <td>250000</td>\n",
       "    </tr>\n",
       "  </tbody>\n",
       "</table>\n",
       "<p>5 rows × 80 columns</p>\n",
       "</div>"
      ],
      "text/plain": [
       "   MSSubClass MSZoning  LotFrontage  LotArea Street Alley LotShape  \\\n",
       "0          60       RL         65.0     8450   Pave   NaN      Reg   \n",
       "1          20       RL         80.0     9600   Pave   NaN      Reg   \n",
       "2          60       RL         68.0    11250   Pave   NaN      IR1   \n",
       "3          70       RL         60.0     9550   Pave   NaN      IR1   \n",
       "4          60       RL         84.0    14260   Pave   NaN      IR1   \n",
       "\n",
       "  LandContour Utilities LotConfig    ...     PoolArea PoolQC Fence  \\\n",
       "0         Lvl    AllPub    Inside    ...            0    NaN   NaN   \n",
       "1         Lvl    AllPub       FR2    ...            0    NaN   NaN   \n",
       "2         Lvl    AllPub    Inside    ...            0    NaN   NaN   \n",
       "3         Lvl    AllPub    Corner    ...            0    NaN   NaN   \n",
       "4         Lvl    AllPub       FR2    ...            0    NaN   NaN   \n",
       "\n",
       "  MiscFeature MiscVal MoSold  YrSold  SaleType  SaleCondition  SalePrice  \n",
       "0         NaN       0      2    2008        WD         Normal     208500  \n",
       "1         NaN       0      5    2007        WD         Normal     181500  \n",
       "2         NaN       0      9    2008        WD         Normal     223500  \n",
       "3         NaN       0      2    2006        WD        Abnorml     140000  \n",
       "4         NaN       0     12    2008        WD         Normal     250000  \n",
       "\n",
       "[5 rows x 80 columns]"
      ]
     },
     "execution_count": 17,
     "metadata": {},
     "output_type": "execute_result"
    }
   ],
   "source": [
    "data.head()"
   ]
  },
  {
   "cell_type": "markdown",
   "metadata": {},
   "source": [
    "Now we can take a look at the correlation matrix for continous variables."
   ]
  },
  {
   "cell_type": "code",
   "execution_count": 18,
   "metadata": {
    "scrolled": false
   },
   "outputs": [
    {
     "data": {
      "image/png": "[encoded data removed]",
      "text/plain": [
       "<Figure size 864x648 with 2 Axes>"
      ]
     },
     "metadata": {
      "needs_background": "light"
     },
     "output_type": "display_data"
    }
   ],
   "source": [
    "corrmat = data.corr()\n",
    "f, ax = plt.subplots(figsize=(12, 9))\n",
    "sns.heatmap(corrmat, vmax=.8, square=True);"
   ]
  },
  {
   "cell_type": "markdown",
   "metadata": {},
   "source": [
    "There is a high correlation between variables GarageArea/GarageCars and 1stFlrSF/TotalBsmtSF. \n",
    "1. First let's take a look at Garage variables. It is pretty obvious GarageCars which is \"Size of garage in car capacity\" is correlated with the area of garage. Therefore there is no need to keep both variables \n",
    "2. The second relations is between the total sq feet of First floor and total sq feet of basement. It's again pretty self explanatory that those variables are correlated. \n",
    "3. We decide to remove the variable GarageCars and TotalBsmtSF\n",
    "There is also a high correlation between YearBuilt and GarageYrBlt - most of the garages were built at the same time as the original construction. Therefore, we will dispose \"GarageYrBlt\"."
   ]
  },
  {
   "cell_type": "code",
   "execution_count": 19,
   "metadata": {},
   "outputs": [],
   "source": [
    "data = data.drop(columns = [\"GarageCars\", \"TotalBsmtSF\", \"GarageYrBlt\"])"
   ]
  },
  {
   "cell_type": "markdown",
   "metadata": {},
   "source": [
    "### 2.2.2. Dealing with NAs"
   ]
  },
  {
   "cell_type": "markdown",
   "metadata": {},
   "source": [
    "Now we will look for association between categorical data. In order to do that, firstly we will put \"NA\" value into such columns for which NaN value does not mean missing data, eg. for \"Pool quality\" NaN means there is no pool and not missing data."
   ]
  },
  {
   "cell_type": "code",
   "execution_count": 20,
   "metadata": {},
   "outputs": [],
   "source": [
    "na_cols = [\"Alley\", \"BsmtQual\", \"BsmtCond\", \"BsmtExposure\", \"BsmtFinType1\", \"BsmtFinType2\", \"FireplaceQu\", \"GarageType\", \"GarageFinish\", \"GarageQual\", \"GarageCond\", \"PoolQC\", \"Fence\", \"MiscFeature\"]\n",
    "for nas in na_cols:\n",
    "    if \"Bsmt\" in nas:\n",
    "        data[nas] = data[nas].fillna(\"No basement\")\n",
    "    elif \"Garage\" in nas:\n",
    "        data[nas] = data[nas].fillna(\"No garage\")\n",
    "    else:\n",
    "        data[nas] = data[nas].fillna(\"No {}\".format(nas))\n",
    "\n",
    "categorical_df = data.select_dtypes(include='object')\n",
    "col_names = categorical_df.columns.values.tolist()"
   ]
  },
  {
   "cell_type": "markdown",
   "metadata": {},
   "source": [
    "Now we can assess if there are some other NA values in dataset which are now surely just missings"
   ]
  },
  {
   "cell_type": "code",
   "execution_count": 21,
   "metadata": {
    "scrolled": true
   },
   "outputs": [
    {
     "data": {
      "text/plain": [
       "OrderedDict([('LotFrontage', 17.73972602739726),\n",
       "             ('MasVnrType', 0.547945205479452),\n",
       "             ('MasVnrArea', 0.547945205479452),\n",
       "             ('Electrical', 0.0684931506849315),\n",
       "             ('MSSubClass', 0.0),\n",
       "             ('MSZoning', 0.0),\n",
       "             ('LotArea', 0.0),\n",
       "             ('Street', 0.0),\n",
       "             ('Alley', 0.0),\n",
       "             ('LotShape', 0.0),\n",
       "             ('LandContour', 0.0),\n",
       "             ('Utilities', 0.0),\n",
       "             ('LotConfig', 0.0),\n",
       "             ('LandSlope', 0.0),\n",
       "             ('Neighborhood', 0.0),\n",
       "             ('Condition1', 0.0),\n",
       "             ('Condition2', 0.0),\n",
       "             ('BldgType', 0.0),\n",
       "             ('HouseStyle', 0.0),\n",
       "             ('OverallQual', 0.0),\n",
       "             ('OverallCond', 0.0),\n",
       "             ('YearBuilt', 0.0),\n",
       "             ('YearRemodAdd', 0.0),\n",
       "             ('RoofStyle', 0.0),\n",
       "             ('RoofMatl', 0.0),\n",
       "             ('Exterior1st', 0.0),\n",
       "             ('Exterior2nd', 0.0),\n",
       "             ('ExterQual', 0.0),\n",
       "             ('ExterCond', 0.0),\n",
       "             ('Foundation', 0.0),\n",
       "             ('BsmtQual', 0.0),\n",
       "             ('BsmtCond', 0.0),\n",
       "             ('BsmtExposure', 0.0),\n",
       "             ('BsmtFinType1', 0.0),\n",
       "             ('BsmtFinSF1', 0.0),\n",
       "             ('BsmtFinType2', 0.0),\n",
       "             ('BsmtFinSF2', 0.0),\n",
       "             ('BsmtUnfSF', 0.0),\n",
       "             ('Heating', 0.0),\n",
       "             ('HeatingQC', 0.0),\n",
       "             ('CentralAir', 0.0),\n",
       "             ('1stFlrSF', 0.0),\n",
       "             ('2ndFlrSF', 0.0),\n",
       "             ('LowQualFinSF', 0.0),\n",
       "             ('GrLivArea', 0.0),\n",
       "             ('BsmtFullBath', 0.0),\n",
       "             ('BsmtHalfBath', 0.0),\n",
       "             ('FullBath', 0.0),\n",
       "             ('HalfBath', 0.0),\n",
       "             ('BedroomAbvGr', 0.0),\n",
       "             ('KitchenAbvGr', 0.0),\n",
       "             ('KitchenQual', 0.0),\n",
       "             ('TotRmsAbvGrd', 0.0),\n",
       "             ('Functional', 0.0),\n",
       "             ('Fireplaces', 0.0),\n",
       "             ('FireplaceQu', 0.0),\n",
       "             ('GarageType', 0.0),\n",
       "             ('GarageFinish', 0.0),\n",
       "             ('GarageArea', 0.0),\n",
       "             ('GarageQual', 0.0),\n",
       "             ('GarageCond', 0.0),\n",
       "             ('PavedDrive', 0.0),\n",
       "             ('WoodDeckSF', 0.0),\n",
       "             ('OpenPorchSF', 0.0),\n",
       "             ('EnclosedPorch', 0.0),\n",
       "             ('3SsnPorch', 0.0),\n",
       "             ('ScreenPorch', 0.0),\n",
       "             ('PoolArea', 0.0),\n",
       "             ('PoolQC', 0.0),\n",
       "             ('Fence', 0.0),\n",
       "             ('MiscFeature', 0.0),\n",
       "             ('MiscVal', 0.0),\n",
       "             ('MoSold', 0.0),\n",
       "             ('YrSold', 0.0),\n",
       "             ('SaleType', 0.0),\n",
       "             ('SaleCondition', 0.0),\n",
       "             ('SalePrice', 0.0)])"
      ]
     },
     "execution_count": 21,
     "metadata": {},
     "output_type": "execute_result"
    }
   ],
   "source": [
    "na_percantage = dict((data.isna().sum()/data.shape[0])*100)\n",
    "na_percantage \n",
    "na_percentage_sorted = sorted(na_percantage.items(), key=lambda kv: kv[1], reverse=True)\n",
    "na_percentage_sorted = collections.OrderedDict(na_percentage_sorted)\n",
    "na_percentage_sorted"
   ]
  },
  {
   "cell_type": "markdown",
   "metadata": {},
   "source": [
    "As we can see now there are few variables which contain NA values. It's mostly the problem in case of variable LotFrontage which has 17% of missings. It's not really important variable so we will just drop it. For the other 3 variables we will drop rows with missing values"
   ]
  },
  {
   "cell_type": "code",
   "execution_count": 22,
   "metadata": {},
   "outputs": [],
   "source": [
    "data = data.drop(columns='LotFrontage')\n",
    "data = data.dropna()"
   ]
  },
  {
   "cell_type": "markdown",
   "metadata": {},
   "source": [
    "### 2.2.3. Dropping redundant variables (categorogical)"
   ]
  },
  {
   "cell_type": "markdown",
   "metadata": {},
   "source": [
    "After that, we can calculate Cramer's V matrix, which contains measure of association between categorical features. Cramer's V is similar to correlation as the output is in the range of [0,1], where 0 indicates no association and 1 full association. Naturally, Cramer's V matrix is symmetrical."
   ]
  },
  {
   "cell_type": "code",
   "execution_count": 23,
   "metadata": {},
   "outputs": [
    {
     "data": {
      "image/png": "[encoded data removed]",
      "text/plain": [
       "<Figure size 864x648 with 2 Axes>"
      ]
     },
     "metadata": {
      "needs_background": "light"
     },
     "output_type": "display_data"
    }
   ],
   "source": [
    "# source for cramers_v function in python:\n",
    "# https://towardsdatascience.com/the-search-for-categorical-correlation-a1cf7f1888c9\n",
    "\n",
    "def cramers_v(x, y):\n",
    "    confusion_matrix = pd.crosstab(x,y)\n",
    "    chi2 = ss.chi2_contingency(confusion_matrix)[0]\n",
    "    n = confusion_matrix.sum().sum()\n",
    "    phi2 = chi2/n\n",
    "    r,k = confusion_matrix.shape\n",
    "    phi2corr = max(0, phi2-((k-1)*(r-1))/(n-1))\n",
    "    rcorr = r-((r-1)**2)/(n-1)\n",
    "    kcorr = k-((k-1)**2)/(n-1)\n",
    "    return np.sqrt(phi2corr/min((kcorr-1),(rcorr-1)))\n",
    "\n",
    "corrmat = pd.DataFrame(0, index=col_names, columns=col_names).astype('float64')\n",
    "\n",
    "for i, column_i in enumerate(categorical_df):\n",
    "    for j, column_j in enumerate(categorical_df):\n",
    "        corrmat.iloc[i][column_j] = cramers_v(categorical_df[column_i], categorical_df[column_j])\n",
    "\n",
    "f, ax = plt.subplots(figsize=(12, 9))    \n",
    "sns.heatmap(corrmat, vmax=.8, square=True);"
   ]
  },
  {
   "cell_type": "markdown",
   "metadata": {},
   "source": [
    "Again, we can extract a few variables that seem to be strongly associated. \n",
    "1. Exterior1st and Exterior2nd - both variables concern one feature, so we decided to leave just one in our analysis.\n",
    "2. GarageQual and GarageCond - rather unsurprisingly, garage quality corresponds with garage condition. Therefore we decided to omit GarageCond.\n",
    "3. GarageType and GarageFinish - interior finish of the garage seems to be correlated with garage location. Thus, we will only usue GarageType."
   ]
  },
  {
   "cell_type": "code",
   "execution_count": 24,
   "metadata": {},
   "outputs": [],
   "source": [
    "data = data.drop(columns = [\"Exterior2nd\", \"GarageCond\", \"GarageFinish\"])"
   ]
  },
  {
   "cell_type": "markdown",
   "metadata": {},
   "source": [
    "## 2.3. One hot encoding\n"
   ]
  },
  {
   "cell_type": "markdown",
   "metadata": {},
   "source": [
    "We have already dealt with some issues which were present in our dataset, removing NAs and some highly correlated variables. The next step is to introduce a proper approach to work with categorogical variables which are higly represented in our case. We decided to use One Hot Encoding to solve this"
   ]
  },
  {
   "cell_type": "code",
   "execution_count": 25,
   "metadata": {
    "scrolled": true
   },
   "outputs": [
    {
     "name": "stdout",
     "output_type": "stream",
     "text": [
      "MSZoning : ['RL' 'RM' 'C (all)' 'FV' 'RH'] ; 5\n",
      "Street : ['Pave' 'Grvl'] ; 2\n",
      "Alley : ['No Alley' 'Grvl' 'Pave'] ; 3\n",
      "LotShape : ['Reg' 'IR1' 'IR2' 'IR3'] ; 4\n",
      "LandContour : ['Lvl' 'Bnk' 'Low' 'HLS'] ; 4\n",
      "Utilities : ['AllPub' 'NoSeWa'] ; 2\n",
      "LotConfig : ['Inside' 'FR2' 'Corner' 'CulDSac' 'FR3'] ; 5\n",
      "LandSlope : ['Gtl' 'Mod' 'Sev'] ; 3\n",
      "Neighborhood : ['CollgCr' 'Veenker' 'Crawfor' 'NoRidge' 'Mitchel' 'Somerst' 'NWAmes'\n",
      " 'OldTown' 'BrkSide' 'Sawyer' 'NridgHt' 'NAmes' 'SawyerW' 'IDOTRR'\n",
      " 'MeadowV' 'Edwards' 'Timber' 'Gilbert' 'StoneBr' 'ClearCr' 'NPkVill'\n",
      " 'Blmngtn' 'BrDale' 'SWISU' 'Blueste'] ; 25\n",
      "Condition1 : ['Norm' 'Feedr' 'PosN' 'Artery' 'RRAe' 'RRNn' 'RRAn' 'PosA' 'RRNe'] ; 9\n",
      "Condition2 : ['Norm' 'Artery' 'RRNn' 'Feedr' 'PosN' 'PosA' 'RRAn' 'RRAe'] ; 8\n",
      "BldgType : ['1Fam' '2fmCon' 'Duplex' 'TwnhsE' 'Twnhs'] ; 5\n",
      "HouseStyle : ['2Story' '1Story' '1.5Fin' '1.5Unf' 'SFoyer' 'SLvl' '2.5Unf' '2.5Fin'] ; 8\n",
      "RoofStyle : ['Gable' 'Hip' 'Gambrel' 'Mansard' 'Flat' 'Shed'] ; 6\n",
      "RoofMatl : ['CompShg' 'WdShngl' 'Metal' 'WdShake' 'Membran' 'Tar&Grv' 'Roll'\n",
      " 'ClyTile'] ; 8\n",
      "Exterior1st : ['VinylSd' 'MetalSd' 'Wd Sdng' 'HdBoard' 'BrkFace' 'WdShing' 'CemntBd'\n",
      " 'Plywood' 'AsbShng' 'Stucco' 'BrkComm' 'AsphShn' 'Stone' 'ImStucc'\n",
      " 'CBlock'] ; 15\n",
      "MasVnrType : ['BrkFace' 'None' 'Stone' 'BrkCmn'] ; 4\n",
      "ExterQual : ['Gd' 'TA' 'Ex' 'Fa'] ; 4\n",
      "ExterCond : ['TA' 'Gd' 'Fa' 'Po' 'Ex'] ; 5\n",
      "Foundation : ['PConc' 'CBlock' 'BrkTil' 'Wood' 'Slab' 'Stone'] ; 6\n",
      "BsmtQual : ['Gd' 'TA' 'Ex' 'No basement' 'Fa'] ; 5\n",
      "BsmtCond : ['TA' 'Gd' 'No basement' 'Fa' 'Po'] ; 5\n",
      "BsmtExposure : ['No' 'Gd' 'Mn' 'Av' 'No basement'] ; 5\n",
      "BsmtFinType1 : ['GLQ' 'ALQ' 'Unf' 'Rec' 'BLQ' 'No basement' 'LwQ'] ; 7\n",
      "BsmtFinType2 : ['Unf' 'BLQ' 'No basement' 'ALQ' 'Rec' 'LwQ' 'GLQ'] ; 7\n",
      "Heating : ['GasA' 'GasW' 'Grav' 'Wall' 'OthW' 'Floor'] ; 6\n",
      "HeatingQC : ['Ex' 'Gd' 'TA' 'Fa' 'Po'] ; 5\n",
      "CentralAir : ['Y' 'N'] ; 2\n",
      "Electrical : ['SBrkr' 'FuseF' 'FuseA' 'FuseP' 'Mix'] ; 5\n",
      "KitchenQual : ['Gd' 'TA' 'Ex' 'Fa'] ; 4\n",
      "Functional : ['Typ' 'Min1' 'Maj1' 'Min2' 'Mod' 'Maj2' 'Sev'] ; 7\n",
      "FireplaceQu : ['No FireplaceQu' 'TA' 'Gd' 'Fa' 'Ex' 'Po'] ; 6\n",
      "GarageType : ['Attchd' 'Detchd' 'BuiltIn' 'CarPort' 'No garage' 'Basment' '2Types'] ; 7\n",
      "GarageQual : ['TA' 'Fa' 'Gd' 'No garage' 'Ex' 'Po'] ; 6\n",
      "PavedDrive : ['Y' 'N' 'P'] ; 3\n",
      "PoolQC : ['No PoolQC' 'Ex' 'Fa' 'Gd'] ; 4\n",
      "Fence : ['No Fence' 'MnPrv' 'GdWo' 'GdPrv' 'MnWw'] ; 5\n",
      "MiscFeature : ['No MiscFeature' 'Shed' 'Gar2' 'Othr' 'TenC'] ; 5\n",
      "SaleType : ['WD' 'New' 'COD' 'ConLD' 'ConLI' 'CWD' 'ConLw' 'Con' 'Oth'] ; 9\n",
      "SaleCondition : ['Normal' 'Abnorml' 'Partial' 'AdjLand' 'Alloca' 'Family'] ; 6\n"
     ]
    }
   ],
   "source": [
    "nominal_variables = []\n",
    "num_variables = []\n",
    "for i in data.columns:\n",
    "    if str(data[i].dtypes) == \"object\":\n",
    "        nominal_variables.append(i)\n",
    "        print(i,\":\", data[i].unique(), \";\" ,len(data[i].unique()))\n",
    "    else:\n",
    "        num_variables.append(i)\n",
    "data = pd.concat([data[num_variables], pd.get_dummies(data[nominal_variables])], axis=1)"
   ]
  },
  {
   "cell_type": "markdown",
   "metadata": {},
   "source": [
    "# 3. Feature Selection"
   ]
  },
  {
   "cell_type": "code",
   "execution_count": 26,
   "metadata": {},
   "outputs": [],
   "source": [
    "# Od szczegółu do ogółu\n",
    "sklearn.feature_selection.f_regression(X, y, center=True)"
   ]
  },
  {
   "cell_type": "code",
   "execution_count": 27,
   "metadata": {},
   "outputs": [],
   "source": [
    "X = data.loc[:, data.columns != 'SalePrice'] \n",
    "y = data.SalePrice"
   ]
  },
  {
   "cell_type": "code",
   "execution_count": 37,
   "metadata": {},
   "outputs": [],
   "source": [
    "result = f_regression(X,y, center = True)"
   ]
  },
  {
   "cell_type": "code",
   "execution_count": 52,
   "metadata": {},
   "outputs": [
    {
     "name": "stdout",
     "output_type": "stream",
     "text": [
      "Condition1_PosA :  0.10564163438355754\n",
      "Neighborhood_StoneBr :  6.576099050691313e-17\n",
      "PavedDrive_Y :  3.475347794134116e-19\n",
      "EnclosedPorch :  8.499297492455897e-07\n",
      "Fence_No Fence :  5.1040451410862026e-11\n",
      "RoofMatl_WdShngl :  6.489516155388506e-11\n",
      "FireplaceQu_Ex :  2.605484372999365e-23\n",
      "ExterCond_Ex :  0.6509039771225564\n",
      "BsmtFinType2_Unf :  7.877661302021767e-06\n",
      "BldgType_TwnhsE :  0.8696357593825006\n",
      "Foundation_Slab :  4.7149017315619115e-06\n",
      "BsmtFullBath :  4.1607266038034924e-18\n",
      "SaleType_ConLw :  0.2971959935961741\n",
      "KitchenQual_Fa :  1.684518532957523e-09\n",
      "Neighborhood_Blueste :  0.4418005534270546\n",
      "Functional_Min2 :  0.006752615540051051\n",
      "BsmtFinType1_LwQ :  0.0013395165071421432\n",
      "BsmtExposure_Mn :  0.08798820545685976\n",
      "Condition1_RRNe :  0.8566918655222261\n",
      "HouseStyle_SFoyer :  0.0003931587377715101\n",
      "Heating_Grav :  0.0004176278149933198\n",
      "FireplaceQu_Po :  0.003846825634489195\n",
      "Condition2_Artery :  0.18605745364654014\n",
      "Heating_OthW :  0.32768388361062784\n",
      "RoofStyle_Mansard :  0.9985153551960466\n",
      "Exterior1st_CBlock :  0.3403445334175269\n",
      "BsmtFinType2_BLQ :  0.030485848414716823\n",
      "Exterior1st_BrkFace :  0.20576204336636775\n",
      "Foundation_BrkTil :  4.401025379334004e-15\n",
      "Condition1_Artery :  5.0290453253114065e-05\n",
      "MSZoning_RH :  0.01278528087719678\n",
      "1stFlrSF :  8.964173648223785e-147\n",
      "HouseStyle_1Story :  0.01433796173999796\n",
      "HeatingQC_TA :  2.7468686378207842e-34\n",
      "SaleCondition_Alloca :  0.4948430559942526\n",
      "HeatingQC_Gd :  3.2038242458646213e-07\n",
      "Alley_No Alley :  1.9339034255512235e-06\n",
      "LandContour_Bnk :  0.00011959802174087015\n",
      "BsmtFinType1_Unf :  0.0017952267038146958\n",
      "Fence_MnWw :  0.05173008422070796\n",
      "LotShape_IR3 :  0.15660384064196664\n",
      "MasVnrType_BrkCmn :  0.09219760291442558\n",
      "Condition2_PosA :  0.06859496368764217\n",
      "MSSubClass :  0.0016038309441081609\n",
      "GarageQual_No garage :  5.475854633586353e-20\n",
      "MiscFeature_Gar2 :  0.8602183285828607\n",
      "HouseStyle_1.5Fin :  4.214078106571674e-10\n",
      "BsmtQual_Ex :  1.4272777337415213e-115\n",
      "MSZoning_RM :  4.088297069683285e-29\n",
      "RoofStyle_Gambrel :  0.18318491872695555\n",
      "Heating_Wall :  0.025341807988864363\n",
      "Functional_Sev :  0.5151542386100196\n",
      "Neighborhood_Timber :  6.941515838500562e-07\n",
      "Condition2_RRAn :  0.5815225405810918\n",
      "Exterior1st_Stucco :  0.26226419410339574\n",
      "Functional_Min1 :  0.015061841097708868\n",
      "RoofMatl_Roll :  0.5823438286858676\n",
      "Condition1_PosN :  0.05585593075780247\n",
      "LandSlope_Sev :  0.27816797895022927\n",
      "Street_Grvl :  0.11859948981406264\n",
      "LandSlope_Gtl :  0.04655037177248272\n",
      "LandContour_Lvl :  0.2703973307618751\n",
      "RoofStyle_Shed :  0.42865933317950966\n",
      "KitchenQual_Ex :  1.0589287761308795e-92\n",
      "YrSold :  0.3192597667910466\n",
      "LotConfig_FR2 :  0.8132626991560209\n",
      "ExterCond_Fa :  1.2958050922880755e-07\n",
      "Neighborhood_NWAmes :  0.3518078622255646\n",
      "PoolQC_Gd :  0.6406027116891642\n",
      "BsmtQual_Gd :  4.230961420399239e-20\n",
      "BldgType_2fmCon :  0.0002067979471367325\n",
      "MiscFeature_No MiscFeature :  0.00613442171134589\n",
      "Exterior1st_Plywood :  0.5238955984020663\n",
      "PoolArea :  0.00038363631343920056\n",
      "GarageType_CarPort :  0.007294801813043009\n",
      "CentralAir_N :  2.2015976538093737e-22\n",
      "Condition1_RRAe :  0.07631559156263978\n",
      "YearBuilt :  8.518405781591716e-103\n",
      "BldgType_Duplex :  1.2324147034469352e-05\n",
      "CentralAir_Y :  2.20159765380917e-22\n",
      "Neighborhood_Blmngtn :  0.4564570464074351\n",
      "MSZoning_FV :  0.0004972060855168856\n",
      "LotShape_Reg :  5.450215271309021e-26\n",
      "Neighborhood_CollgCr :  0.005482088243766152\n",
      "RoofMatl_Tar&Grv :  0.8409788893792327\n",
      "BsmtCond_Gd :  0.0027006807088744136\n",
      "ExterQual_Ex :  1.8320753708163195e-71\n",
      "2ndFlrSF :  1.5058738582322072e-36\n",
      "Electrical_FuseF :  1.2894780259004967e-06\n",
      "MasVnrType_None :  3.905528849755582e-49\n",
      "Exterior1st_BrkComm :  0.05042579878633943\n",
      "ExterQual_TA :  1.451095935355085e-136\n",
      "LandContour_Low :  0.07759299635326826\n",
      "BsmtQual_No basement :  4.7397336757221374e-09\n",
      "PoolQC_Fa :  0.5339285089143418\n",
      "Exterior1st_MetalSd :  1.8133169662574205e-10\n",
      "Foundation_PConc :  1.0316188084309739e-91\n",
      "Exterior1st_WdShing :  0.05183699902061958\n",
      "BsmtCond_TA :  3.174921524100091e-05\n",
      "RoofStyle_Flat :  0.5208492528629619\n",
      "Exterior1st_CemntBd :  2.02266145683146e-07\n",
      "SaleType_COD :  0.00207266450256746\n",
      "SaleType_WD :  2.5951413138799018e-20\n",
      "HouseStyle_2Story :  2.7098784201590318e-21\n",
      "PoolQC_No PoolQC :  0.00031648932670922856\n",
      "FireplaceQu_Gd :  5.862781577164108e-40\n",
      "Exterior1st_Stone :  0.16473972480949764\n",
      "GarageQual_Gd :  0.09484954629800314\n",
      "PavedDrive_P :  0.0007380197669393845\n",
      "BsmtFinSF1 :  3.476509806730345e-52\n",
      "FullBath :  5.928159520540762e-122\n",
      "Condition1_Norm :  1.881740349240103e-05\n",
      "BsmtFinType2_LwQ :  0.15771567114398133\n",
      "KitchenAbvGr :  1.4716918034414208e-07\n",
      "HeatingQC_Po :  0.23778898876030302\n",
      "Alley_Grvl :  1.0242111515749907e-07\n",
      "HouseStyle_SLvl :  0.15065318505501832\n",
      "Neighborhood_NridgHt :  8.435025533691888e-56\n",
      "Utilities_NoSeWa :  0.5866752889962392\n",
      "Neighborhood_Crawfor :  0.006101067959773304\n",
      "Neighborhood_Sawyer :  9.69495078364496e-07\n",
      "MiscFeature_Othr :  0.12222629158964782\n",
      "MoSold :  0.08602389995543427\n",
      "BsmtCond_Po :  0.037393974824209135\n",
      "RoofStyle_Hip :  2.770267104312902e-20\n",
      "Condition2_Norm :  0.24654289674718555\n",
      "GarageArea :  1.960629446145202e-156\n",
      "SaleType_ConLI :  0.5768655216294541\n",
      "RoofMatl_ClyTile :  0.7948674080200225\n",
      "BsmtExposure_Gd :  4.3257564540331786e-32\n",
      "TotRmsAbvGrd :  7.087260538096601e-109\n",
      "GarageQual_Po :  0.07859269649465822\n",
      "GarageType_No garage :  5.475854633586353e-20\n",
      "BsmtFinSF2 :  0.6936426473252876\n",
      "Condition2_RRAe :  0.905913113002789\n",
      "ExterQual_Gd :  1.1996180757616384e-75\n",
      "Alley_Pave :  0.2779445754160707\n",
      "HeatingQC_Ex :  7.974122007436796e-68\n",
      "BsmtFinType1_No basement :  4.7397336757221374e-09\n",
      "GarageQual_Ex :  0.1869711164017597\n",
      "MiscFeature_Shed :  0.008172341672527861\n",
      "BsmtFinType1_Rec :  1.898799422509209e-07\n",
      "Exterior1st_AsbShng :  3.062768510500748e-05\n",
      "Condition2_RRNn :  0.13455108125744145\n",
      "BsmtFinType1_ALQ :  0.00010614214841829802\n",
      "GarageType_Attchd :  1.4465518189716325e-39\n",
      "BsmtFinType2_No basement :  2.6684901767730353e-08\n",
      "GarageQual_TA :  2.4862752960242637e-21\n",
      "Neighborhood_BrkSide :  3.947965593801842e-08\n",
      "MiscVal :  0.4249582133708476\n",
      "Neighborhood_NoRidge :  7.859578219796002e-39\n",
      "Electrical_Mix :  0.1518922359246052\n",
      "Neighborhood_BrDale :  0.00010934832497400201\n",
      "Neighborhood_Veenker :  0.014600422305827145\n",
      "Fireplaces :  3.1460481512003202e-80\n",
      "Neighborhood_IDOTRR :  3.1000028903876687e-10\n",
      "GarageType_Detchd :  4.4818479300133925e-44\n",
      "LowQualFinSF :  0.3359640969668476\n",
      "RoofMatl_Metal :  0.9937226474255725\n",
      "SaleCondition_Normal :  9.09432010969047e-09\n",
      "GarageType_BuiltIn :  2.4170849445716166e-20\n",
      "LotConfig_Corner :  0.8220874484569407\n",
      "GarageType_2Types :  0.36403456126325506\n",
      "FireplaceQu_No FireplaceQu :  1.167668335006469e-81\n",
      "Functional_Maj1 :  0.16701314568312178\n",
      "GarageType_Basment :  0.26740406688990254\n",
      "Heating_GasW :  0.4515459541454615\n",
      "Condition1_RRNn :  0.369679317356185\n",
      "Foundation_CBlock :  3.5036949903496577e-41\n",
      "YearRemodAdd :  8.24008854692074e-96\n",
      "RoofMatl_Membran :  0.4427879558045197\n",
      "BldgType_Twnhs :  0.0001699014442342123\n",
      "Neighborhood_Somerst :  5.167240778024959e-08\n",
      "HouseStyle_1.5Unf :  0.000821069792924314\n",
      "ExterCond_TA :  6.806175414970025e-05\n",
      "Fence_GdWo :  0.00014026098303225669\n",
      "GrLivArea :  5.2106633433842435e-223\n",
      "Exterior1st_HdBoard :  0.0003334785294206189\n",
      "HalfBath :  5.375710246743774e-28\n",
      "Exterior1st_VinylSd :  2.6534078485406086e-32\n",
      "SaleType_Oth :  0.18407868324352097\n",
      "RoofMatl_CompShg :  5.649389081973355e-05\n",
      "MSZoning_C (all) :  2.0819413731918352e-05\n",
      "KitchenQual_Gd :  4.160185266142177e-37\n",
      "Neighborhood_ClearCr :  0.03135684870881968\n",
      "Neighborhood_NPkVill :  0.15016807278101577\n",
      "BsmtUnfSF :  9.763449968659132e-17\n",
      "BldgType_1Fam :  1.539163676247958e-07\n",
      "SaleType_CWD :  0.44927505921239697\n",
      "LotConfig_Inside :  0.0015394268790878125\n",
      "Neighborhood_SawyerW :  0.5593248323698031\n",
      "MasVnrType_Stone :  5.5185669180543086e-39\n",
      "PavedDrive_N :  2.6161718118062616e-16\n",
      "Electrical_FuseA :  9.150912361277585e-14\n",
      "Functional_Mod :  0.5484442961014628\n",
      "Fence_MnPrv :  8.519352302721183e-08\n",
      "Electrical_SBrkr :  7.485737572365756e-21\n",
      "LandContour_HLS :  3.588778649555773e-06\n",
      "Neighborhood_OldTown :  1.6004085277840555e-13\n",
      "HeatingQC_Fa :  3.1922940533432766e-07\n",
      "OverallCond :  0.0036087082389923385\n",
      "SaleCondition_Abnorml :  7.036274128228944e-06\n",
      "Neighborhood_MeadowV :  1.6925784769279977e-05\n",
      "Condition1_Feedr :  7.890853672764776e-06\n",
      "SaleCondition_AdjLand :  0.053362778720930454\n",
      "BsmtExposure_No basement :  8.683420933224575e-09\n",
      "BsmtHalfBath :  0.5420063461313087\n",
      "KitchenQual_TA :  2.693106666747331e-101\n",
      "MiscFeature_TenC :  0.3817457086949688\n",
      "BsmtFinType2_GLQ :  0.9864650442579039\n",
      "Utilities_AllPub :  0.5866752889962392\n",
      "ExterCond_Gd :  0.05956773689089165\n",
      "BsmtFinType1_GLQ :  1.5773244098137286e-67\n",
      "MasVnrType_BrkFace :  8.22491595672003e-15\n",
      "Exterior1st_ImStucc :  0.3048774364518317\n",
      "Foundation_Stone :  0.6500914914880533\n",
      "RoofStyle_Gable :  1.5365596115446704e-18\n",
      "Neighborhood_Gilbert :  0.1722244099506651\n",
      "Neighborhood_Mitchel :  0.028715657754284387\n",
      "HouseStyle_2.5Unf :  0.32884817090011553\n",
      "BsmtExposure_Av :  1.0365911798236503e-07\n",
      "Functional_Typ :  7.5343183904515855e-06\n"
     ]
    },
    {
     "name": "stdout",
     "output_type": "stream",
     "text": [
      "FireplaceQu_TA :  2.4195919583087283e-10\n",
      "BedroomAbvGr :  4.2907409370538884e-11\n",
      "BsmtCond_Fa :  3.90882629046425e-07\n",
      "GarageQual_Fa :  3.6156530753826704e-07\n",
      "Electrical_FuseP :  0.06861888052966962\n",
      "BsmtQual_Fa :  8.615145686870613e-07\n",
      "Functional_Maj2 :  0.0073632588744801985\n",
      "SaleType_ConLD :  0.11239268708346357\n",
      "Condition2_PosN :  0.0628392417683091\n",
      "Fence_GdPrv :  0.8668388538801572\n",
      "ExterCond_Po :  0.18918180463544676\n",
      "BsmtExposure_No :  2.2356731962448682e-24\n",
      "Neighborhood_NAmes :  5.35205232575693e-13\n",
      "SaleCondition_Family :  0.07814442846663279\n",
      "SaleType_Con :  0.11240135216286952\n",
      "Condition2_Feedr :  0.06573514314182895\n",
      "LotShape_IR2 :  1.1360802378231144e-06\n",
      "Exterior1st_Wd Sdng :  1.198319249442582e-09\n",
      "PoolQC_Ex :  2.910234806444965e-08\n",
      "LandSlope_Mod :  0.09383093232781188\n",
      "BsmtFinType2_ALQ :  0.1048390685009194\n",
      "LotConfig_FR3 :  0.4820698578279029\n",
      "Heating_GasA :  0.0004240170409740417\n",
      "ScreenPorch :  1.594864522012552e-05\n",
      "MSZoning_RL :  1.6913078563306516e-21\n",
      "FireplaceQu_Fa :  0.32906765743174016\n",
      "RoofMatl_WdShake :  0.08608603769306584\n",
      "BsmtQual_TA :  3.149258193231246e-74\n",
      "LotArea :  1.106546212271488e-24\n",
      "Neighborhood_Edwards :  5.188768600335993e-12\n",
      "BsmtFinType1_BLQ :  4.223876576229973e-07\n",
      "Street_Pave :  0.11859948981406264\n",
      "Condition1_RRAn :  0.8067542015019742\n",
      "Foundation_Wood :  0.9122675632264381\n",
      "3SsnPorch :  0.08498444555207871\n",
      "SaleCondition_Partial :  6.581681089225656e-43\n",
      "Neighborhood_SWISU :  0.01552986872790775\n",
      "Heating_Floor :  0.17273282075597737\n",
      "HouseStyle_2.5Fin :  0.1591718064348308\n",
      "MasVnrArea :  1.6707553785782815e-83\n",
      "WoodDeckSF :  5.773388350573065e-37\n",
      "LotShape_IR1 :  2.1699967383410935e-18\n",
      "OverallQual :  2.82514761338745e-310\n",
      "Exterior1st_AsphShn :  0.30936870277398903\n",
      "BsmtFinType2_Rec :  0.1380887495227681\n",
      "OpenPorchSF :  5.829860153508689e-34\n",
      "SaleType_New :  2.5989250537152994e-44\n",
      "LotConfig_CulDSac :  4.008712876991357e-08\n",
      "BsmtCond_No basement :  4.7397336757221374e-09\n",
      "ExterQual_Fa :  1.0625660154665546e-05\n"
     ]
    }
   ],
   "source": [
    "features = X.columns.values\n",
    "newFeatures = []\n",
    "tempFeatures = []\n",
    "\n",
    "for k in range(1):\n",
    "    p_values = []\n",
    "    featToTest = list(set(features) - set(newFeatures))\n",
    "    for feat in featToTest:\n",
    "        tempFeatures = newFeatures.copy()\n",
    "        tempFeatures.append(feat)\n",
    "        X2 = sm.add_constant(X[tempFeatures])\n",
    "        est = sm.OLS(y, X2)\n",
    "        results = est.fit()\n",
    "        print(feat, \": \", results.f_pvalue)\n",
    "        "
   ]
  },
  {
   "cell_type": "code",
   "execution_count": 46,
   "metadata": {},
   "outputs": [
    {
     "name": "stdout",
     "output_type": "stream",
     "text": [
      "['Condition1_PosA', 'Neighborhood_StoneBr', 'PavedDrive_Y', 'EnclosedPorch', 'Fence_No Fence', 'RoofMatl_WdShngl', 'FireplaceQu_Ex', 'ExterCond_Ex', 'BsmtFinType2_Unf', 'BldgType_TwnhsE', 'Foundation_Slab', 'BsmtFullBath', 'SaleType_ConLw', 'KitchenQual_Fa', 'Neighborhood_Blueste', 'Functional_Min2', 'BsmtFinType1_LwQ', 'BsmtExposure_Mn', 'Condition1_RRNe', 'HouseStyle_SFoyer', 'Heating_Grav', 'FireplaceQu_Po', 'Condition2_Artery', 'Heating_OthW', 'RoofStyle_Mansard', 'Exterior1st_CBlock', 'BsmtFinType2_BLQ', 'Exterior1st_BrkFace', 'Foundation_BrkTil', 'Condition1_Artery', 'MSZoning_RH', '1stFlrSF', 'HouseStyle_1Story', 'HeatingQC_TA', 'SaleCondition_Alloca', 'HeatingQC_Gd', 'Alley_No Alley', 'LandContour_Bnk', 'BsmtFinType1_Unf', 'Fence_MnWw', 'LotShape_IR3', 'MasVnrType_BrkCmn', 'Condition2_PosA', 'MSSubClass', 'GarageQual_No garage', 'MiscFeature_Gar2', 'HouseStyle_1.5Fin', 'BsmtQual_Ex', 'MSZoning_RM', 'RoofStyle_Gambrel', 'Heating_Wall', 'Functional_Sev', 'Neighborhood_Timber', 'Condition2_RRAn', 'Exterior1st_Stucco', 'Functional_Min1', 'RoofMatl_Roll', 'Condition1_PosN', 'LandSlope_Sev', 'Street_Grvl', 'LandSlope_Gtl', 'LandContour_Lvl', 'RoofStyle_Shed', 'KitchenQual_Ex', 'YrSold', 'LotConfig_FR2', 'ExterCond_Fa', 'Neighborhood_NWAmes', 'PoolQC_Gd', 'BsmtQual_Gd', 'BldgType_2fmCon', 'MiscFeature_No MiscFeature', 'Exterior1st_Plywood', 'PoolArea', 'GarageType_CarPort', 'CentralAir_N', 'Condition1_RRAe', 'YearBuilt', 'BldgType_Duplex', 'CentralAir_Y', 'Neighborhood_Blmngtn', 'MSZoning_FV', 'LotShape_Reg', 'Neighborhood_CollgCr', 'RoofMatl_Tar&Grv', 'BsmtCond_Gd', 'ExterQual_Ex', '2ndFlrSF', 'Electrical_FuseF', 'MasVnrType_None', 'Exterior1st_BrkComm', 'ExterQual_TA', 'LandContour_Low', 'BsmtQual_No basement', 'PoolQC_Fa', 'Exterior1st_MetalSd', 'Foundation_PConc', 'Exterior1st_WdShing', 'BsmtCond_TA', 'RoofStyle_Flat', 'Exterior1st_CemntBd', 'SaleType_COD', 'SaleType_WD', 'HouseStyle_2Story', 'PoolQC_No PoolQC', 'FireplaceQu_Gd', 'Exterior1st_Stone', 'GarageQual_Gd', 'PavedDrive_P', 'BsmtFinSF1', 'FullBath', 'Condition1_Norm', 'BsmtFinType2_LwQ', 'KitchenAbvGr', 'HeatingQC_Po', 'Alley_Grvl', 'HouseStyle_SLvl', 'Neighborhood_NridgHt', 'Utilities_NoSeWa', 'Neighborhood_Crawfor', 'Neighborhood_Sawyer', 'MiscFeature_Othr', 'MoSold', 'BsmtCond_Po', 'RoofStyle_Hip', 'Condition2_Norm', 'GarageArea', 'SaleType_ConLI', 'RoofMatl_ClyTile', 'BsmtExposure_Gd', 'TotRmsAbvGrd', 'GarageQual_Po', 'GarageType_No garage', 'BsmtFinSF2', 'Condition2_RRAe', 'ExterQual_Gd', 'Alley_Pave', 'HeatingQC_Ex', 'BsmtFinType1_No basement', 'GarageQual_Ex', 'MiscFeature_Shed', 'BsmtFinType1_Rec', 'Exterior1st_AsbShng', 'Condition2_RRNn', 'BsmtFinType1_ALQ', 'GarageType_Attchd', 'BsmtFinType2_No basement', 'GarageQual_TA', 'Neighborhood_BrkSide', 'MiscVal', 'Neighborhood_NoRidge', 'Electrical_Mix', 'Neighborhood_BrDale', 'Neighborhood_Veenker', 'Fireplaces', 'Neighborhood_IDOTRR', 'GarageType_Detchd', 'LowQualFinSF', 'RoofMatl_Metal', 'SaleCondition_Normal', 'GarageType_BuiltIn', 'LotConfig_Corner', 'GarageType_2Types', 'FireplaceQu_No FireplaceQu', 'Functional_Maj1', 'GarageType_Basment', 'Heating_GasW', 'Condition1_RRNn', 'Foundation_CBlock', 'YearRemodAdd', 'RoofMatl_Membran', 'BldgType_Twnhs', 'Neighborhood_Somerst', 'HouseStyle_1.5Unf', 'ExterCond_TA', 'Fence_GdWo', 'GrLivArea', 'Exterior1st_HdBoard', 'HalfBath', 'Exterior1st_VinylSd', 'SaleType_Oth', 'RoofMatl_CompShg', 'MSZoning_C (all)', 'KitchenQual_Gd', 'Neighborhood_ClearCr', 'Neighborhood_NPkVill', 'BsmtUnfSF', 'BldgType_1Fam', 'SaleType_CWD', 'LotConfig_Inside', 'Neighborhood_SawyerW', 'MasVnrType_Stone', 'PavedDrive_N', 'Electrical_FuseA', 'Functional_Mod', 'Fence_MnPrv', 'Electrical_SBrkr', 'LandContour_HLS', 'Neighborhood_OldTown', 'HeatingQC_Fa', 'OverallCond', 'SaleCondition_Abnorml', 'Neighborhood_MeadowV', 'Condition1_Feedr', 'SaleCondition_AdjLand', 'BsmtExposure_No basement', 'BsmtHalfBath', 'KitchenQual_TA', 'MiscFeature_TenC', 'BsmtFinType2_GLQ', 'Utilities_AllPub', 'ExterCond_Gd', 'BsmtFinType1_GLQ', 'MasVnrType_BrkFace', 'Exterior1st_ImStucc', 'Foundation_Stone', 'RoofStyle_Gable', 'Neighborhood_Gilbert', 'Neighborhood_Mitchel', 'HouseStyle_2.5Unf', 'BsmtExposure_Av', 'Functional_Typ', 'FireplaceQu_TA', 'BedroomAbvGr', 'BsmtCond_Fa', 'GarageQual_Fa', 'Electrical_FuseP', 'BsmtQual_Fa', 'Functional_Maj2', 'SaleType_ConLD', 'Condition2_PosN', 'Fence_GdPrv', 'ExterCond_Po', 'BsmtExposure_No', 'Neighborhood_NAmes', 'SaleCondition_Family', 'SaleType_Con', 'Condition2_Feedr', 'LotShape_IR2', 'Exterior1st_Wd Sdng', 'PoolQC_Ex', 'LandSlope_Mod', 'BsmtFinType2_ALQ', 'LotConfig_FR3', 'Heating_GasA', 'ScreenPorch', 'MSZoning_RL', 'FireplaceQu_Fa', 'RoofMatl_WdShake', 'BsmtQual_TA', 'LotArea', 'Neighborhood_Edwards', 'BsmtFinType1_BLQ', 'Street_Pave', 'Condition1_RRAn', 'Foundation_Wood', '3SsnPorch', 'SaleCondition_Partial', 'Neighborhood_SWISU', 'Heating_Floor', 'HouseStyle_2.5Fin', 'MasVnrArea', 'WoodDeckSF', 'LotShape_IR1', 'OverallQual', 'Exterior1st_AsphShn', 'BsmtFinType2_Rec', 'OpenPorchSF', 'SaleType_New', 'LotConfig_CulDSac', 'BsmtCond_No basement', 'ExterQual_Fa']\n"
     ]
    }
   ],
   "source": [
    "featToTest = list(set(features) - set(newFeatures))\n",
    "print(featToTest)"
   ]
  },
  {
   "cell_type": "markdown",
   "metadata": {},
   "source": [
    "### 2.2.3 Limiting Number of variables to those mostly correlated with dependent variable"
   ]
  },
  {
   "cell_type": "markdown",
   "metadata": {},
   "source": [
    "After recoding nominal variables to dummy our dataset got really big. It has now 263 columns. Therefore there is a serious need to cut down the number of variables. First we will filter our variables to find those which are mostly correlated with dependent variable. We will consider only those variables which correltion (in absolute terms) is greater than 0.4"
   ]
  },
  {
   "cell_type": "code",
   "execution_count": 28,
   "metadata": {},
   "outputs": [],
   "source": [
    "### Jest tylko pytanie, czy takie podejście jest akceptowalne. Wcześniej zrobiłem ten hot encoding \n",
    "### czyli binaryzację zmiennych nominalnych i jest pytanie, czy stosując takie odcięcie jak 40% \n",
    "### to nie będzie to jakimś wypaczeniem. Jest wtedy ryzyko, że część zmiennych zbinaryzowanych, które kiedyś były\n",
    "### jedną zmienną znajdzie się w uszczuplonym datasecie, a część zostanie wyrzucona. Do przegadania!!!"
   ]
  },
  {
   "cell_type": "code",
   "execution_count": 29,
   "metadata": {
    "scrolled": true
   },
   "outputs": [],
   "source": [
    "# corr_1 = data.corr()\n",
    "\n",
    "\n",
    "# most_correlated_with_SalePrice = corr_1.SalePrice.to_dict()\n",
    "# most_correlated_with_SalePrice_fin = {}\n",
    "\n",
    "# for k, v in most_correlated_with_SalePrice.items():\n",
    "#     if abs(v) > 0.4:\n",
    "#         most_correlated_with_SalePrice_fin[k] = abs(v)\n",
    "    \n",
    "        \n",
    "# most_correlated_with_SalePrice_fin = sorted(most_correlated_with_SalePrice_fin.items(), key=lambda kv: kv[1], reverse=True)\n",
    "\n",
    "# most_correlated_names = []\n",
    "\n",
    "# for x in most_correlated_with_SalePrice_fin:\n",
    "#     most_correlated_names.append(x[0])\n",
    "\n",
    "# most_correlated_with_SalePrice_fin"
   ]
  },
  {
   "cell_type": "markdown",
   "metadata": {},
   "source": [
    "Now we can see the most correlated variables with SalePrice in terms of absolute values. We can limit our dataset to those variables. We are left with 23 independent variables"
   ]
  },
  {
   "cell_type": "code",
   "execution_count": 30,
   "metadata": {},
   "outputs": [],
   "source": [
    "# data = data[most_correlated_names]"
   ]
  },
  {
   "cell_type": "code",
   "execution_count": 31,
   "metadata": {
    "scrolled": false
   },
   "outputs": [],
   "source": [
    "# data.head()"
   ]
  },
  {
   "cell_type": "markdown",
   "metadata": {},
   "source": [
    "Now we verify if the remaining variables are not constant"
   ]
  },
  {
   "cell_type": "code",
   "execution_count": 32,
   "metadata": {},
   "outputs": [],
   "source": [
    "# constant_filter = VarianceThreshold(threshold=0)\n",
    "# constant_filter.fit(data)\n",
    "# len(data.columns[constant_filter.get_support()])  "
   ]
  },
  {
   "cell_type": "markdown",
   "metadata": {},
   "source": [
    "All the variables left are not constant"
   ]
  },
  {
   "cell_type": "markdown",
   "metadata": {},
   "source": [
    "# Rzeczy do zrobienia"
   ]
  },
  {
   "cell_type": "markdown",
   "metadata": {},
   "source": [
    "1. Zrobiłem właściwie całe feature selection i teraz jest pytanie co dalej. W sensie z tego co przeczytałem, to dzielenie datasetu, w którym zostało już zrobione feature selection na testowy i trainingowy nie jest dobrym podejściem. No i w ogóle jest pytanie, na którym etapie ten feature selection powinien wystąpić, żeby zredukować ryzyko jakichś przekłamań. Znasz na to odpowiedź? Znalazłem kilka odpowiedzi, które przejrzałem raczej pobieżnie na razie, ale wskazują one, że ten feature selection powinien znaleźć się jakoś w pętli (jest coś takiego jak K-Fold cross validation) wspomniane tutaj: https://stats.stackexchange.com/questions/64825/should-feature-selection-be-performed-only-on-training-data-or-all-data\n",
    "\n",
    "https://stats.stackexchange.com/questions/250803/feature-selection-on-training-and-test-data\n",
    "\n",
    "https://stats.stackexchange.com/questions/390036/feature-selection-on-training-set-without-cross-validation\n",
    "\n",
    "https://machinelearningmastery.com/an-introduction-to-feature-selection/\n",
    "\n",
    "2. Teraz jest pytanie, czy ty jakoś czaisz bazę na ten temat"
   ]
  },
  {
   "cell_type": "markdown",
   "metadata": {},
   "source": [
    "KK 21.05.2019\n",
    "Zrobione: przejrzałam całość, dodałam jeszcze association dla danych typu categorical bo tutaj też są niepotrzebne zmienne, usunęłam rok zbudowania garażu.\n",
    "Feature selection rzeczywiście trzeba będzie zrobić za pomocą nested cross-validation, ale to już jutro."
   ]
  }
 ],
 "metadata": {
  "kernelspec": {
   "display_name": "Python 3",
   "language": "python",
   "name": "python3"
  },
  "language_info": {
   "codemirror_mode": {
    "name": "ipython",
    "version": 3
   },
   "file_extension": ".py",
   "mimetype": "text/x-python",
   "name": "python",
   "nbconvert_exporter": "python",
   "pygments_lexer": "ipython3",
   "version": "3.7.0"
  }
 },
 "nbformat": 4,
 "nbformat_minor": 2
}
